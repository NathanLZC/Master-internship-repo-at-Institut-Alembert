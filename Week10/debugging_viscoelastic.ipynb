{
 "cells": [
  {
   "cell_type": "markdown",
   "metadata": {},
   "source": [
    "### Viscoelastic contact with consrained conjugate gradient method"
   ]
  },
  {
   "cell_type": "markdown",
   "metadata": {},
   "source": [
    "Based on the discussion on 29/03/2024, we have determined several parameters like shear modulus $G$ and Prony series for zener model with Kelvin representation, and we apply a comparison with Hertz solution for Kelvin representation."
   ]
  },
  {
   "cell_type": "markdown",
   "metadata": {},
   "source": [
    "![](figures/Representation_of_the_Standard_Linear_Solid.jpg)"
   ]
  },
  {
   "cell_type": "markdown",
   "metadata": {},
   "source": [
    "Let's analysis step by step. First we consider an elastic material to check our backward Euler method."
   ]
  },
  {
   "cell_type": "code",
   "execution_count": null,
   "metadata": {},
   "outputs": [],
   "source": [
    "import numpy as np\n",
    "import matplotlib.pyplot as plt\n",
    "#define input parameters\n",
    "##time\n",
    "t0 = 0\n",
    "t1 = 1\n",
    "dt = (t1 - t0)/50\n",
    "##load(constant)\n",
    "W = 1e0  # Total load\n",
    "\n",
    "#domain size\n",
    "R = 1  # Radius of demi-sphere\n",
    "L = 2  # Domain size\n",
    "Radius = 0.5\n",
    "S = L**2  # Domain area\n",
    "\n",
    "# Generate a 2D coordinate space\n",
    "n = 300\n",
    "m = 300\n",
    "\n",
    "x, y = np.meshgrid(np.linspace(0, L, n, endpoint=False), np.linspace(0, L, m, endpoint=False))\n",
    "\n",
    "x0 = 1\n",
    "y0 = 1\n",
    "\n",
    "##################################################################\n",
    "#####First just apply for demi-sphere and compare with Hertz######\n",
    "##################################################################\n",
    "\n",
    "# We define the distance from the center of the sphere\n",
    "r = np.sqrt((x-x0)**2 + (y-y0)**2)\n",
    "\n",
    "# Define the kernel in the Fourier domain\n",
    "q_x = 2 * np.pi * np.fft.fftfreq(n, d=L/n)\n",
    "q_y = 2 * np.pi * np.fft.fftfreq(m, d=L/m)\n",
    "QX, QY = np.meshgrid(q_x, q_y)\n",
    "\n",
    "kernel_fourier = np.zeros_like(QX)\n",
    "kernel_fourier = 2 / (E_star * np.sqrt(QX**2 + QY**2))\n",
    "kernel_fourier[0, 0] = 0  # Avoid division by zero at the zero frequency\n",
    "\n",
    "\n",
    "h_profile = -(r**2)/(2*Radius)\n",
    "\n",
    "def apply_integration_operator(Origin, kernel_fourier, h_profile):\n",
    "    # Compute the Fourier transform of the input image\n",
    "    Origin2fourier = np.fft.fft2(Origin, norm='ortho')\n",
    "\n",
    "    Middle_fourier = Origin2fourier * kernel_fourier\n",
    "\n",
    "    Middle = np.fft.ifft2(Middle_fourier, norm='ortho').real\n",
    "\n",
    "    Gradient = Middle - h_profile\n",
    "\n",
    "    return Gradient, Origin2fourier#true gradient\n"
   ]
  },
  {
   "cell_type": "code",
   "execution_count": null,
   "metadata": {},
   "outputs": [],
   "source": [
    "def contact_solver(n, m, W, S, E_star, h_profile, tol=1e-6, iter_max=200):\n",
    "    \n",
    "\n",
    "    # Initial pressure distribution\n",
    "    P = np.full((n, m), W / S)  # Initial guess for the pressure\n",
    "\n",
    "    #initialize the search direction\n",
    "    T = np.zeros((n, m))\n",
    "\n",
    "    #set the norm of surface(to normalze the error)\n",
    "    h_rms = np.std(h_profile)\n",
    "\n",
    "    #initialize G_norm and G_old\n",
    "    G_norm = 0\n",
    "    G_old = 1\n",
    "\n",
    "    #initialize delta\n",
    "    delta = 0\n",
    "\n",
    "    # Initialize variables for the iteration\n",
    "    k = 0  # Iteration counter\n",
    "    error = np.inf  # Initialize error\n",
    "    h_rms = np.std(h_profile)\n",
    "\n",
    "    while np.abs(error) > tol and k < iter_max:\n",
    "    # try np.where(P > 0) to find the contact area\n",
    "        S = P > 0\n",
    "\n",
    "        #encapsulate into a function\n",
    "\n",
    "        # Calculate the gap G(as Gradient, see Lucas(2020)) in the Fourier domain and transform it back to the spatial domain\n",
    "        #P_fourier = np.fft.fft2(P, norm='ortho')\n",
    "        #G_fourier = P_fourier * kernel_fourier\n",
    "        #G = np.fft.ifft2(G_fourier, norm='ortho').real - h_profile\n",
    "        ##function\n",
    "\n",
    "        G, P_fourier = apply_integration_operator(P, kernel_fourier, h_profile)\n",
    "\n",
    "        G -= G[S].mean()\n",
    "\n",
    "        G_norm = np.linalg.norm(G[S])**2\n",
    "\n",
    "        # Calculate the search direction\n",
    "        T[S] = G[S] + delta * G_norm / G_old * T[S]\n",
    "        T[~S] = 0  ## out of contact area, dont need to update\n",
    "        ## size dont match\n",
    "\n",
    "        # Update G_old\n",
    "        G_old = G_norm\n",
    "\n",
    "        # Set R\n",
    "        R, T_fourier  = apply_integration_operator(T, kernel_fourier, h_profile)\n",
    "        R += h_profile\n",
    "        R -= R[S].mean()\n",
    "\n",
    "        # Calculate the step size tau\n",
    "        #######\n",
    "        tau = np.vdot(G[S], T[S]) / np.vdot(R[S], T[S])\n",
    "\n",
    "        # Update P\n",
    "        P -= tau * T        \n",
    "        P *= P > 0\n",
    "\n",
    "        # identify the inadmissible points\n",
    "        R = (P == 0) & (G < 0)\n",
    "\n",
    "        if R.sum() == 0:\n",
    "            delta = 1\n",
    "        else:\n",
    "            delta = 0#change the contact point set and need to do conjugate gradient again\n",
    "\n",
    "        # Apply positive pressure on inadmissible points       \n",
    "        #P[R] -= tau * G[R]\n",
    "\n",
    "\n",
    "        # Enforce the applied force constraint\n",
    "        P = W * P / np.mean(P) / L**2  ## be wise here#############\n",
    "        ##############################\n",
    "\n",
    "\n",
    "\n",
    "        # Calculate the error for convergence checking\n",
    "        error = np.vdot(P, (G - np.min(G))) / (P.sum()*h_rms) \n",
    "        print(delta, error, k, np.mean(P), np.mean(P>0), tau)\n",
    "        \n",
    "        k += 1  # Increment the iteration counter\n",
    "\n",
    "\n",
    "    # Ensure a positive gap by updating G\n",
    "    G = G - np.min(G)\n",
    "\n",
    "    displacement_fourier = P_fourier * kernel_fourier\n",
    "    displacement = np.fft.ifft2(displacement_fourier, norm='ortho').real\n",
    "\n",
    "    return displacement, P\n",
    "\n"
   ]
  },
  {
   "cell_type": "code",
   "execution_count": null,
   "metadata": {},
   "outputs": [],
   "source": [
    "\n",
    "#first we only consider one branch\n",
    "G_0 = 2.75  # MPa\n",
    "G_1 = 2.75  # MPa\n",
    "G_inf = 1/(1/G_0 + 1/G_1)  # MPa"
   ]
  },
  {
   "cell_type": "markdown",
   "metadata": {},
   "source": [
    "The relaxation time  $\\tau_0$ (or called the characteristic time of the creep compliance function[1]) is typically defined as the ratio of the dashpot's viscosity $\\eta_0$ to the spring's modulus $G_1$ that it is in parallel with, not the series spring modulus $G_0$. So, it would be:\n",
    "\n",
    "$$ \\tau_0 = \\frac{\\eta_1}{G_1} $$\n",
    "\n",
    "Then for elastic material, $\\tau_0$ should be set 0."
   ]
  },
  {
   "cell_type": "code",
   "execution_count": null,
   "metadata": {},
   "outputs": [],
   "source": [
    "tau_0 = 0  # s\n",
    "eta_1 = G_1 * tau_0  # Characteristic time"
   ]
  },
  {
   "cell_type": "markdown",
   "metadata": {},
   "source": []
  },
  {
   "cell_type": "code",
   "execution_count": null,
   "metadata": {},
   "outputs": [],
   "source": [
    "E = 3  # Young's modulus\n",
    "nu = 0.5\n",
    "E_star = E / (1 - nu**2)  # Plane strain modulus"
   ]
  },
  {
   "cell_type": "code",
   "execution_count": null,
   "metadata": {},
   "outputs": [],
   "source": []
  },
  {
   "cell_type": "code",
   "execution_count": null,
   "metadata": {},
   "outputs": [],
   "source": [
    "#######################################\n",
    "###if we let k_branch=1, we can compare the real contact area with hertz solution at t=0 and t>>\\tau_0\n",
    "#######################################\n",
    "k_branch = 1\n",
    "\n",
    "alpha = G_inf + (G_1 + eta_1/dt)/(1 + G_1/G_0 + eta_1/G_0/dt)\n",
    "beta = (eta_1/dt)/(1+G_1/G_0+eta_1/G_0/dt)\n",
    "gamma = (eta_1/G_0/dt)/(1+G_1/G_0+eta_1/G_0/dt)\n",
    "\n",
    "Surface = h_profile\n",
    "\n",
    "U = np.zeros((n, m))\n",
    "M = np.zeros((n, m))\n",
    "\n",
    "Ac=[]\n",
    "\n",
    "for t in np.arange(t0, t1, dt):\n",
    "    #main step0: Update the effective modulus\n",
    "    #effictive modulus\n",
    "    #G_t = G_inf + G_1 * np.exp(-t/tau_0)\n",
    "\n",
    "    #E_star = G_t\n",
    "    \n",
    "\n",
    "    #main step1: Update the surface profile\n",
    "    H_new = alpha*Surface - beta*U + gamma*M\n",
    "\n",
    "    #main step2: Update the displacement field\n",
    "    U_new, P = contact_solver(n, m, W, S, E_star, H_new, tol=1e-6, iter_max=200)\n",
    "    ###const no need to update the loading field W_new\n",
    "\n",
    "\n",
    "    Ac.append(np.mean(P > 0)*S)\n",
    "\n",
    "\n",
    "\n",
    "    #main step3: Update the partial displacement field\n",
    "    M = (G_0*dt/((G_0+G_1)*dt+eta_1))*(eta_1*M /G_0/dt + (G_1+eta_1/dt)*U_new -eta_1*U/dt)\n",
    "\n",
    "    #main step4: Update the total displacement field\n",
    "    U = U_new"
   ]
  },
  {
   "cell_type": "markdown",
   "metadata": {},
   "source": [
    "#### Hertz solution reference\n",
    "\n",
    "Prony series for kelvin model can be expressed as:\n",
    "\n",
    "$$\n",
    "G_t=G_{\\infty}+\\left(G_0-G_{\\infty}\\right) e^{-t / t_0}\n",
    "$$"
   ]
  },
  {
   "cell_type": "code",
   "execution_count": null,
   "metadata": {},
   "outputs": [],
   "source": []
  },
  {
   "cell_type": "code",
   "execution_count": null,
   "metadata": {},
   "outputs": [],
   "source": []
  },
  {
   "cell_type": "markdown",
   "metadata": {},
   "source": []
  },
  {
   "cell_type": "markdown",
   "metadata": {},
   "source": [
    "### Reference:\n",
    "\n",
    "[1] Bugnicourt, R., P. Sainsot, N. Lesaffre, and A.A. Lubrecht. ‘Transient Frictionless Contact of a Rough Rigid Surface on a Viscoelastic Half-Space’. Tribology International 113 (September 2017): 279–85. https://doi.org/10.1016/j.triboint.2017.01.032.\n",
    "\n",
    "[2] Van Dokkum, Jan Steven, and Lucia Nicola. ‘Green’s Function Molecular Dynamics Including Viscoelasticity’. Modelling and Simulation in Materials Science and Engineering 27, no. 7 (1 October 2019): 075006. https://doi.org/10.1088/1361-651X/ab3031."
   ]
  },
  {
   "cell_type": "markdown",
   "metadata": {},
   "source": []
  }
 ],
 "metadata": {
  "kernelspec": {
   "display_name": "Python 3",
   "language": "python",
   "name": "python3"
  },
  "language_info": {
   "name": "python",
   "version": "3.10.6"
  }
 },
 "nbformat": 4,
 "nbformat_minor": 2
}
