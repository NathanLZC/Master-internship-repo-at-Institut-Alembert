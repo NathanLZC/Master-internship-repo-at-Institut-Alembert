{
 "cells": [
  {
   "cell_type": "markdown",
   "metadata": {},
   "source": [
    "##### Fourier transform means to transform a signal from real space to frequency space. \n",
    "\n",
    "The Fourier transform of a function f(t) is given by the following equation:\n",
    "\n",
    "$$\n",
    "H(f)=\\int_{-\\infty}^{\\infty} h(t) e^{-2 \\pi i f t} d t\n",
    "$$\n",
    "\n",
    "And its inverse transform can be given as:\n",
    "\n",
    "$$\n",
    "h(t)=\\int_{-\\infty}^{\\infty} H(f) e^{2 \\pi i f t} d f\n",
    "$$\n",
    "\n",
    "However, if we want to implement Fourier Transform on computer, we have to discretize this formula, at which we need *Discrete Fourier Transform*:\n",
    "\n",
    "$$\n",
    "H(f)=\\int_{-\\infty}^{\\infty} h(t) e^{-2 \\pi i f t} d t \\approx \\sum_{k=0}^{N-1} h_k e^{-2 \\pi i f_n t_k} \\Delta\n",
    "$$\n",
    "\n",
    "However, the complexity of DFT is $O\\left(N^2\\right)$, which limits its computation capacity. In 1965, James Cooley and John Tukey developped *Fast Fourier transform*, which has a complexity of $N \\times \\log _2(N)$. Before this, in 1942, Danielson and Lanczos has started their discussion that any DTF can be rewroten to be the sum of two DFT.\n",
    "\n",
    "$$\n",
    "\\begin{aligned}\n",
    "F_k & =\\sum_{j=0}^{N-1} e^{2 \\pi i j k / N} f_j \\\\\n",
    "& =\\sum_{j=0}^{N / 2-1} e^{2 \\pi i k(2 j) / N} f_{2 j}+\\sum_{j=0}^{N / 2-1} e^{2 \\pi i k(2 j+1) / N} f_{2 j+1} \\\\\n",
    "& =\\sum_{j=0}^{N / 2-1} e^{2 \\pi i k j /(N / 2)} f_{2 j}+W^k \\sum_{j=0}^{N / 2-1} e^{2 \\pi i k j /(N / 2)} f_{2 j+1} \\\\\n",
    "& =F_k^e+W^k F_k^o\n",
    "\\end{aligned}\n",
    "$$\n",
    "\n",
    "Mathematicians further discovered that this *DFT* group was divided into two. One was composed of the original even terms (even numbers, 0, 2, 4, 6... terms), while the other was composed of the original odd terms (odd numbers).\n",
    "\n"
   ]
  },
  {
   "cell_type": "markdown",
   "metadata": {},
   "source": [
    "![DFT_process](figures/DFT_process.png)\n",
    "\n",
    "Every time we perform an operation, half of the calculations can be reduced. In this way we reduce the amount of calculation from $O\\left(N^2\\right)$ to $N \\times \\log _2(N)$. Here are some examples:\n",
    "\n",
    "$$\n",
    "\\begin{aligned}\n",
    "& N=1024, N / \\log _2(N) \\sim 102 \\\\\n",
    "& N=8192, N / \\log _2(N) \\sim 630 \\\\\n",
    "& N=32768, N / \\log _2(N) \\sim 2185 \\\\\n",
    "& N=10^6, N / \\log _2(N) \\sim 50171\n",
    "\\end{aligned}\n",
    "$$"
   ]
  },
  {
   "cell_type": "markdown",
   "metadata": {},
   "source": [
    "Butterfly diagram\n",
    "\n",
    "![Butterfly diagram](figures/butterfly_diagram.png)"
   ]
  },
  {
   "cell_type": "markdown",
   "metadata": {},
   "source": [
    "Here is an FFT example in Fortran:"
   ]
  },
  {
   "cell_type": "markdown",
   "metadata": {},
   "source": [
    "```bash\n",
    "! Cooley-Tukey FFT\n",
    "recursive subroutine fft(x,sgn)\n",
    "\n",
    "    implicit none\n",
    "    integer, intent(in) :: sgn\n",
    "    complex(8), dimension(:), intent(inout) :: x\n",
    "    complex(8) :: t\n",
    "    integer :: N\n",
    "    integer :: i\n",
    "    complex(8), dimension(:), allocatable :: even, odd\n",
    "\n",
    "    N=size(x)\n",
    "\n",
    "    if(N .le. 1) return\n",
    "\n",
    "    allocate(odd((N+1)/2))\n",
    "    allocate(even(N/2))\n",
    "\n",
    "    ! divide\n",
    "    odd =x(1:N:2)\n",
    "    even=x(2:N:2)\n",
    "\n",
    "    ! conquer\n",
    "    call fft(odd, sgn)\n",
    "    call fft\n",
    "\n",
    "(even, sgn)\n",
    "\n",
    "    ! combine\n",
    "    do i=1,N/2\n",
    "        t=exp(cmplx(0.0d0,sgn*2.0d0*pi*(i-1)/N))*even(i)\n",
    "        x(i)     = odd(i) + t\n",
    "        x(i+N/2) = odd(i) - t\n",
    "    end do\n",
    "\n",
    "    deallocate(odd)\n",
    "    deallocate(even)\n",
    "\n",
    "end subroutine fft\n",
    "```"
   ]
  },
  {
   "cell_type": "markdown",
   "metadata": {},
   "source": [
    "## Reference:\n",
    "\n",
    "[1] https://rosettacode.org/wiki/Fast_Fourier_transform#C++\n",
    "\n",
    "[2] https://www.zhihu.com/question/358255792/answer/973149066\n",
    "\n",
    "[3] books on zhihu for fft\n",
    "\n",
    "[4] Albert Boggess, Francis J. Narcowich,*A First Course in Wavelets with Fourier Analysis*, 2nd Edition, 2009\n",
    "\n",
    "[5] https://en.wikipedia.org/wiki/Butterfly_diagram"
   ]
  },
  {
   "cell_type": "markdown",
   "metadata": {},
   "source": []
  }
 ],
 "metadata": {
  "language_info": {
   "name": "python"
  }
 },
 "nbformat": 4,
 "nbformat_minor": 2
}
