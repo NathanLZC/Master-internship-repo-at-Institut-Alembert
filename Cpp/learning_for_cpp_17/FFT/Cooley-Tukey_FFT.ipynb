{
 "cells": [
  {
   "cell_type": "markdown",
   "metadata": {},
   "source": [
    "##### Fourier transform means to transform a signal from real space to frequency space. \n",
    "\n",
    "The Fourier transform of a function f(t) is given by the following equation:\n",
    "\n",
    "$$\n",
    "H(f)=\\int_{-\\infty}^{\\infty} h(t) e^{-2 \\pi i f t} d t\n",
    "$$\n",
    "\n",
    "And its inverse transform can be given as:\n",
    "\n",
    "$$\n",
    "h(t)=\\int_{-\\infty}^{\\infty} H(f) e^{2 \\pi i f t} d f\n",
    "$$\n",
    "\n",
    "However, if we want to implement Fourier Transform on computer, we have to discretize this formula, at which we need *Discrete Fourier Transform*:\n",
    "\n",
    "$$\n",
    "H(f)=\\int_{-\\infty}^{\\infty} h(t) e^{-2 \\pi i f t} d t \\approx \\sum_{k=0}^{N-1} h_k e^{-2 \\pi i f_n t_k} \\Delta\n",
    "$$\n",
    "\n",
    "However, the complexity of DFT is $O\\left(N^2\\right)$, which limits its computation capacity. In 1965, James Cooley and John Tukey developped *Fast Fourier transform*, which has a complexity of $N \\times \\log _2(N)$. Before this, Danielson and Lanczos has started their discussion that any DTF can be rewroten to be the sum of two DFT.\n",
    "\n",
    "$$\n",
    "\\begin{aligned}\n",
    "F_k & =\\sum_{j=0}^{N-1} e^{2 \\pi i j k / N} f_j \\\\\n",
    "& =\\sum_{j=0}^{N / 2-1} e^{2 \\pi i k(2 j) / N} f_{2 j}+\\sum_{j=0}^{N / 2-1} e^{2 \\pi i k(2 j+1) / N} f_{2 j+1} \\\\\n",
    "& =\\sum_{j=0}^{N / 2-1} e^{2 \\pi i k j /(N / 2)} f_{2 j}+W^k \\sum_{j=0}^{N / 2-1} e^{2 \\pi i k j /(N / 2)} f_{2 j+1} \\\\\n",
    "& =F_k^e+W^k F_k^o\n",
    "\\end{aligned}\n",
    "$$\n",
    "\n"
   ]
  },
  {
   "cell_type": "markdown",
   "metadata": {},
   "source": []
  },
  {
   "cell_type": "markdown",
   "metadata": {},
   "source": [
    "## Reference:\n",
    "\n",
    "[1] https://rosettacode.org/wiki/Fast_Fourier_transform#C++\n",
    "\n",
    "[2] https://www.zhihu.com/question/358255792/answer/973149066\n",
    "\n",
    "[3] books on zhihu for fft\n",
    "\n",
    "[4] books on zhihu for wavelet"
   ]
  },
  {
   "cell_type": "markdown",
   "metadata": {},
   "source": []
  }
 ],
 "metadata": {
  "language_info": {
   "name": "python"
  }
 },
 "nbformat": 4,
 "nbformat_minor": 2
}
