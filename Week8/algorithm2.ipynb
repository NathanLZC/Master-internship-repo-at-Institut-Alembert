{
 "cells": [
  {
   "cell_type": "markdown",
   "metadata": {},
   "source": [
    "Here's the algorithm described in the provided LaTeX style, formatted into Markdown with LaTeX math expressions:\n",
    "\n",
    "### Algorithm 2: Polonsky and Keer (1999b) Constrained Conjugate Gradient Algorithm.\n",
    "\n",
    "**Inputs:** normal total load $W$, surface profile $\\mathbf{H}$, tolerance $\\varepsilon$, maximum number of iterations $N_{\\text{max}}$.\n",
    "\n",
    "1. Initialize $\\mathbf{P}$ with the average constant load initial guess:\n",
    "   $$ \\mathbf{P} \\leftarrow \\frac{W}{|\\partial \\beta_p|} $$\n",
    "2. Set search direction $\\mathbf{T}$ to zero:\n",
    "   $$ \\mathbf{T} \\leftarrow 0 $$\n",
    "3. Set $h_{\\text{norm}}$ to the norm of $\\mathbf{H}$:\n",
    "   $$ h_{\\text{norm}} \\leftarrow \\|\\mathbf{H}\\| $$\n",
    "4. Initialize $G$ to zero and $G_{\\text{old}}$ to one:\n",
    "   $$ G \\leftarrow 0, \\quad G_{\\text{old}} \\leftarrow 1 $$\n",
    "5. Initialize $\\delta$ to zero:\n",
    "   $$ \\delta \\leftarrow 0 $$\n",
    "6. Set iteration counter $k$ to zero:\n",
    "   $$ k \\leftarrow 0 $$\n"
   ]
  },
  {
   "cell_type": "markdown",
   "metadata": {},
   "source": [
    "\n",
    "**Repeat until** $e < \\varepsilon$ **or** $k > N_{\\text{max}}$:\n",
    "\n",
    "7. Identify the set of current points in contact $S$ where $\\mathbf{P} > 0$:\n",
    "   $$ S \\leftarrow \\text{where}(\\mathbf{P} > 0) $$\n",
    "8. Calculate the gradient $\\mathbf{G}$:\n",
    "   $$ \\mathbf{G} \\leftarrow \\nabla I $$\n",
    "9. Center on contact zone by updating $\\mathbf{G}$:\n",
    "   $$ \\mathbf{G} \\leftarrow \\mathbf{G} - \\text{mean}(\\mathbf{G}|_S) $$\n",
    "10. Normalize $\\mathbf{G}$:\n",
    "    $$ G \\leftarrow \\left\\| \\mathbf{G}|_S \\right\\|^2 $$\n",
    "11. Update only in the current contact zone $\\mathbf{T}|_S$:\n",
    "    $$ \\mathbf{T}|_S \\leftarrow \\mathbf{G}|_S + \\delta \\frac{G}{G_{\\text{old}}} \\mathbf{T}|_S $$\n",
    "12. Update $G_{\\text{old}}$: \n",
    "    $$ G_{\\text{old}} \\leftarrow G $$\n",
    "13. Set $\\mathbf{R}$:\n",
    "    $$ \\mathbf{R} \\leftarrow \\mathcal{M}[\\mathbf{T}] $$\n",
    "14. Center on contact zone by updating $\\mathbf{R}$:\n",
    "    $$ \\mathbf{R} \\leftarrow \\mathbf{R} - \\text{mean}(\\mathbf{R}|_S) $$\n",
    "15. Compute the critical step size $\\tau$:\n",
    "    $$ \\tau \\leftarrow \\frac{\\mathbf{G}|_S \\cdot \\mathbf{T}|_S}{\\mathbf{R}|_S \\cdot \\mathbf{T}|_S} $$\n",
    "16. Update $\\mathbf{P}$:\n",
    "    $$ \\mathbf{P} \\leftarrow (\\mathbf{P} - \\tau \\mathbf{T})_+ $$\n",
    "17. Identify the set of inadmissible points $R$ where $\\mathbf{P} = 0$ and $\\mathbf{G} < 0$:\n",
    "    $$ R \\leftarrow \\text{where}(\\mathbf{P}=0 \\text{ and } \\mathbf{G}<0) $$\n",
    "18. If $R$ is empty, set $\\delta$ to one, otherwise to zero:\n",
    "    $$ \\text{if } R = \\emptyset \\text{ then } \\delta \\leftarrow 1 \\text{ else } \\delta \\leftarrow 0 $$\n",
    "19. Apply positive pressure on inadmissible points $\\mathbf{P}|_R$:\n",
    "    $$ \\mathbf{P}|_R \\leftarrow \\mathbf{P}|_R - \\tau \\mathbf{G}|_R $$\n",
    "20. Enforce the applied force constraint on $\\mathbf{P}$:\n",
    "    $$ \\mathbf{P} \\leftarrow \\frac{W}{\\sum \\mathbf{P}} \\mathbf{P} $$\n",
    "21. Compute the error $e$:\n",
    "    $$ e \\leftarrow \\frac{\\mathbf{P} \\cdot (\\mathbf{G} - \\min(\\mathbf{G}))}{W h_{\\text{norm}}} $$\n",
    "22. Increment the iteration counter $k$:\n",
    "    $$ k = k + 1$$\n",
    "\n",
    "**After exiting the loop**:\n",
    "\n",
    "23. Ensure a positive gap by updating \\( G \\):\n",
    "    $$ \\mathbb{G} \\leftarrow \\mathbb{G}-\\min (\\mathbb{G}) $$\n",
    "\n",
    "   \n",
    "\n",
    "\n",
    "\n",
    "\n",
    "\n",
    "\n",
    "\n"
   ]
  }
 ],
 "metadata": {
  "kernelspec": {
   "display_name": "Python 3",
   "language": "python",
   "name": "python3"
  },
  "language_info": {
   "name": "python",
   "version": "3.10.6"
  }
 },
 "nbformat": 4,
 "nbformat_minor": 2
}
