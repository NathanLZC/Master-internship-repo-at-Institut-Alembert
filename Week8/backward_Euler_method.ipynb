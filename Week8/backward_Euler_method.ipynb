{
 "cells": [
  {
   "cell_type": "markdown",
   "metadata": {},
   "source": [
    "## Kelvin Representation of the Standard Linear Solid. $G_0$ and $G_1$ are the spring stiffness, $\\eta_1$ the dashpot damping coefficient.\n",
    "\n",
    "![](figures/Representation%20of%20the%20Standard%20Linear%20Solid.jpg)"
   ]
  },
  {
   "cell_type": "markdown",
   "metadata": {},
   "source": [
    "$$\n",
    "A_{z z} P_{t+\\delta t}\\left(1+\\frac{G_1}{G_0}\\right)+\\frac{\\eta_1}{G_0} A_{z z} \\frac{\\Delta P}{\\Delta t}=G_1 U_{t+\\delta t}+\\eta_1 \\frac{\\Delta U}{\\Delta t}\n",
    "$$"
   ]
  },
  {
   "cell_type": "markdown",
   "metadata": {},
   "source": [
    "$$\n",
    "\\begin{aligned}\n",
    "H^{\\prime}= & H\\left[G_{\\infty}+\\sum_k \\frac{G_1^k+\\frac{\\eta_1^k}{\\Delta t}}{1+\\frac{G_1^k}{G_0^k}+\\frac{\\eta_1^k}{G_0^k \\Delta t}}\\right]-U_t \\sum_k \\frac{\\frac{\\eta_1^k}{\\Delta t}}{1+\\frac{G_1^k}{G_0^k}+\\frac{\\eta_1^k}{G_0^k \\Delta t}} \\\\\n",
    "& +\\sum_k A_{z z} P_t^k \\frac{\\frac{\\eta_1^k}{G_0^k \\Delta t}}{1+\\frac{G_1^k}{G_0^k}+\\frac{\\eta_1^k}{G_0^k \\Delta t}}\n",
    "\\end{aligned}\n",
    "$$"
   ]
  },
  {
   "cell_type": "markdown",
   "metadata": {},
   "source": [
    "### Prony series\n",
    "\n",
    "In a one-dimensional relaxation test, the material is subjected to a sudden strain that is kept constant over the duration of the test, and the stress is measured over time. The initial stress is due to the elastic response of the material. Then, the stress relaxes over time due to the viscous effects in the material. Typically, either a tensile, compressive, bulk compression, or shear strain is applied. The resulting stress vs. time data can be fitted with a number of equations, called models. Only the notation changes depending on the type of strain applied: tensile-compressive relaxation is denoted $E$, shear is denoted $G$, bulk is denoted $K$. The Prony series for the shear relaxation is[3]:\n",
    "\n",
    "$$\n",
    "G(t)=G_{\\infty}+\\sum_{i=1}^N G_i \\exp \\left(-t / \\tau_i\\right)\n",
    "$$\n",
    "where $G_{\\infty}$ is the long term modulus once the material is totally relaxed, $\\tau_i$ are the relaxation times (not to be confused with $\\tau_i$ in the diagram); the higher their values, the longer it takes for the stress to relax.\n",
    "\n",
    "#### We first test our model for one brunch Kervin model($k=1$):\n",
    "\n",
    "The relaxation time $\\tau_1$ (or called the characteristic time of the creep compliance function[2]) is typically defined as the ratio of the dashpot's viscosity $\\eta_1$ to the spring's modulus $G_1$ that it is in parallel with, not the series spring modulus $G_0$. So, it would be:\n",
    "\n",
    "$$\n",
    "\\tau_1 = \\frac{\\eta_1}{G_1}\n",
    "$$\n",
    "\n",
    "While defining the parameters, we can choose to give $\\left(G_{\\infty}, G_i, \\tau_i\\right)$ or $\\left(G_{\\infty}, G_i, \\eta_i\\right)$"
   ]
  },
  {
   "cell_type": "markdown",
   "metadata": {},
   "source": []
  },
  {
   "cell_type": "markdown",
   "metadata": {},
   "source": [
    "## Viscoelastic contact routine (Bugnicourt et al. 2017)\n",
    "\n",
    "- **Input:** \n",
    "  - External load $W_{t+\\Delta t}$\n",
    "  - Timestep $\\Delta t$\n",
    "  - Partial displacements $\\mathbb{M}_t^k$\n",
    "  - Displacement $\\mathbb{U}_t$\n",
    "  - Surface $\\mathbb{H}$\n",
    "  - Material properties $G_\\infty$, $G_{0,1}^k$, $\\eta^k$\n",
    "\n",
    "- **Steps:**\n",
    "  1. Calculate $\\alpha$ as follows:\n",
    "     $$\\alpha = G_\\infty + \\sum_k{\\frac{G_1^k + \\frac{\\eta^k}{\\Delta t}}{1 + \\frac{G_1^k}{G_0^k} + \\frac{\\eta^k}{G_0^k\\Delta t}}}$$\n",
    "  2. Calculate $\\beta$ as follows:\n",
    "     $$\\beta = \\sum_k{\\frac{\\frac{\\eta^k}{\\Delta t}}{1 + \\frac{G_1^k}{G_0^k} + \\frac{\\eta^k}{G_0^k\\Delta t}}}$$\n",
    "  3. For each $k$, calculate $\\gamma^k$ as follows:\n",
    "     $$\\gamma^k = \\frac{\\frac{\\eta^k}{G_0^k\\Delta t}}{1 + \\frac{G_1^k}{G_0^k} + \\frac{\\eta^k}{G_0^k\\Delta t}}$$\n",
    "  4. Update $\\mathbb{H}_{t+\\Delta t}$ using $\\alpha$, $\\beta$, and $\\gamma^k$:\n",
    "     $$\\mathbb{H}_{t+\\Delta t} = \\alpha\\mathbb{H} + \\beta \\mathbb{U}_t + \\sum_k \\gamma^k \\mathbb{M}_t^k$$\n",
    "  5. Solve elastic contact for $W_{t + \\Delta t}$ and $\\mathbb{H}_{t + \\Delta t}$, obtain $\\mathbb{U}_{t + \\Delta t}$\n",
    "  6. Solve for $\\mathbb{M}_{t + \\Delta t}^k$:\n",
    "     $$\\mathbb{M}_{t + \\Delta t}^k \\left(1 + \\frac{G_1^k}{G_0^k}\\right) + \\frac{\\eta^k}{G_0^k\\Delta t}(\\mathbb{M}_{t + \\Delta t}^k - \\mathbb{M}_t^k) = G_1^k \\mathbb{U}_{t + \\Delta t} + \\frac{\\eta^k}{\\Delta t}(\\mathbb{U}_{t + \\Delta t} - \\mathbb{U}_t)$$\n",
    "\n"
   ]
  },
  {
   "cell_type": "markdown",
   "metadata": {},
   "source": [
    "### Parameter setting"
   ]
  },
  {
   "cell_type": "markdown",
   "metadata": {},
   "source": [
    "### Test for $k = 1$\n",
    "\n",
    "\n"
   ]
  },
  {
   "cell_type": "code",
   "execution_count": null,
   "metadata": {},
   "outputs": [],
   "source": []
  },
  {
   "cell_type": "code",
   "execution_count": null,
   "metadata": {},
   "outputs": [],
   "source": []
  },
  {
   "cell_type": "code",
   "execution_count": null,
   "metadata": {},
   "outputs": [],
   "source": []
  },
  {
   "cell_type": "code",
   "execution_count": null,
   "metadata": {},
   "outputs": [],
   "source": []
  },
  {
   "cell_type": "markdown",
   "metadata": {},
   "source": []
  },
  {
   "cell_type": "markdown",
   "metadata": {},
   "source": [
    "## Reference:\n",
    "\n",
    "[1] Bugnicourt, R., P. Sainsot, N. Lesaffre, and A.A. Lubrecht. ‘Transient Frictionless Contact of a Rough Rigid Surface on a Viscoelastic Half-Space’. Tribology International 113 (September 2017): 279–85. https://doi.org/10.1016/j.triboint.2017.01.032.\n",
    "\n",
    "[2] Marques, Severino P. C., and Guillermo J. Creus. Computational Viscoelasticity. SpringerBriefs in Applied Sciences and Technology. Berlin, Heidelberg: Springer Berlin Heidelberg, 2012. https://doi.org/10.1007/978-3-642-25311-9.\n",
    "\n",
    "[3] https://en.wikipedia.org/wiki/Viscoelasticity"
   ]
  },
  {
   "cell_type": "markdown",
   "metadata": {},
   "source": []
  }
 ],
 "metadata": {
  "language_info": {
   "name": "python"
  }
 },
 "nbformat": 4,
 "nbformat_minor": 2
}
