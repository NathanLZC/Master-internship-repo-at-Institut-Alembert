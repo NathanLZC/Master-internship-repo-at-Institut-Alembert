{
 "cells": [
  {
   "cell_type": "markdown",
   "metadata": {},
   "source": [
    "## Rough surfaces and statistics\n",
    "\n",
    "According to our internship topic, we will finally develop a solver that can solve the evaluation of the contact between two rough viscoelastic surfaces. Now, in this week, we want to manage an algorithm that can generate rough surfaces. Let's still base on the first chapiter of Lucas(2020)[1]."
   ]
  },
  {
   "cell_type": "markdown",
   "metadata": {},
   "source": [
    "First, we cite a figure from CMET course of Yastrebov[4] to clearify our work direction."
   ]
  },
  {
   "cell_type": "markdown",
   "metadata": {},
   "source": [
    "![Roughness_classification_according_to_Nayak](figures/Roughness_classification_according_to_Nayak.png)"
   ]
  },
  {
   "cell_type": "markdown",
   "metadata": {},
   "source": []
  },
  {
   "cell_type": "markdown",
   "metadata": {},
   "source": [
    "$$\n",
    "\\phi(\\boldsymbol{q}):=|\\mathcal{F}[h](\\boldsymbol{q})|^2\n",
    "$$v"
   ]
  },
  {
   "cell_type": "markdown",
   "metadata": {},
   "source": [
    "1. **Filtering Algorithm (Hu and Tonder, 1992):** This method is based on digital signal processing techniques. **The core idea is to use a filter to modify the spectral content of a surface profile, thereby generating roughness characteristics that resemble those of a real surface.** It often involves starting with a base surface and then applying a series of filters to introduce or amplify certain features, mimicking the statistical properties of roughness observed in real-world surfaces.\n",
    "\n",
    "2. **Random Phase Algorithm (Wu, 2000):** This approach focuses on generating surface topography by manipulating the phase information in the frequency domain. **The random phase algorithm constructs the surface by ensuring that the amplitude spectrum meets the desired roughness criteria, but with phases randomly distributed.** This randomness in phase ensures the surface exhibits the stochastic nature of real-world roughness, allowing for the generation of surfaces with specific statistical properties but without a predefined spatial pattern.\n",
    "\n",
    "Each of these algorithms has its advantages and applications, depending on the required level of detail, computational efficiency, and the specific characteristics of the rough surface to be modeled. The Filtering algorithm is particularly useful for applications where the roughness spectrum of the surface is well understood and needs to be replicated accurately. **On the other hand, the Random Phase algorithm is more suited for cases where the statistical properties of the surface are known, but the exact spatial arrangement of the roughness features is not critical, allowing for a more stochastic approach to surface generation.**\n",
    "\n"
   ]
  },
  {
   "cell_type": "markdown",
   "metadata": {},
   "source": []
  },
  {
   "cell_type": "markdown",
   "metadata": {},
   "source": [
    "Reference:\n",
    "\n",
    "[1] Frérot, Lucas Henri Galilée. ‘Bridging Scales in Wear Modeling with Volume Integral Methods for Elastic-Plastic Contact’, n.d.\n",
    "\n",
    "[2] Hu, Y.Z. and Tonder, K., 1992. Simulation of 3-D random rough surface by 2-D digital filter and Fourier analysis. International journal of machine tools and manufacture, 32(1-2), pp.83-90. DOI: 10.1016/0890-6955(92)90064-N\n",
    "\n",
    "[3] Nayak, J. Lub. Tech. (ASME) 93:398 (1971)\n",
    "\n",
    "[4] Vladislav A. Yastrebov, Contact mechanics and elements of tribology, Lecture 4.b, Contact and transport at small scales, Open Course Contact Mechanics and Elements of Tribology, January 23, 2024, https://cmet.yastrebov.fr/index.html"
   ]
  },
  {
   "cell_type": "markdown",
   "metadata": {},
   "source": []
  },
  {
   "cell_type": "markdown",
   "metadata": {},
   "source": []
  },
  {
   "cell_type": "markdown",
   "metadata": {},
   "source": []
  }
 ],
 "metadata": {
  "language_info": {
   "name": "python"
  }
 },
 "nbformat": 4,
 "nbformat_minor": 2
}
