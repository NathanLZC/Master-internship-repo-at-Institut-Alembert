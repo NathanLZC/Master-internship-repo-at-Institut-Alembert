{
 "cells": [
  {
   "cell_type": "markdown",
   "metadata": {},
   "source": []
  },
  {
   "cell_type": "code",
   "execution_count": 15,
   "metadata": {},
   "outputs": [],
   "source": [
    "### This script is for the Maxwell multi-branch model.\n",
    "### Deduce process is in generalized_Maxwell_backward_Euler.ipynb\n",
    "import numpy as np\n",
    "import matplotlib.pyplot as plt\n",
    "from matplotlib.animation import FuncAnimation\n",
    "from IPython.display import HTML\n",
    "#define input parameters\n",
    "##time\n",
    "t0 = 0\n",
    "t1 = 10 #If we do a long-term, say 10 seconds, we expect to see the slope change from 1/tau1 to 1/tau2 then to zero\n",
    "time_steps = 1000\n",
    "dt = (t1 - t0)/time_steps\n",
    "##load(constant)\n",
    "W = 1e0  # Total load\n",
    "\n",
    "#domain size\n",
    "#R = 1  # Radius of demi-sphere\n",
    "L = 2  # Domain size\n",
    "Radius = 0.1 # Radius of contact area, here we apply a smaller radius to reduce the effect of periodicity\n",
    "S = L**2  # Domain area\n",
    "\n",
    "# Generate a 2D coordinate space\n",
    "n = 1024\n",
    "m = 1024\n",
    "\n",
    "x, y = np.meshgrid(np.linspace(0, L, n, endpoint=False), np.linspace(0, L, m, endpoint=False))\n",
    "\n",
    "x0 = 1\n",
    "y0 = 1\n",
    "\n",
    "E = 3  # Young's modulus\n",
    "nu = 0.5\n",
    "E_star = E / (1 - nu**2)  # Plane strain modulus"
   ]
  },
  {
   "cell_type": "code",
   "execution_count": 16,
   "metadata": {},
   "outputs": [
    {
     "name": "stdout",
     "output_type": "stream",
     "text": [
      "G_inf: 2.75  G: [2.75]\n",
      "tau: [1]  eta: [2.75]\n"
     ]
    }
   ],
   "source": [
    "G_inf = 2.75\n",
    "G = [2.75]#[2.75, 2.75]\n",
    "\n",
    "print('G_inf:', G_inf, ' G: ' + str(G))\n",
    "\n",
    "tau = [1]#[0.1, 1] #relaxation time\n",
    "eta = [g * t for g, t in zip(G, tau)]\n",
    "\n",
    "print('tau:', tau, ' eta: ' + str(eta))"
   ]
  },
  {
   "cell_type": "markdown",
   "metadata": {},
   "source": [
    "#### Hertz contact theory reference"
   ]
  },
  {
   "cell_type": "code",
   "execution_count": 17,
   "metadata": {},
   "outputs": [],
   "source": [
    "##Hertz solution at t0 \n",
    "G_maxwell_t0 = 0\n",
    "for k in range(len(G)):\n",
    "    G_maxwell_t0 += G[k]\n",
    "G_effective_t0 = G_inf + G_maxwell_t0\n",
    "E_effective_t0 = 2*G_effective_t0*(1+nu)/(1-nu**2)\n",
    "\n",
    "p0_t0 = (6*W*(E_effective_t0)**2/(np.pi**3*Radius**2))**(1/3)\n",
    "a_t0 = (3*W*Radius/(4*(E_effective_t0)))**(1/3)\n",
    "##Hertz solution at t_inf\n",
    "E_effective_inf = 2*G_inf*(1+nu)/(1-nu**2)\n",
    "\n",
    "p0_t_inf = (6*W*(E_effective_inf)**2/(np.pi**3*Radius**2))**(1/3)\n",
    "a_t_inf = (3*W*Radius/(4*(E_effective_inf)))**(1/3)"
   ]
  },
  {
   "cell_type": "code",
   "execution_count": 18,
   "metadata": {},
   "outputs": [],
   "source": [
    "# define the update function for the animation\n",
    "def update(frame):\n",
    "    ax.clear()\n",
    "    ax.set_xlim(0, L)\n",
    "    ax.set_ylim(0, 1.1*p0_t0)\n",
    "    ax.grid()\n",
    "\n",
    "    # draw Hertzian contact theory reference\n",
    "    ax.plot(x[n//2], p0_t0*np.sqrt(1 - (x[n//2]-x0)**2 / a_t0**2), 'g--', label='Hertz at t=0')\n",
    "    ax.plot(x[n//2], p0_t_inf*np.sqrt(1 - (x[n//2]-x0)**2 / a_t_inf**2), 'b--', label='Hertz at t=inf')\n",
    "\n",
    "    # draw numerical solution at current time step\n",
    "    ax.plot(x[n//2], pressure_distributions[frame], 'r-', label='Numerical')\n",
    "    ax.set_title(f\"Time = {t0 + frame * dt:.2f}s\")\n",
    "    plt.xlabel(\"x\")\n",
    "    plt.ylabel(\"Pressure distribution\")\n",
    "    plt.legend()\n"
   ]
  },
  {
   "cell_type": "code",
   "execution_count": 19,
   "metadata": {},
   "outputs": [],
   "source": [
    "#load history from Week16\n",
    "Ac = np.load('Ac_10seconds.npy')\n",
    "pressure_distributions = np.load('pressure_distributions_10seconds.npy')"
   ]
  },
  {
   "cell_type": "code",
   "execution_count": 20,
   "metadata": {},
   "outputs": [
    {
     "name": "stdout",
     "output_type": "stream",
     "text": [
      "Analytical contact area radius at t0: 0.1505033594771979\n",
      "Analytical contact area radius at t_inf: 0.18962235068521668\n",
      "Analytical maximum pressure at t0: 21.07895117920459\n",
      "Analytical maximum pressure at t_inf: 13.278907150193112\n",
      "Numerical contact area at t0: 0.07167434692382812\n",
      "Numerical contact area at t_inf 0.11284255981445312\n",
      "Analyical contact area at t0: 0.07116103582420283\n",
      "Analyical contact area at t_inf: 0.11296110312648629\n"
     ]
    }
   ],
   "source": [
    "\n",
    "Ac_hertz_t0 = np.pi*a_t0**2\n",
    "Ac_hertz_t_inf = np.pi*a_t_inf**2\n",
    "\n",
    "print(\"Analytical contact area radius at t0:\", a_t0)\n",
    "print(\"Analytical contact area radius at t_inf:\", a_t_inf)\n",
    "print(\"Analytical maximum pressure at t0:\", p0_t0)\n",
    "print(\"Analytical maximum pressure at t_inf:\", p0_t_inf)\n",
    "print(\"Numerical contact area at t0:\", Ac[0])\n",
    "print(\"Numerical contact area at t_inf\",  Ac[-1])\n",
    "print(\"Analyical contact area at t0:\", Ac_hertz_t0)\n",
    "print(\"Analyical contact area at t_inf:\", Ac_hertz_t_inf)"
   ]
  },
  {
   "cell_type": "code",
   "execution_count": 21,
   "metadata": {},
   "outputs": [],
   "source": [
    "# Calculate the slope of the tangent line at the first time step\n",
    "slope_t0 = (Ac[1] - Ac[0]) / dt\n",
    "\n",
    "# Calculate the slope of the tangent line at the last time step\n",
    "slope_t1 = (Ac[-1] - Ac[-2]) / dt"
   ]
  },
  {
   "cell_type": "markdown",
   "metadata": {},
   "source": [
    "#### Reference with Classical solutions for non-adhesive elastic contact\n",
    "\n",
    "Here at $t_0$, when the contact area haven't change too much, we can expect the slope of the tangent line at the first time step could fit the analytical slope(reference).\n",
    "\n",
    "The radius of the contact area for non-adhesive elastic material is given by:\n",
    "\n",
    "$$\n",
    "a=\\left(\\frac{3 P R}{4 E^*}\\right)^{\\frac{1}{3}}\n",
    "$$\n",
    "\n",
    "Then the contact area will be:\n",
    "\n",
    "$$\n",
    "A=\\pi a^2=\\pi\\left(\\frac{3 P R}{4 E^*}\\right)^{\\frac{2}{3}}\n",
    "$$\n",
    "\n",
    "Now, we introduce $E^*(t)$ for viscoelastic:\n",
    "\n",
    "$$\n",
    "A(t)=\\pi\\left(\\frac{3 P R}{4 E^*(t)}\\right)^{\\frac{2}{3}} \\quad \\text { for } t \\ll \\tau \\text {(short time)}\n",
    "$$\n",
    "\n",
    "And we can express $E^*(t)$ as:\n",
    "$$\n",
    "E^*(t)=E_{\\infty}^*+\\left(E_0^*-E_{\\infty}^*\\right) e^{-\\frac{t}{\\tau}}\n",
    "$$\n",
    "\n",
    "where $E^*(t=0)=E_0^*$, $E^{* \\prime}(t)=-\\frac{E_0^*-E_{\\infty}^*}{\\tau} e^{-\\frac{t}{\\tau}}, E^*(0)=\\frac{E_{\\infty}^*-E^*_0}{\\tau}$\n",
    "\n",
    "Then, the analytical slope at $t_0$ should be:\n",
    "\n",
    "$$\n",
    "\\begin{aligned}\n",
    "A^{\\prime}(t) & =\\pi\\left(\\frac{3 P R}{4}\\right)^{\\frac{2}{3}}\\left(\\left(E^*(t)\\right)^{-\\frac{2}{3}}\\right)^{\\prime} \\\\\n",
    "& =\\pi\\left(\\frac{3 P R}{4}\\right)^{\\frac{2}{3}} \\cdot\\left(-\\frac{2}{3}\\right) \\cdot E^{* \\prime}(t) \\cdot\\left(E^*(t)\\right)^{-\\frac{5}{3}}\n",
    "\\end{aligned}\n",
    "$$\n",
    "\n",
    "with $E^{* \\prime}(0)=E^*(0)=\\frac{E_{\\infty}^*-E^*_0}{\\tau}$\n",
    "\n",
    "$$\n",
    "A^{\\prime}(0) \\approx \\pi \\cdot\\left(\\frac{3 P R}{4}\\right)^{\\frac{2}{3}} \\cdot \\frac{2}{3}\\left(\\frac{E_0^*-E_{\\infty}^*}{\\tau}\\right) \\cdot E_0^{-\\frac{5}{3}}\n",
    "$$\n",
    "\n",
    "where $\\frac{E_0^*-E_{\\infty}^*}{\\tau} \\approx \\frac{1}{\\tau}$ at $t=t_0$"
   ]
  },
  {
   "cell_type": "code",
   "execution_count": 22,
   "metadata": {},
   "outputs": [],
   "source": [
    "##### One branch case\n",
    "# Caluculate the reference slope\n",
    "P = W # total presseure, not pressure distribution\n",
    "E_0 = 2 * (G[0]+G_inf) * (1 + nu)\n",
    "slope_t0_ref = np.pi * (3*P*Radius/4)**(2/3) * (2/3) * ((E_effective_t0-E_effective_inf)/tau[0]) * E_effective_t0**(-5/3)"
   ]
  },
  {
   "cell_type": "markdown",
   "metadata": {},
   "source": [
    "##### Add reference contact area with viscoelastic modulus\n",
    "\n",
    "We know for short time $( t \\ll \\tau )$, we have:\n",
    "\n",
    "$$\n",
    "A(t)=\\pi\\left(\\frac{3 P R}{4 E^*(t)}\\right)^{\\frac{2}{3}} \n",
    "$$\n",
    "\n",
    "And we can express $E^*(t)$ as:\n",
    "$$\n",
    "E^*(t)=E_{\\infty}^*+\\left(E_0^*-E_{\\infty}^*\\right) e^{-\\frac{t}{\\tau}}\n",
    "$$\n"
   ]
  },
  {
   "cell_type": "code",
   "execution_count": 23,
   "metadata": {},
   "outputs": [],
   "source": [
    "Ac_visco_ref = []\n",
    "for t in np.arange(t0, t1, dt):    \n",
    "    E_star_visco = E_effective_inf + (E_effective_t0 - E_effective_inf)*np.exp(-t/tau[0])\n",
    "    Ac_visco_ref.append(np.pi * (3*P*Radius/4/E_star_visco)**(2/3))"
   ]
  },
  {
   "cell_type": "markdown",
   "metadata": {},
   "source": [
    "#### Johnson(1985) Reference\n",
    "\n",
    "By formula (6.63), Johnson(1985) gives a analytical solution for variation of contact radius in two sphere contact:\n",
    "\n",
    "$$\n",
    "a^3(t)=\\frac{3}{8} R P_0\\left\\{\\frac{1}{g_1}+\\frac{1}{g_2}\\left(1-\\mathrm{e}^{-t / \\tau }\\right)\\right\\}\n",
    "$$\n"
   ]
  },
  {
   "cell_type": "markdown",
   "metadata": {},
   "source": [
    "The equations are the same as for a sphere in contact with a half plane except that the effective radius $R$ is defined as $\\frac{1}{R}=\\frac{1}{R_1}+\\frac{1}{R_2}$, such that here we just use $R$ for simplification. This analytical solution is based on a Kelvin model with two springs of modulus $g_1$, and $g_2$ together with a dashpot of viscosity $\\eta$ connected as Fig. 6.20 in Johnson(1985):\n",
    "\n",
    "![](figures/Fig_6_20_Simple_viscoelastic_materials_which_display.png)\n",
    "\n",
    "When we apply an instantaneous elastic response, it gives a contact radius $a_0=\\left(3 R P_0 / 8 g_1\\right)^{1 / 3}$, and the contact size grows with time and eventually approaches $a_1=\\left\\{3 R P_0\\left(1 / g_1+1 / g_2\\right) / 8\\right\\}^{1 / 3}$.\n"
   ]
  },
  {
   "cell_type": "markdown",
   "metadata": {},
   "source": [
    "Since this analytical solution is based on Standard linear solid model with Kelvin representation, we can apply it for Generalized Maxwell model with one maxwell branch if we find the relationship of shear moduli between these two models.\n",
    "\n",
    "We keep the parameter $g_1$ and $g_2$ for shear moduli of Standard linear solid model with Kelvin representation as shown in the figure above, and use $G_\\infty$ and $G_1$ for shear moduli of Generalized Maxwell model with one maxwell branch. A Generalized Maxwell model should be:"
   ]
  },
  {
   "cell_type": "markdown",
   "metadata": {},
   "source": [
    "![](figures/Generalized_Maxwell_Model.png)"
   ]
  },
  {
   "cell_type": "markdown",
   "metadata": {},
   "source": [
    "To find the relationship between these parameters, we should focus on the response of these two models at $t_0$ and $t_\\infty$, we use $G^e$ for effective shear modulus:\n",
    "\n",
    "For Standard linear solid model with Kelvin representation:\n",
    "\n",
    "$$\n",
    "\\begin{aligned}\n",
    "& t_0 \\rightarrow G^e=g_1 \\\\\n",
    "& t_1 \\rightarrow \\frac{1}{G^e}=\\frac{1}{g_1}+\\frac{1}{g_2}\n",
    "\\end{aligned}\n",
    "$$\n",
    "\n",
    "\n",
    "For Generalized Maxwell model with one maxwell branch:\n",
    "\n",
    "$$\n",
    "\\begin{aligned}\n",
    "& t_0 \\rightarrow G^e=G_1+G_{\\infty} \\\\\n",
    "& t_1 \\rightarrow G^e=G_{\\infty}\n",
    "\\end{aligned}\n",
    "$$"
   ]
  },
  {
   "cell_type": "markdown",
   "metadata": {},
   "source": [
    "Then we have the following equation:\n",
    "\n",
    "$$\n",
    "\\left\\{\\begin{array}{l}\n",
    "G_1+G_{\\infty}=g_1 \\\\\n",
    "G_{\\infty}=\\frac{g_1 g_2}{g_1+g_2}\n",
    "\\end{array}\\right.\n",
    "$$"
   ]
  },
  {
   "cell_type": "markdown",
   "metadata": {},
   "source": [
    "Finally we can use $G_1$ and $G_\\infty$ in formula (6.63) of Johnson(1985) to replace $g_1$ and $g_2$:\n",
    "\n",
    "$$\n",
    "\\left\\{\\begin{array}{l}\n",
    "g_1=G_1+G_{\\infty} \\\\\n",
    "g_2=G_{\\infty}+\\frac{G_{\\infty}^2}{G_1}\n",
    "\\end{array}\\right.\n",
    "$$\n"
   ]
  },
  {
   "cell_type": "markdown",
   "metadata": {},
   "source": [
    "We have the analytical solution for viscoelastic contact by Johnson(1985):\n",
    "\n",
    "\n",
    "$$\n",
    "A_J(t)=\\pi a^2(t)=\\pi \\cdot \\left\\{\\frac{3}{8} R P_0 \\left(\\frac{1}{g_1}+\\frac{1}{g_2}\\left(1-e^{-t/\\tau}\\right) \\right)\\right\\}^{2 / 3}\n",
    "$$\n",
    "\n",
    "where $P_0$ is total pressure."
   ]
  },
  {
   "cell_type": "code",
   "execution_count": 25,
   "metadata": {},
   "outputs": [],
   "source": [
    "Ac_Johnson_ref = []\n",
    "g_1 = 2*(G[0] + G_inf)\n",
    "g_2 = -g_1*(2*G_inf/(2*G_inf-g_1))\n",
    "for t in np.arange(t0, t1, dt):        \n",
    "    Ac_Johnson_ref.append((3/8 * Radius * W * (1/g_1 + 1/g_2*(1-np.exp(-t/tau[0]))))**(2/3)*np.pi)"
   ]
  },
  {
   "cell_type": "code",
   "execution_count": 28,
   "metadata": {},
   "outputs": [
    {
     "data": {
      "image/png": "[encoded data removed]",
      "text/plain": [
       "<Figure size 432x288 with 1 Axes>"
      ]
     },
     "metadata": {
      "needs_background": "light"
     },
     "output_type": "display_data"
    }
   ],
   "source": [
    "# Define the length of tangent lines\n",
    "tangent_length = 0.6  # Smaller range for tangent line visualization\n",
    "\n",
    "# Plot the tangent lines\n",
    "plt.plot([t0, t0 + tangent_length], [Ac[0], Ac[0] + slope_t0 * tangent_length], 'r--', label='Tangent at Start')\n",
    "plt.plot([t1 - tangent_length, t1], [Ac[-1] - slope_t1 * tangent_length, Ac[-1]], 'b--', label='Tangent at End')\n",
    "\n",
    "# Plot the reference tangent lines\n",
    "plt.axline([t0, Ac[0]], slope=slope_t0_ref, color='r', linestyle='-.',label='Tangent at Start (Ref)')\n",
    "#plt.axline([t1, Ac[-1]], slope=slope_t1_ref, color='b', linestyle='-.', label='Tangent at End (Ref)')\n",
    "\n",
    "# Plot the reference contact area vs time\n",
    "plt.plot(np.arange(t0, t1, dt), Ac_visco_ref)\n",
    "# Plot the Johnson's solution\n",
    "plt.plot(np.arange(t0, t1, dt), Ac_Johnson_ref)\n",
    "\n",
    "plt.plot(np.arange(t0, t1, dt), Ac)\n",
    "plt.axhline(Ac_hertz_t0, color='red', linestyle='dotted')\n",
    "plt.axhline(Ac_hertz_t_inf, color='blue', linestyle='dotted')\n",
    "plt.xlabel(\"Time(s)\")\n",
    "plt.ylabel(\"Contact area($m^2$)\")\n",
    "plt.legend([\"Tangent at Start\", \"Tangent at End\", \"Tangent at Start (Ref)\", \"Reference contact area\", \"Johnson's Reference \", \"Numerical\", \"Hertz at t=0\", \"Hertz at t=inf\"])\n",
    "#define a title that can read parameter tau_0\n",
    "plt.title(\"Contact area vs time for multi-branch Generalized Maxwell model with demi-sphere r=0.1\")\n",
    "#plt.axhline(Ac_hertz_t_inf, color='blue')\n",
    "plt.show()\n",
    "\n"
   ]
  },
  {
   "cell_type": "markdown",
   "metadata": {},
   "source": [
    "Then we focus on the slope of contact area curve for Johnson(1985) solution:\n",
    "\n",
    "$$\n",
    "A_{\\text {Johnson }}^{\\prime}(t)=\\pi \\cdot\\left(\\frac{3}{8} R P \\frac{1}{g_2} \\cdot \\frac{1}{\\tau} \\cdot e^{-t / \\tau}\\right)^{2 / 3}\n",
    "$$\n",
    "\n",
    "at $t=0$, we have:\n",
    "\n",
    "$$\n",
    "A_{\\text {Johnson }}^{\\prime}(t=0)=\\pi\\left(\\frac{3}{8} R P \\frac{1}{g_2} \\cdot \\frac{1}{\\tau}\\right)^{2 / 3}\n",
    "$$"
   ]
  },
  {
   "cell_type": "markdown",
   "metadata": {},
   "source": [
    "Till now, we found the value of contact area by Johnson(1985) and Classical solutions for non-adhesive elastic contact are the same, but slopes are not, we plan to find why:\n",
    "\n",
    "For Classical solutions for non-adhesive elastic contact, we have contact area:\n",
    "\n",
    "$$\n",
    "A(t=0)=\\pi\\left(\\frac{3 P R}{4 E^*(t)}\\right)^{2 / 3}, E^*(t=0)=E_0^*\n",
    "$$"
   ]
  },
  {
   "cell_type": "markdown",
   "metadata": {},
   "source": [
    "where we called $E_0^*$ in Hertz solution:\n",
    "\n",
    "$$\n",
    "\\begin{aligned}\n",
    "& G_0^*=G_{\\infty}+G_0 \\\\\n",
    "& E_0^*=2 G_0^* \\cdot(1+\\nu) /\\left(1-\\nu^2\\right)\n",
    "\\end{aligned}\n",
    "$$\n",
    "\n",
    "so finally:\n",
    "\n",
    "\n",
    "\n",
    "And we also have for Classical solutions for non-adhesive elastic contact, we have slope:\n",
    "\n",
    "\n",
    "$$\n",
    "A^{\\prime}(0) \\approx \\pi \\cdot\\left(\\frac{3 P R}{4}\\right)^{\\frac{2}{3}} \\cdot \\frac{2}{3}\\left(\\frac{E_0^*-E_{\\infty}^*}{\\tau}\\right) \\cdot E_0^{-\\frac{5}{3}}\n",
    "$$\n",
    "\n",
    "where $\\frac{E_0^*-E_{\\infty}^*}{\\tau} \\approx \\frac{1}{\\tau}$ at $t=t_0$"
   ]
  },
  {
   "cell_type": "code",
   "execution_count": 30,
   "metadata": {},
   "outputs": [],
   "source": [
    "slope_t0_Johnson_ref = np.pi * (3*P*Radius/8/g_2/tau[0])**(2/3)\n"
   ]
  },
  {
   "cell_type": "code",
   "execution_count": 31,
   "metadata": {},
   "outputs": [
    {
     "data": {
      "image/png": "[encoded data removed]",
      "text/plain": [
       "<Figure size 432x288 with 1 Axes>"
      ]
     },
     "metadata": {
      "needs_background": "light"
     },
     "output_type": "display_data"
    }
   ],
   "source": [
    "\n",
    "# Plot the tangent lines\n",
    "plt.plot([t0, t0 + tangent_length], [Ac[0], Ac[0] + slope_t0 * tangent_length], 'r--', label='Tangent at Start')\n",
    "plt.plot([t1 - tangent_length, t1], [Ac[-1] - slope_t1 * tangent_length, Ac[-1]], 'b--', label='Tangent at End')\n",
    "\n",
    "# Plot the reference tangent lines\n",
    "plt.axline([t0, Ac[0]], slope=slope_t0_Johnson_ref, color='r', linestyle='-.',label='Tangent at Start (Ref)')\n",
    "\n",
    "# Plot the reference contact area vs time\n",
    "plt.plot(np.arange(t0, t1, dt), Ac_visco_ref)\n",
    "# Plot the Johnson's solution\n",
    "plt.plot(np.arange(t0, t1, dt), Ac_Johnson_ref)\n",
    "\n",
    "plt.plot(np.arange(t0, t1, dt), Ac)\n",
    "plt.axhline(Ac_hertz_t0, color='red', linestyle='dotted')\n",
    "plt.axhline(Ac_hertz_t_inf, color='blue', linestyle='dotted')\n",
    "plt.xlabel(\"Time(s)\")\n",
    "plt.ylabel(\"Contact area($m^2$)\")\n",
    "plt.legend([\"Tangent at Start\", \"Tangent at End\", \"Tangent at Start Johnson\", \"Reference contact area\", \"Johnson's Reference \", \"Numerical\", \"Hertz at t=0\", \"Hertz at t=inf\"])\n",
    "#define a title that can read parameter tau_0\n",
    "plt.title(\"Contact area vs time for multi-branch Generalized Maxwell model with demi-sphere r=0.1\")\n",
    "#plt.axhline(Ac_hertz_t_inf, color='blue')\n",
    "plt.show()"
   ]
  },
  {
   "cell_type": "code",
   "execution_count": null,
   "metadata": {},
   "outputs": [],
   "source": []
  }
 ],
 "metadata": {
  "kernelspec": {
   "display_name": "base",
   "language": "python",
   "name": "python3"
  },
  "language_info": {
   "codemirror_mode": {
    "name": "ipython",
    "version": 3
   },
   "file_extension": ".py",
   "mimetype": "text/x-python",
   "name": "python",
   "nbconvert_exporter": "python",
   "pygments_lexer": "ipython3",
   "version": "3.8.8"
  }
 },
 "nbformat": 4,
 "nbformat_minor": 2
}
