{
 "cells": [
  {
   "cell_type": "markdown",
   "metadata": {},
   "source": [
    "## Transient viscoelastic response"
   ]
  },
  {
   "cell_type": "markdown",
   "metadata": {},
   "source": [
    "Boussinesq solution[1] for the relationship between surface Pressure $P$ and surface normal displacement can be given as:\n",
    "\n",
    "$$\n",
    "u_z(x, y)=\\frac{1-\\nu}{2 \\pi G} \\iint_{\\Omega} \\frac{P(\\xi, \\eta)}{\\sqrt{(x-\\xi)^2+(y-\\eta)^2}} d \\xi d \\eta  \n",
    "$$\n",
    "\n",
    "\n",
    "similarly, the relationship between normal force $N$ applied at $x^{\\prime}, y^{\\prime}$ and the normal displacement of an elastic isotropic half-space is given by the following equation:\n",
    "\n",
    "$$\n",
    "u_z(x, y)=\\frac{(1-\\nu) N}{2 \\pi G r}, \\quad r=\\sqrt{\\left(x-x^{\\prime}\\right)^2+\\left(y-y^{\\prime}\\right)^2}\n",
    "$$\n",
    "where $G$ is the shear modulus and $\\nu$ is the Poisson ratio. This solution could be generalized for the case of viscoelastic half-space through Laplace transform.[2]\n",
    "The Laplace transform of the Boussinesq solution taking into account the loading history is given by:\n",
    "\n",
    "$$\n",
    "\\bar{u}_z(x, y)=\\frac{(1-\\nu) s \\bar{J}(s) \\bar{N}(s)}{2 \\pi r}\n",
    "$$\n",
    "where the Laplace transform of the loading history is given by:\n",
    "\n",
    "$$\n",
    "\\bar{N}(s)=\\int_0^t N\\left(t^{\\prime}\\right) e^{-s\\left(t-t^{\\prime}\\right)} d t^{\\prime}\n",
    "$$\n",
    "\n",
    "and $J(t)$ is the creep compliance function. The creep compliance function is given by:\n",
    "\n",
    "$$\n",
    "J(t)=\\left[\\frac{1}{E_{\\infty}}+\\left(\\frac{1}{E_0}-\\frac{1}{E_{\\infty}}\\right)\\left(1-e^{-\\frac{t}{\\tau}}\\right)\\right] H(t)\n",
    "$$\n",
    "where $H(t)$ is the Heaviside step function, $E_0$ is the instantaneous Young's modulus and $E_{\\infty}$ is the long-term Young's modulus, and $\\tau$ is the characteristic relaxation time. The Laplace transform of the creep compliance function is given by:\n",
    "\n",
    "$$\n",
    "\\bar{J}(s)=\\frac{1}{s}\\left[\\frac{1}{E_{\\infty}}+\\frac{1}{E_0-E_{\\infty}} \\frac{\\tau s}{1+\\tau s}\\right]\n",
    "$$\n",
    "\n",
    "Integrating the evolution of the pressure distribution in space in time and using the convolution theorem, we obtain the following expression for the normal displacement:\n",
    "\n",
    "$$\n",
    "u_z(x, y, t)=\\frac{(1-\\nu)}{2 \\pi} \\int_{\\Omega_m} \\frac{q(x, y, a)}{r} d A\n",
    "$$\n",
    "where\n",
    "\n",
    "$$\n",
    "q(x, y, a)=J * d P\n",
    "$$\n",
    "is the convolution of the creep compliance function and the pressure distribution\n",
    "in space."
   ]
  },
  {
   "cell_type": "markdown",
   "metadata": {},
   "source": []
  },
  {
   "cell_type": "markdown",
   "metadata": {},
   "source": []
  },
  {
   "cell_type": "markdown",
   "metadata": {},
   "source": [
    "## Reference:\n",
    "\n",
    "[1] Boussinesq Joseph. Application des potentiels à l'étude de l'équilibre et du mouvement des solides élastiques, principalement au calcul des déformations et des pressions que produisent , dans les solides , des efforts quelquonques exercés sur une petite partie de leur surface ou de leur intérieur : mémoire suivi de notes étendues sur divers points de physique mathématique et dánalyse. Gauthier-Villars; 1885.\n",
    "\n",
    "[2] Vladislav A. Yastrebov, Contact mechanics and elements of tribology, Practical Work 4, Contact and transport at small scales, Open Course Contact Mechanics and Elements of Tribology, January 23, 2024, https://cmet.yastrebov.fr/index.html\n",
    "\n"
   ]
  },
  {
   "cell_type": "markdown",
   "metadata": {},
   "source": []
  }
 ],
 "metadata": {
  "language_info": {
   "name": "python"
  }
 },
 "nbformat": 4,
 "nbformat_minor": 2
}
