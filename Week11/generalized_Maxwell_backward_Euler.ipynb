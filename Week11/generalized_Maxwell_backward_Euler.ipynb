{
 "cells": [
  {
   "cell_type": "markdown",
   "metadata": {},
   "source": [
    "## Generalized Maxwell Model\n",
    "\n",
    "The generalized Maxwell model, also known as the Wiechert model, is the most general form of the linear model for viscoelasticity. It takes into account that the relaxation does not occur at a single time, but at a distribution of times. Due to molecular segments of different lengths with shorter ones contributing less than longer ones, there is a varying time distribution. The Generalized model shows this by having as many spring–dashpot Maxwell elements as necessary to accurately represent the distribution.[1] The figure below from [3] shows the generalized Maxwell model."
   ]
  },
  {
   "cell_type": "markdown",
   "metadata": {},
   "source": [
    "![](figures/Generalized_Maxwell_Model.png)"
   ]
  },
  {
   "cell_type": "markdown",
   "metadata": {},
   "source": [
    "First, we have equation (7) of Bugnicourt(2017):\n",
    "\n",
    "$$\n",
    "A_{z z} P_{t+\\delta t}\\left(1+\\frac{G_1}{G_0}\\right)+\\frac{\\eta_1}{G_0} A_{z z} \\frac{\\Delta P}{\\Delta t}=G_1 U_{t+\\delta t}+\\eta_1 \\frac{\\Delta U}{\\Delta t}\n",
    "$$\n",
    "\n"
   ]
  },
  {
   "cell_type": "markdown",
   "metadata": {},
   "source": [
    "We consider Generalized Maxwell Model as a combination of an elastic branch and the sum of Maxwell models connected in parallel:\n",
    "$$\n",
    "\\begin{aligned}\n",
    "\\quad A_{zz} P_{t+\\Delta t} + \\tau^k A_{zz} \\frac{\\Delta P}{\\Delta t} &= \\tau^k G^k \\frac{\\Delta U}{\\Delta t} \\quad \\text{(1)}\\\\\n",
    "\\quad A_{zz} P_{t+\\Delta t}^e &= G_{\\infty} U_{t+\\Delta t} \\quad \\text{(2)}\n",
    "\\end{aligned}\n",
    "$$\n",
    "\n",
    "where $ \\tau^k = \\frac{\\eta^k}{G^k} $."
   ]
  },
  {
   "cell_type": "markdown",
   "metadata": {},
   "source": [
    "From (1), we can replace $\\Delta P$ and $\\Delta U$ by $P_{t+\\Delta t}-P_t$ and $U_{t+\\Delta t}-U_t$:\n",
    "$$\n",
    "A_{zz} P_{t+\\Delta t} + \\frac{\\tau^k}{\\Delta t} A_{zz} P_{t+\\Delta t} - \\frac{\\tau^k}{\\Delta t} A_{zz} P_t  = \\frac{\\tau^k}{\\Delta t} G^k U_{t+\\Delta t} - \\frac{\\tau^k}{\\Delta t} G^k U_t\n",
    "$$"
   ]
  },
  {
   "cell_type": "markdown",
   "metadata": {},
   "source": [
    "Arrange these terms:\n",
    "$$\n",
    "\\left(1+\\frac{\\tau^k}{\\Delta t}\\right) A_{z z} P_{t+\\Delta t}-\\frac{\\tau^k}{\\Delta t} A_{z z} P_t+\\frac{\\tau^k}{\\Delta t} G^k U_t=\\frac{\\tau^k}{\\Delta t} G^k U_{t+\\Delta t}\n",
    "$$"
   ]
  },
  {
   "cell_type": "markdown",
   "metadata": {},
   "source": [
    "$$\n",
    "A_{z z} P_{t+\\Delta t}-\\frac{\\frac{\\tau^k}{\\Delta t}}{1+\\frac{\\tau^k}{\\Delta t}} A_{z z} P_t+\\frac{\\frac{\\tau^k}{\\Delta t}}{1+\\frac{\\tau^k}{\\Delta t}} G^k U_t=\\frac{\\frac{\\tau^k}{\\Delta t}}{1+\\frac{\\tau^k}{\\Delta t}} G^k U_{t+\\Delta t}\n",
    "$$"
   ]
  },
  {
   "cell_type": "markdown",
   "metadata": {},
   "source": [
    "### Sum over all branches:\n",
    "\n",
    "We have equations for branch $k=1,2,....,N$:\n",
    "\n",
    "$$\n",
    "A_{z z} P_{t+\\Delta t}^k-\\frac{\\tau^k}{\\tau^k+\\Delta t} A_{z z} P_t^k+\\frac{\\tau^k}{\\tau^k+\\Delta t} G^k U_t=\\frac{\\tau^k}{\\tau^k+\\Delta t} G^k U_{t+\\Delta t} \\quad \\text{(3)}\n",
    "$$\n"
   ]
  },
  {
   "cell_type": "markdown",
   "metadata": {},
   "source": [
    "#### Sum over all of two-elements Maxwell branches(except the elastic branch)\n",
    "\n",
    "$$\n",
    "A_{z z} \\sum_k P_{t+\\Delta t}^k-\\sum_k \\frac{\\tau^k}{\\tau^k+\\Delta t} A_{z z} P_t^k+\\left\\{\\sum_k \\frac{\\tau^k}{\\tau^k+\\Delta t} G^k\\right\\} U_t=\\left\\{\\sum_k \\frac{\\tau^k}{\\tau^k+\\Delta t} G^k\\right\\} U_{t+\\Delta t}\n",
    "$$"
   ]
  },
  {
   "cell_type": "markdown",
   "metadata": {},
   "source": [
    "Such that we can define $\\tilde{G}=\\sum_k \\frac{\\tau^k}{\\tau^k+\\Delta t} G^k$"
   ]
  },
  {
   "cell_type": "markdown",
   "metadata": {},
   "source": [
    "#### Then we can add the $G_{\\infty}$(elastic) branch:\n",
    "\n",
    "$$\n",
    "A_{z z}\\{\\underbrace{\\sum_k P_{t+\\Delta t}^k+P_{t+\\Delta t}^e}_{\\text{Generated from elastic solver}}\\}-\\sum_k {\\frac{\\tau^k}{\\tau^k+\\Delta t}} A_{z z} P_t^k+\\tilde{G} U_t=\\left(G_{\\infty}+\\tilde{G}\\right) U_{t+\\Delta t} \\quad \\text{(4)}\n",
    "$$"
   ]
  },
  {
   "cell_type": "markdown",
   "metadata": {},
   "source": [
    "From (3), we can update pressure for each Maxwell branch by:\n",
    "\n",
    "$$\n",
    "A_{z z} P_{t+\\Delta t}^k=\\gamma^k\\left(A_{z z} P_t^k+G^k\\left(U_{t+\\Delta t}-U_t\\right)\\right) \\quad \\text{(5)}\n",
    "$$"
   ]
  },
  {
   "cell_type": "markdown",
   "metadata": {},
   "source": [
    "We can also do a sanity check for our outputs:\n",
    "\n",
    "$$\n",
    "A_{z z} P_{t+\\Delta t}^{\\prime}=A_{z z} P_{t+\\Delta t}^e+A_{z z} \\sum_k P_{t+\\Delta t}^k\n",
    "$$\n",
    "\n",
    "where $P_{t+\\Delta t}^{\\prime}$ is the output of our contact problem, and this sanity check corresponds to the first term of (4). "
   ]
  },
  {
   "cell_type": "markdown",
   "metadata": {},
   "source": [
    "#### Update surface profile $H_{t+\\Delta t}$:\n",
    "\n",
    "$$\n",
    "\\mathbb{H}^\\prime = (\\underbrace{G_{\\infty}+\\tilde{G}}_\\alpha) \\mathbb{H}-\\underbrace{\\tilde{G}}_\\beta \\mathbb{U_t}+\\sum_k \\underbrace{\\frac{\\tau^k}{\\tau^k+\\Delta t}}_{\\gamma^k} \\mathbb{M}_t^k\n",
    "$$\n"
   ]
  },
  {
   "cell_type": "markdown",
   "metadata": {},
   "source": []
  },
  {
   "cell_type": "markdown",
   "metadata": {},
   "source": [
    "#### Viscoelastic contact routine for Generalized(multi-branch) Maxwell model \n",
    "\n",
    "- **Input:** \n",
    "  - External load $W_{t+\\Delta t}$\n",
    "  - Timestep $\\Delta t$\n",
    "  - Partial displacements $\\mathbb{M}_t^k = A_{z z} P_t^k$\n",
    "  - Displacement $\\mathbb{U}_t$\n",
    "  - Surface $\\mathbb{H}$\n",
    "  - Material properties $G_\\infty$, $G^k$, $\\eta^k$"
   ]
  },
  {
   "cell_type": "markdown",
   "metadata": {},
   "source": [
    "- **Steps:**\n",
    "  1. Compute $P_{t+\\Delta t}^{\\prime}$ with our elastic contact solver, do sanity check for $P_{t+\\Delta t}^{\\prime}=P_{t+\\Delta t}^e+\\sum_k P_{t+\\Delta t}^k$\n",
    "  \n",
    "  2. Update Global displacement $U_{t + \\Delta t}$ with (4)\n",
    "\n",
    "  3. Update partial displacement $A_{z z} P_{t+\\Delta t}^k$ for each branch with (5)\n",
    "  \n",
    "\n",
    "  \n"
   ]
  },
  {
   "cell_type": "markdown",
   "metadata": {},
   "source": [
    "##### We still start from one-branch Maxwell connected in parallell with an elastic branch for a demi rigid sphere contact with an infinite viscoelastic plane"
   ]
  },
  {
   "cell_type": "markdown",
   "metadata": {},
   "source": []
  },
  {
   "cell_type": "markdown",
   "metadata": {},
   "source": []
  },
  {
   "cell_type": "markdown",
   "metadata": {},
   "source": [
    "### Hertz solution varification for one branch Maxwell\n",
    "\n",
    "$$\n",
    "\\begin{array}{ll}\n",
    "t \\rightarrow 0 & \\text{We can apply $G_{\\infty}$ for shear modulus} \\\\\n",
    "t \\rightarrow \\infty & \\text{We can apply $G_{\\infty}+G_1$ for shear modulus}\n",
    "\\end{array}\n",
    "$$"
   ]
  },
  {
   "cell_type": "markdown",
   "metadata": {},
   "source": []
  },
  {
   "cell_type": "code",
   "execution_count": null,
   "metadata": {},
   "outputs": [],
   "source": []
  },
  {
   "cell_type": "markdown",
   "metadata": {},
   "source": [
    "### Reference:\n",
    "[1] https://en.wikipedia.org/wiki/Viscoelasticity\n",
    "\n",
    "[2] https://doc.comsol.com/5.6/doc/com.comsol.help.sme/sme_ug_theory.06.26.html Linear Viscoelastic Materials\n",
    "\n",
    "[3] https://help.solidworks.com/2012/english/solidworks/cworks/Generalized_Maxwell_Model.htm Generalized Maxwell Model"
   ]
  },
  {
   "cell_type": "markdown",
   "metadata": {},
   "source": []
  }
 ],
 "metadata": {
  "kernelspec": {
   "display_name": "Python 3",
   "language": "python",
   "name": "python3"
  },
  "language_info": {
   "codemirror_mode": {
    "name": "ipython",
    "version": 3
   },
   "file_extension": ".py",
   "mimetype": "text/x-python",
   "name": "python",
   "nbconvert_exporter": "python",
   "pygments_lexer": "ipython3",
   "version": "3.11.5"
  }
 },
 "nbformat": 4,
 "nbformat_minor": 2
}
