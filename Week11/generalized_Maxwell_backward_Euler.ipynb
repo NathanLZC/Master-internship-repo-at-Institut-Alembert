{
 "cells": [
  {
   "cell_type": "markdown",
   "metadata": {},
   "source": [
    "First, we have equation (7) of Bugnicourt(2017):\n",
    "\n",
    "$$\n",
    "A_{z z} P_{t+\\delta t}\\left(1+\\frac{G_1}{G_0}\\right)+\\frac{\\eta_1}{G_0} A_{z z} \\frac{\\Delta P}{\\Delta t}=G_1 U_{t+\\delta t}+\\eta_1 \\frac{\\Delta U}{\\Delta t}\n",
    "$$\n",
    "\n"
   ]
  },
  {
   "cell_type": "markdown",
   "metadata": {},
   "source": [
    "$$\n",
    "\\left\\{\\begin{array}{l}\n",
    "A_{z z} P_{t+\\delta t}+\\tau A_{z z} \\frac{\\Delta P}{\\Delta t}=\\tau G_G \\frac{\\Delta V}{\\Delta \\tau} \\\\\n",
    "A_{z z} P_{t+\\delta t}^e=G_{\\infty} U_{t+\\delta t}\n",
    "\\end{array}\\right.\n",
    "$$"
   ]
  },
  {
   "cell_type": "markdown",
   "metadata": {},
   "source": []
  },
  {
   "cell_type": "code",
   "execution_count": null,
   "metadata": {},
   "outputs": [],
   "source": []
  },
  {
   "cell_type": "markdown",
   "metadata": {},
   "source": []
  },
  {
   "cell_type": "markdown",
   "metadata": {},
   "source": [
    "#### Viscoelastic contact routine for multi-branch (Generalized) Maxwell model \n",
    "\n"
   ]
  }
 ],
 "metadata": {
  "kernelspec": {
   "display_name": "Python 3",
   "language": "python",
   "name": "python3"
  },
  "language_info": {
   "codemirror_mode": {
    "name": "ipython",
    "version": 3
   },
   "file_extension": ".py",
   "mimetype": "text/x-python",
   "name": "python",
   "nbconvert_exporter": "python",
   "pygments_lexer": "ipython3",
   "version": "3.0.0"
  }
 },
 "nbformat": 4,
 "nbformat_minor": 2
}
