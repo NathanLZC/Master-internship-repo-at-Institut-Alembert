{
 "cells": [
  {
   "cell_type": "markdown",
   "metadata": {},
   "source": [
    "## Generalized Maxwell Model\n",
    "\n",
    "The generalized Maxwell model, also known as the Wiechert model, is the most general form of the linear model for viscoelasticity. It takes into account that the relaxation does not occur at a single time, but at a distribution of times. Due to molecular segments of different lengths with shorter ones contributing less than longer ones, there is a varying time distribution. The Wiechert model shows this by having as many spring–dashpot Maxwell elements as necessary to accurately represent the distribution. The figure on the right shows"
   ]
  },
  {
   "cell_type": "markdown",
   "metadata": {},
   "source": [
    "![](figures/Generalized_Maxwell_Model.png)"
   ]
  },
  {
   "cell_type": "markdown",
   "metadata": {},
   "source": [
    "First, we have equation (7) of Bugnicourt(2017):\n",
    "\n",
    "$$\n",
    "A_{z z} P_{t+\\delta t}\\left(1+\\frac{G_1}{G_0}\\right)+\\frac{\\eta_1}{G_0} A_{z z} \\frac{\\Delta P}{\\Delta t}=G_1 U_{t+\\delta t}+\\eta_1 \\frac{\\Delta U}{\\Delta t}\n",
    "$$\n",
    "\n"
   ]
  },
  {
   "cell_type": "markdown",
   "metadata": {},
   "source": [
    "We consider Maxwell \n",
    "$$\n",
    "\\left\\{\\begin{array}{l}\n",
    "A_{z z} P_{t+\\delta t}+\\tau A_{z z} \\frac{\\Delta P}{\\Delta t}=\\tau G_G \\frac{\\Delta V}{\\Delta \\tau} \\\\\n",
    "A_{z z} P_{t+\\delta t}^e=G_{\\infty} U_{t+\\delta t}\n",
    "\\end{array}\\right.\n",
    "$$"
   ]
  },
  {
   "cell_type": "markdown",
   "metadata": {},
   "source": []
  },
  {
   "cell_type": "code",
   "execution_count": null,
   "metadata": {},
   "outputs": [],
   "source": []
  },
  {
   "cell_type": "markdown",
   "metadata": {},
   "source": []
  },
  {
   "cell_type": "markdown",
   "metadata": {},
   "source": [
    "#### Viscoelastic contact routine for multi-branch (Generalized) Maxwell model \n",
    "\n"
   ]
  },
  {
   "cell_type": "markdown",
   "metadata": {},
   "source": []
  },
  {
   "cell_type": "markdown",
   "metadata": {},
   "source": []
  },
  {
   "cell_type": "markdown",
   "metadata": {},
   "source": [
    "### Reference:\n",
    "[1] https://en.wikipedia.org/wiki/Viscoelasticity\n",
    "\n",
    "[2] https://doc.comsol.com/5.6/doc/com.comsol.help.sme/sme_ug_theory.06.26.html Linear Viscoelastic Materials\n",
    "\n",
    "[3] https://help.solidworks.com/2012/english/solidworks/cworks/Generalized_Maxwell_Model.htm Generalized Maxwell Model"
   ]
  },
  {
   "cell_type": "markdown",
   "metadata": {},
   "source": []
  }
 ],
 "metadata": {
  "kernelspec": {
   "display_name": "Python 3",
   "language": "python",
   "name": "python3"
  },
  "language_info": {
   "codemirror_mode": {
    "name": "ipython",
    "version": 3
   },
   "file_extension": ".py",
   "mimetype": "text/x-python",
   "name": "python",
   "nbconvert_exporter": "python",
   "pygments_lexer": "ipython3",
   "version": "3.0.0"
  }
 },
 "nbformat": 4,
 "nbformat_minor": 2
}
