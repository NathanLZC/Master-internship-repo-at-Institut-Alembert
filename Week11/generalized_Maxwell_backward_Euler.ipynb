{
 "cells": [
  {
   "cell_type": "markdown",
   "metadata": {},
   "source": [
    "## Generalized Maxwell Model\n",
    "\n",
    "The generalized Maxwell model, also known as the Wiechert model, is the most general form of the linear model for viscoelasticity. It takes into account that the relaxation does not occur at a single time, but at a distribution of times. Due to molecular segments of different lengths with shorter ones contributing less than longer ones, there is a varying time distribution. The Generalized model shows this by having as many spring–dashpot Maxwell elements as necessary to accurately represent the distribution.[1] The figure below from [3] shows the generalized Maxwell model."
   ]
  },
  {
   "cell_type": "markdown",
   "metadata": {},
   "source": [
    "![](figures/Generalized_Maxwell_Model.png)"
   ]
  },
  {
   "cell_type": "markdown",
   "metadata": {},
   "source": [
    "First, we have equation (7) of Bugnicourt(2017):\n",
    "\n",
    "$$\n",
    "A_{z z} P_{t+\\delta t}\\left(1+\\frac{G_1}{G_0}\\right)+\\frac{\\eta_1}{G_0} A_{z z} \\frac{\\Delta P}{\\Delta t}=G_1 U_{t+\\delta t}+\\eta_1 \\frac{\\Delta U}{\\Delta t}\n",
    "$$\n",
    "\n"
   ]
  },
  {
   "cell_type": "markdown",
   "metadata": {},
   "source": [
    "We consider Generalized Maxwell Model as a combination of an elastic branch and the sum of Maxwell models connected in parallel:\n",
    "$$\n",
    "\\begin{aligned}\n",
    "\\quad A_{zz} P_{t+\\Delta t} + \\tau A_{zz} \\frac{\\Delta P}{\\Delta t} &= \\tau G \\frac{\\Delta U}{\\Delta t} \\quad \\text{(1a)}\\\\\n",
    "\\quad A_{zz} P_{t+\\Delta t}^e &= G_{\\infty} U_{t+\\Delta t} \\quad \\text{(1b)}\n",
    "\\end{aligned}\n",
    "$$\n"
   ]
  },
  {
   "cell_type": "markdown",
   "metadata": {},
   "source": [
    "From (1a), we can replace $\\Delta P$ and $\\Delta U$ by $P_{t+\\Delta t}-P_t$ and $U_{t+\\Delta t}-U_t$:\n",
    "$$\n",
    "A_{zz} P_{t+\\Delta t} + \\frac{\\tau}{\\Delta t} A_{zz} P_{t+\\Delta t} - \\frac{\\tau}{\\Delta t} A_{zz} P_t  = \\frac{\\tau}{\\Delta t} G U_{t+\\Delta t} - \\frac{\\tau}{\\Delta t} G U_t\n",
    "$$"
   ]
  },
  {
   "cell_type": "code",
   "execution_count": null,
   "metadata": {},
   "outputs": [],
   "source": []
  },
  {
   "cell_type": "markdown",
   "metadata": {},
   "source": []
  },
  {
   "cell_type": "markdown",
   "metadata": {},
   "source": [
    "#### Viscoelastic contact routine for multi-branch (Generalized) Maxwell model \n",
    "\n"
   ]
  },
  {
   "cell_type": "markdown",
   "metadata": {},
   "source": []
  },
  {
   "cell_type": "markdown",
   "metadata": {},
   "source": [
    "##### We still start from one-branch"
   ]
  },
  {
   "cell_type": "markdown",
   "metadata": {},
   "source": [
    "### Reference:\n",
    "[1] https://en.wikipedia.org/wiki/Viscoelasticity\n",
    "\n",
    "[2] https://doc.comsol.com/5.6/doc/com.comsol.help.sme/sme_ug_theory.06.26.html Linear Viscoelastic Materials\n",
    "\n",
    "[3] https://help.solidworks.com/2012/english/solidworks/cworks/Generalized_Maxwell_Model.htm Generalized Maxwell Model"
   ]
  },
  {
   "cell_type": "markdown",
   "metadata": {},
   "source": []
  }
 ],
 "metadata": {
  "kernelspec": {
   "display_name": "Python 3",
   "language": "python",
   "name": "python3"
  },
  "language_info": {
   "codemirror_mode": {
    "name": "ipython",
    "version": 3
   },
   "file_extension": ".py",
   "mimetype": "text/x-python",
   "name": "python",
   "nbconvert_exporter": "python",
   "pygments_lexer": "ipython3",
   "version": "3.11.5"
  }
 },
 "nbformat": 4,
 "nbformat_minor": 2
}
