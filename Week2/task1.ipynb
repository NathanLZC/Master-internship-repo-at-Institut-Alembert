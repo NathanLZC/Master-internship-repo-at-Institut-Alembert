{
 "cells": [
  {
   "cell_type": "markdown",
   "metadata": {},
   "source": [
    "## Hertz Contact\n",
    "#### Contact between a sphere and a half-space"
   ]
  },
  {
   "cell_type": "markdown",
   "metadata": {},
   "source": [
    "An elastic sphere of radius $R$ indents an elastic half-space where total deformation is $d$, causing a contact area of radius[1]\n",
    "\n",
    "![Alt Text](/Users/lizichen/Master-internship-repo-at-Institut-dAlembert/Week2/Contact_sphere-plane.jpg)\n",
    "\n",
    "$$\n",
    "a=\\sqrt{R d}\n",
    "$$\n",
    "\n",
    "\n",
    "The maximum shear stress occurs in the interior at $z \\approx 0.49 a$ for $\\nu=0.33$\n"
   ]
  },
  {
   "cell_type": "markdown",
   "metadata": {},
   "source": [
    "We want to apply this solution for a non-friction Contact between a sphere and a half-space and "
   ]
  },
  {
   "cell_type": "code",
   "execution_count": 41,
   "metadata": {},
   "outputs": [],
   "source": [
    "import numpy as np\n",
    "import matplotlib as plt\n",
    "import time"
   ]
  },
  {
   "cell_type": "markdown",
   "metadata": {},
   "source": [
    "The applied force $F$ is related to the displacement $d$ by\n",
    "\n",
    "$$\n",
    "F=\\frac{4}{3} E^* R^{\\frac{1}{2}} d^{\\frac{3}{2}}\n",
    "$$\n",
    "\n",
    "where \n",
    "\n",
    "$$\n",
    "\\frac{1}{E^*}=\\frac{1-\\nu_1^2}{E_1}+\\frac{1-\\nu_2^2}{E_2}\n",
    "$$\n",
    "\n",
    "and $E_1, E_2$ are the elastic moduli and $\\nu_1, \\nu_2$ the Poisson's ratios associated with each body.\n"
   ]
  },
  {
   "cell_type": "markdown",
   "metadata": {},
   "source": [
    "The radius of the circle is related to the applied load $F$ by the equation\n",
    "\n",
    "$$\n",
    "a^3=\\frac{3 F R}{4 E^*}\n",
    "$$"
   ]
  },
  {
   "cell_type": "code",
   "execution_count": 42,
   "metadata": {},
   "outputs": [],
   "source": [
    "# We define the force as F, we give F as input\n",
    "F = np.linspace(0, 1e6, 1000)\n",
    "\n",
    "\n",
    "# We define the radius of the elastic sphere as R\n",
    "R = 1\n",
    "# We define the elastic modulus of the sphere as E1, and the elastic modulus of the surface as E2\n",
    "E1 = 1e5\n",
    "E2 = 1e3\n",
    "# We define the Poisson ratio of the sphere as v1, and the Poisson ratio of the surface as v2\n",
    "v1 = 0.33\n",
    "v2 = 0.33\n",
    "# We define the reduced elastic modulus as E_star\n",
    "E_star = 1 / ((1 - v1**2) / E1 + (1 - v2**2) / E2)\n",
    "# We define the contact radius as a\n",
    "a = 3*F*R/(4*E_star)\n",
    "\n",
    "# We define the domain is L^2\n",
    "L = 2\n"
   ]
  },
  {
   "cell_type": "markdown",
   "metadata": {},
   "source": [
    "## Q1: We apply F correctly?\n",
    "\n",
    "Here we apply F as an array "
   ]
  },
  {
   "cell_type": "markdown",
   "metadata": {},
   "source": [
    "The total deformation $d$ is related to the maximum contact pressure by\n",
    "\n",
    "$$\n",
    "d=\\left(\\frac{9 F^2}{16 E^{* 2} R}\\right)^{\\frac{1}{3}}\n",
    "$$"
   ]
  },
  {
   "cell_type": "code",
   "execution_count": 43,
   "metadata": {},
   "outputs": [],
   "source": [
    "d_analytical = a**2 / R\n",
    "\n",
    "#d_analytical\n",
    "\n",
    "#d_analytical2 = (9 * F**2 / (16 * E_star**2 * R))**(1/3)\n",
    "\n",
    "#d_analytical2"
   ]
  },
  {
   "cell_type": "markdown",
   "metadata": {},
   "source": [
    "## Q1: Here actually  we just have the total deformation $d$, how can we get the analytical deformation distribution\n",
    "\n",
    "Here we mesh the domain, and give the coordinate of the center of contact zone as (0,0),then $r$ can be given as $ \\sqrt{\\left(x-x_0\\right)^2+\\left(y-y_0\\right)^2} $."
   ]
  },
  {
   "cell_type": "markdown",
   "metadata": {},
   "source": [
    "The distribution of normal pressure in the contact area as a function of distance from the center of the circle is \n",
    "\n",
    "$$\n",
    "p(r)=p_0\\left(1-\\frac{r^2}{a^2}\\right)^{\\frac{1}{2}}\n",
    "$$\n",
    "\n",
    "where $p_0$ is the maximum contact pressure given by\n",
    "\n",
    "$$\n",
    "p_0=\\frac{3 F}{2 \\pi a^2}=\\frac{1}{\\pi}\\left(\\frac{6 F E^{* 2}}{R^2}\\right)^{\\frac{1}{3}}\n",
    "$$\n"
   ]
  },
  {
   "cell_type": "code",
   "execution_count": 44,
   "metadata": {},
   "outputs": [
    {
     "ename": "TypeError",
     "evalue": "pressure_distribution() missing 3 required positional arguments: 'y0', 'a', and 'p0'",
     "output_type": "error",
     "traceback": [
      "\u001b[0;31m---------------------------------------------------------------------------\u001b[0m",
      "\u001b[0;31mTypeError\u001b[0m                                 Traceback (most recent call last)",
      "\u001b[0;32m/tmp/ipykernel_61499/507851330.py\u001b[0m in \u001b[0;36m<module>\u001b[0;34m\u001b[0m\n\u001b[1;32m     28\u001b[0m \u001b[0;34m\u001b[0m\u001b[0m\n\u001b[1;32m     29\u001b[0m \u001b[0;31m#We calculate test pressure on the grid\u001b[0m\u001b[0;34m\u001b[0m\u001b[0;34m\u001b[0m\u001b[0m\n\u001b[0;32m---> 30\u001b[0;31m \u001b[0mtest_pressure\u001b[0m \u001b[0;34m=\u001b[0m \u001b[0mpressure_distribution\u001b[0m\u001b[0;34m(\u001b[0m\u001b[0mx\u001b[0m\u001b[0;34m,\u001b[0m \u001b[0mx0\u001b[0m\u001b[0;34m,\u001b[0m \u001b[0mp0\u001b[0m\u001b[0;34m)\u001b[0m\u001b[0;34m\u001b[0m\u001b[0;34m\u001b[0m\u001b[0m\n\u001b[0m\u001b[1;32m     31\u001b[0m \u001b[0;31m#We generate the pressure distribution in Fourier space\u001b[0m\u001b[0;34m\u001b[0m\u001b[0;34m\u001b[0m\u001b[0m\n\u001b[1;32m     32\u001b[0m \u001b[0mpressure_fourier\u001b[0m \u001b[0;34m=\u001b[0m \u001b[0mnp\u001b[0m\u001b[0;34m.\u001b[0m\u001b[0mfft\u001b[0m\u001b[0;34m.\u001b[0m\u001b[0mfft2\u001b[0m\u001b[0;34m(\u001b[0m\u001b[0mtest_pressure\u001b[0m\u001b[0;34m,\u001b[0m \u001b[0mnorm\u001b[0m\u001b[0;34m=\u001b[0m\u001b[0;34m'ortho'\u001b[0m\u001b[0;34m)\u001b[0m\u001b[0;34m\u001b[0m\u001b[0;34m\u001b[0m\u001b[0m\n",
      "\u001b[0;31mTypeError\u001b[0m: pressure_distribution() missing 3 required positional arguments: 'y0', 'a', and 'p0'"
     ]
    }
   ],
   "source": [
    "#Here we define p0 as the reference pressure\n",
    "p0 = (1/np.pi) * (6*F*(E_star**2)/(R**2))**(1/3) \n",
    "\n",
    "'''\n",
    "#We generate a 2D coordinate space\n",
    "n = 100\n",
    "m = 100\n",
    "\n",
    "x, y = np.meshgrid(np.linspace(0, L, n, endpoint=False), np.linspace(0, L, m, endpoint=False))#notice here that we use endpoint=False to avoid having the last point\n",
    "\n",
    "#Here we define the pressure distribution\n",
    "def pressure_distribution(x, y, x0, y0, p0):\n",
    "    r = np.sqrt((x-x0)**2 + (y-y0)**2)\n",
    "    p = p0 * (1 - (r/a)**2)**0.5\n",
    "    p[r > a] = 0\n",
    "'''\n",
    "def pressure_distribution(x, y, x0, y0, a, p0):\n",
    "    r2 = (x-x0)**2 + (y-y0)**2\n",
    "    if r2 <= a**2:        \n",
    "        return p0*np.sqrt(1-r2/a**2)\n",
    "    else:\n",
    "        return 0\n",
    "pressure_distribution = np.vectorize(pressure_distribution)#try to vectorize the function\n",
    "# Any benefit of vectorizing the function?\n",
    "\n",
    "\n",
    "\n",
    "x0 = 0\n",
    "y0 = 0\n",
    "\n",
    "#We calculate test pressure on the grid\n",
    "test_pressure = pressure_distribution(x, x0, p0)\n",
    "#We generate the pressure distribution in Fourier space\n",
    "pressure_fourier = np.fft.fft2(test_pressure, norm='ortho')\n",
    "# Visualization of the Fourier-transformed pressure\n",
    "fig, ax = plt.subplots()\n",
    "extent = [x.min(), x.max(), y.min(), y.max()]\n",
    "im = ax.imshow(np.log(np.abs(pressure_fourier)), extent=extent, origin='lower')#not so clear with abs here # That means we take the norm of the complex number\n",
    "plt.colorbar(im, ax=ax)\n",
    "plt.title('Log of Absolute Value of Fourier-transformed Pressure')\n",
    "plt.xlabel('x')\n",
    "plt.ylabel('y')\n",
    "plt.show()\n",
    "\n",
    "\n",
    "'''#Try this figure\n",
    "pressure_img = plt.imshow(P/p0, extent=[x_min + dx/2, x_max, y_min + dx/2, y_max], \n",
    "                            origin='lower', interpolation='bicubic', cmap=plt.cm.inferno, vmax = 1)\n",
    "fig.colorbar(pressure_img, ax=ax[0], label='Pressure', orientation=\"horizontal\")\n",
    "plt.set_title('Pressure Distribution')\n",
    "plt.set_xlabel('x')\n",
    "plt.set_ylabel('y')\n",
    "'''"
   ]
  },
  {
   "cell_type": "markdown",
   "metadata": {},
   "source": [
    "## Note, $p(r>a)$ = 0 "
   ]
  },
  {
   "cell_type": "markdown",
   "metadata": {},
   "source": [
    "We give the displacement by convolution integral:\n",
    "\n",
    "$$\n",
    "u(x, y)=\\iint \\frac{p\\left(x^{\\prime}, y^{\\prime}\\right)}{\\sqrt{\\left(x-x^{\\prime}\\right)+\\left(y-y^{\\prime}\\right)^2}} \\cdot \\frac{1}{\\pi E^*} d x^{\\prime} d y^{\\prime}\n",
    "$$\n",
    "\n",
    "We take advantage of the property of convolution product:\n",
    "\n",
    "$$\n",
    "\\mathcal{F}(u)=\\mathcal{F}(f) \\cdot \\mathcal{F}(p)\n",
    "$$\n",
    "\n",
    "We define our Kernel function in fourrier domain:\n",
    "\n",
    "$$\n",
    "\\mathcal{F}(f)=\\frac{2}{E^* \\sqrt{q_x^2+q_y^2}}\n",
    "$$"
   ]
  },
  {
   "cell_type": "code",
   "execution_count": null,
   "metadata": {},
   "outputs": [],
   "source": [
    "#we define the frequency with q_x and q_y\n",
    "q_x = 2 * np.pi * np.fft.fftfreq(n, d=L/n)\n",
    "q_y = 2 * np.pi * np.fft.fftfreq(m, d=L/m)\n",
    "QX, QY = np.meshgrid(q_x, q_y)\n",
    "\n",
    "kernel_fourier = np.zeros_like(QX)  # Initialize the kernel array\n",
    "#non_zero_indices = (QX**2 + QY**2) != 0  # Avoid division by zero\n",
    "kernel_fourier = 2 / (E_star * np.sqrt(QX**2 + QY**2))\n",
    "kernel_fourier[0, 0] = 0  # Set the zero frequency component to zero"
   ]
  },
  {
   "cell_type": "markdown",
   "metadata": {},
   "source": [
    "We define our "
   ]
  },
  {
   "cell_type": "code",
   "execution_count": null,
   "metadata": {},
   "outputs": [],
   "source": [
    "#Calculate the displacement field in fourrier space\n",
    "displacement_fourrier = pressure_fourier * kernel_fourier\n",
    "\n",
    "#We calculate the displacement field in real space\n",
    "displacement_real = np.fft.ifft2(displacement_fourrier, norm='ortho')\n",
    "\n",
    "\n",
    "# Since displacement_analytical is a large array, we won't print it directly to avoid clutter.\n",
    "# Instead, let's visualize the real part of the displacement in real space for comparison.\n",
    "plt.figure()\n",
    "plt.imshow(np.real(displacement_real), extent=extent, origin='lower')\n",
    "plt.colorbar()\n",
    "plt.title('Real Part of Displacement Field in Real Space')\n",
    "plt.xlabel('x')\n",
    "plt.ylabel('y')\n",
    "plt.show()\n"
   ]
  },
  {
   "cell_type": "markdown",
   "metadata": {},
   "source": [
    "We want to compute the displacement for different loading correponds to small contact zone and large contact zone."
   ]
  },
  {
   "cell_type": "markdown",
   "metadata": {},
   "source": []
  },
  {
   "cell_type": "code",
   "execution_count": null,
   "metadata": {},
   "outputs": [],
   "source": []
  },
  {
   "cell_type": "code",
   "execution_count": null,
   "metadata": {},
   "outputs": [],
   "source": []
  },
  {
   "cell_type": "markdown",
   "metadata": {},
   "source": [
    "##### Reference:\n",
    "\n",
    "[1] https://en.wikipedia.org/wiki/Contact_mechanics"
   ]
  },
  {
   "cell_type": "markdown",
   "metadata": {},
   "source": []
  }
 ],
 "metadata": {
  "kernelspec": {
   "display_name": "Python 3",
   "language": "python",
   "name": "python3"
  },
  "language_info": {
   "codemirror_mode": {
    "name": "ipython",
    "version": 3
   },
   "file_extension": ".py",
   "mimetype": "text/x-python",
   "name": "python",
   "nbconvert_exporter": "python",
   "pygments_lexer": "ipython3",
   "version": "3.10.12"
  }
 },
 "nbformat": 4,
 "nbformat_minor": 2
}
