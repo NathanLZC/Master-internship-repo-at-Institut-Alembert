{
 "cells": [
  {
   "cell_type": "markdown",
   "metadata": {},
   "source": [
    "## Hertz Contact\n",
    "#### Contact between a sphere and a half-space"
   ]
  },
  {
   "cell_type": "markdown",
   "metadata": {},
   "source": [
    "An elastic sphere of radius $R$ indents an elastic half-space where total deformation is $d$, causing a contact area of radius[1]\n",
    "\n",
    "![Alt Text](/Users/lizichen/Master_internship/Week2/Contact_sphere-plane.jpg)\n",
    "\n",
    "$$\n",
    "a=\\sqrt{R d}\n",
    "$$\n",
    "\n",
    "The applied force $F$ is related to the displacement $d$ by\n",
    "\n",
    "$$\n",
    "F=\\frac{4}{3} E^* R^{\\frac{1}{2}} d^{\\frac{3}{2}}\n",
    "$$\n",
    "\n",
    "where \n",
    "\n",
    "$$\n",
    "\\frac{1}{E^*}=\\frac{1-\\nu_1^2}{E_1}+\\frac{1-\\nu_2^2}{E_2}\n",
    "$$\n",
    "\n",
    "and $E_1, E_2$ are the elastic moduli and $\\nu_1, \\nu_2$ the Poisson's ratios associated with each body.\n",
    "\n",
    "The distribution of normal pressure in the contact area as a function of distance from the center of the circle is \n",
    "\n",
    "$$\n",
    "p(r)=p_0\\left(1-\\frac{r^2}{a^2}\\right)^{\\frac{1}{2}}\n",
    "$$\n",
    "\n",
    "where $p_0$ is the maximum contact pressure given by\n",
    "\n",
    "$$\n",
    "p_0=\\frac{3 F}{2 \\pi a^2}=\\frac{1}{\\pi}\\left(\\frac{6 F E^{* 2}}{R^2}\\right)^{\\frac{1}{3}}\n",
    "$$\n",
    "\n",
    "The radius of the circle is related to the applied load $F$ by the equation\n"
   ]
  },
  {
   "cell_type": "code",
   "execution_count": 1,
   "metadata": {},
   "outputs": [],
   "source": [
    "import numpy as np\n",
    "import matplotlib as plt\n",
    "import time"
   ]
  },
  {
   "cell_type": "markdown",
   "metadata": {},
   "source": [
    "##### Reference:\n",
    "\n",
    "[1] https://en.wikipedia.org/wiki/Contact_mechanics"
   ]
  },
  {
   "cell_type": "markdown",
   "metadata": {},
   "source": []
  }
 ],
 "metadata": {
  "kernelspec": {
   "display_name": "Python 3",
   "language": "python",
   "name": "python3"
  },
  "language_info": {
   "codemirror_mode": {
    "name": "ipython",
    "version": 3
   },
   "file_extension": ".py",
   "mimetype": "text/x-python",
   "name": "python",
   "nbconvert_exporter": "python",
   "pygments_lexer": "ipython3",
   "version": "3.11.5"
  }
 },
 "nbformat": 4,
 "nbformat_minor": 2
}
