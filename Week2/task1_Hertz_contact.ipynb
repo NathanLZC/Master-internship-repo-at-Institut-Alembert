{
 "cells": [
  {
   "cell_type": "markdown",
   "metadata": {},
   "source": [
    "## Hertz Contact\n",
    "#### Contact between a sphere and a half-space"
   ]
  },
  {
   "cell_type": "markdown",
   "metadata": {},
   "source": [
    "An elastic sphere of radius $R$ indents an elastic half-space where total deformation is $d$, causing a contact area of radius[1]\n",
    "\n",
    "![Alt Text](/Users/lizichen/Master-internship-repo-at-Institut-dAlembert/Week2/figures/Contact_sphere-plane.jpg)\n",
    "\n",
    "$$\n",
    "a=\\sqrt{R d}\n",
    "$$\n",
    "\n",
    "\n",
    "The maximum shear stress occurs in the interior at $z \\approx 0.49 a$ for $\\nu=0.33$\n"
   ]
  },
  {
   "cell_type": "markdown",
   "metadata": {},
   "source": [
    "We want to apply cite Hertz Contact solution for a non-friction Contact between a sphere and a half-space and compare with our FFT solution."
   ]
  },
  {
   "cell_type": "code",
   "execution_count": 20,
   "metadata": {},
   "outputs": [],
   "source": [
    "import numpy as np\n",
    "import matplotlib as plt\n",
    "import time"
   ]
  },
  {
   "cell_type": "markdown",
   "metadata": {},
   "source": [
    "The separation between two surfaces is given by:\n",
    "$$\n",
    "h=A x^2+B y^2=\\frac{1}{2 R^{\\prime}} x^2+\\frac{1}{2 R^{\\prime \\prime}} y^2\n",
    "$$\n",
    "In Appendix 2 of *Contact Mechanics*[2], we have:\n",
    "$$\n",
    "(A+B)=\\frac{1}{2}\\left(\\frac{1}{R^{\\prime}}+\\frac{1}{R^{\\prime \\prime}}\\right)=\\frac{1}{2}\\left(\\frac{1}{R_1^{\\prime}}+\\frac{1}{R_1^{\\prime \\prime}}+\\frac{1}{R_2^{\\prime}}+\\frac{1}{R_2^{\\prime \\prime}}\\right)\n",
    "$$\n",
    "And\n",
    "$$\n",
    "\\begin{aligned}\n",
    "(B-A)= & \\frac{1}{2}\\left\\{\\left(\\frac{1}{R_1^{\\prime}}-\\frac{1}{R_1^{\\prime \\prime}}\\right)^2+\\left(\\frac{1}{R_2^{\\prime}}-\\frac{1}{R_2^{\\prime \\prime}}\\right)^2\\right. \\\\\n",
    "& \\left.+2\\left(\\frac{1}{R_1^{\\prime}}-\\frac{1}{R_1^{\\prime \\prime}}\\right)\\left(\\frac{1}{R_2^{\\prime}}-\\frac{1}{R_2^{\\prime \\prime}}\\right) \\cos 2 \\alpha\\right\\}^{1 / 2}\n",
    "\\end{aligned}\n",
    "$$\n",
    "\n",
    "We introduce an equivalent radius $R_{\\mathrm{e}}$ defined by\n",
    "\n",
    "$$\n",
    "R_{\\mathrm{e}}=\\left(R^{\\prime} R^{\\prime \\prime}\\right)^{1 / 2}=\\frac{1}{2}(A B)^{-1 / 2}\n",
    "$$\n",
    "\n",
    "In this case the contours of constant separation are circles and identical to those due to a sphere of the same radius $R$ in contact with a plane surface $\\left(R_2^{\\prime}=R_2^{\\prime \\prime}=\\infty\\right)$.\n",
    "\n",
    "\n",
    "\n",
    "\n",
    "### Contact between a sphere and a half-space\n",
    "\n",
    "\n",
    "We will consider first the simpler case of solids of revolution $\\left(R_1^{\\prime}=R_1^{\\prime \\prime}=R_1 ; R_2^{\\prime}=R_2^{\\prime \\prime}=R_2\\right)$. The contact area will be circular, having a radius $a$, say. It is clear that $A=B=\\frac{1}{2}\\left(1 / R_1+1 / R_2\\right)$, here for contact between a sphere and a half-space, $R_2^{\\prime}=R_2^{\\prime \\prime}=\\infty$.\n",
    "\n",
    "$$\n",
    "\\bar{u}_{z 1}+\\bar{u}_{z 2}=\\delta-(1 / 2 R) r^2\n",
    "$$\n",
    "\n",
    "The pressure distribution proposed by Hertz:\n",
    "\n",
    "$$\n",
    "p=p_0\\left\\{1-(r / a)^2\\right\\}^{1 / 2}\n",
    "$$\n",
    "\n",
    "was shown to give normal displacements\n",
    "\n",
    "$$\n",
    "\\bar{u}_z=\\frac{1-\\nu^2}{E} \\frac{\\pi p_0}{4 a}\\left(2 a^2-r^2\\right), \\quad r \\leqslant a\n",
    "$$\n",
    "\n",
    "The pressure acting on the second body is equal to that on the first, so that by writing\n",
    "\n",
    "$$\n",
    "\\frac{1}{E^*}=\\frac{1-\\nu_1^2}{E_1}+\\frac{1-\\nu_2^2}{E_2}\n",
    "$$\n",
    "\n",
    "and $E_1, E_2$ are the elastic moduli and $\\nu_1, \\nu_2$ the Poisson's ratios associated with each body.\n",
    "\n",
    "then substituting the expressions for $\\bar{u}_{z 1}$ and $\\bar{u}_{z 2}$, we get\n",
    "\n",
    "$$\n",
    "\\frac{\\pi p_0}{4 a E^*}\\left(2 a^2-r^2\\right)=\\delta-(1 / 2 R) r^2\n",
    "$$\n",
    "\n",
    "from which the radius of the contact circle is given by\n",
    "\n",
    "$$\n",
    "a=\\pi p_0 R / 2 E^*\n",
    "$$\n",
    "\n",
    "The total load(We use F in codes) compressing the solids is related to the pressure by\n",
    "\n",
    "$$\n",
    "P=\\int_0^a p(r) 2 \\pi r \\mathrm{~d} r=\\frac{2}{3} p_0 \\pi a^2\n",
    "$$\n",
    "\n",
    "Hence the maximum pressure $p_0$ is $3 / 2$ times the mean pressure $p_{\\mathrm{m}}$.\n",
    "\n",
    "It is convenient to use this total load to rewrite as follow:\n",
    "\n",
    "$$\n",
    "\\begin{aligned}\n",
    "& a=\\left(\\frac{3 P R}{4 E^*}\\right)^{1 / 3} \\\\\n",
    "& \\delta=\\frac{a^2}{R}=\\left(\\frac{9 P^2}{16 R E^{* 2}}\\right)^{1 / 3} \\\\\n",
    "& p_0=\\frac{3 P}{2 \\pi a^2}=\\left(\\frac{6 P E^{* 2}}{\\pi^3 R^2}\\right)^{1 / 3}\n",
    "\\end{aligned}\n",
    "$$"
   ]
  },
  {
   "cell_type": "markdown",
   "metadata": {},
   "source": []
  },
  {
   "cell_type": "code",
   "execution_count": 21,
   "metadata": {},
   "outputs": [],
   "source": [
    "# We define the total loading P as F, we give F as input\n",
    "F = np.linspace(0, 1e6, 1000)\n",
    "\n",
    "\n",
    "# We define the radius of the elastic sphere as R\n",
    "R = 1\n",
    "# We define the elastic modulus of the sphere as E1, and the elastic modulus of the surface as E2\n",
    "E1 = 1e5\n",
    "E2 = 1e3\n",
    "# We define the Poisson ratio of the sphere as v1, and the Poisson ratio of the surface as v2\n",
    "v1 = 0.33\n",
    "v2 = 0.33\n",
    "# We define the reduced elastic modulus as E_star\n",
    "E_star = 1 / ((1 - v1**2) / E1 + (1 - v2**2) / E2)\n",
    "# We define the contact radius as a\n",
    "a = 3*F*R/(4*E_star)\n",
    "\n",
    "# We define the domain is L^2\n",
    "L = 2\n"
   ]
  },
  {
   "cell_type": "markdown",
   "metadata": {},
   "source": [
    "### First we give our analytical normal displacement solution by Hertz\n",
    "\n",
    "$$\n",
    "\\bar{u}_z=\\frac{1-\\nu^2}{E} \\frac{\\pi p_0}{4 a}\\left(2 a^2-r^2\\right), \\quad r \\leqslant a\n",
    "$$"
   ]
  },
  {
   "cell_type": "code",
   "execution_count": 22,
   "metadata": {},
   "outputs": [
    {
     "ename": "ValueError",
     "evalue": "operands could not be broadcast together with shapes (1000,) (100,100) ",
     "output_type": "error",
     "traceback": [
      "\u001b[0;31m---------------------------------------------------------------------------\u001b[0m",
      "\u001b[0;31mValueError\u001b[0m                                Traceback (most recent call last)",
      "Cell \u001b[0;32mIn[22], line 15\u001b[0m\n\u001b[1;32m     11\u001b[0m p0 \u001b[38;5;241m=\u001b[39m (\u001b[38;5;241m1\u001b[39m\u001b[38;5;241m/\u001b[39mnp\u001b[38;5;241m.\u001b[39mpi) \u001b[38;5;241m*\u001b[39m (\u001b[38;5;241m6\u001b[39m\u001b[38;5;241m*\u001b[39mF\u001b[38;5;241m*\u001b[39m(E_star\u001b[38;5;241m*\u001b[39m\u001b[38;5;241m*\u001b[39m\u001b[38;5;241m2\u001b[39m)\u001b[38;5;241m/\u001b[39m(R\u001b[38;5;241m*\u001b[39m\u001b[38;5;241m*\u001b[39m\u001b[38;5;241m2\u001b[39m))\u001b[38;5;241m*\u001b[39m\u001b[38;5;241m*\u001b[39m(\u001b[38;5;241m1\u001b[39m\u001b[38;5;241m/\u001b[39m\u001b[38;5;241m3\u001b[39m) \u001b[38;5;66;03m#this is the reference pressure\u001b[39;00m\n\u001b[1;32m     13\u001b[0m \u001b[38;5;66;03m## We define the analytical displacement field\u001b[39;00m\n\u001b[0;32m---> 15\u001b[0m Analytical_displacement \u001b[38;5;241m=\u001b[39m np\u001b[38;5;241m.\u001b[39mpi\u001b[38;5;241m*\u001b[39mp0\u001b[38;5;241m*\u001b[39m(\u001b[38;5;241m2\u001b[39m\u001b[38;5;241m*\u001b[39ma\u001b[38;5;241m*\u001b[39m\u001b[38;5;241m*\u001b[39m\u001b[38;5;241m2\u001b[39m\u001b[38;5;241m-\u001b[39mr\u001b[38;5;241m*\u001b[39m\u001b[38;5;241m*\u001b[39m\u001b[38;5;241m2\u001b[39m)\u001b[38;5;241m/\u001b[39m(\u001b[38;5;241m4\u001b[39m\u001b[38;5;241m*\u001b[39mE_star\u001b[38;5;241m*\u001b[39ma)\n",
      "\u001b[0;31mValueError\u001b[0m: operands could not be broadcast together with shapes (1000,) (100,100) "
     ]
    }
   ],
   "source": [
    "#We generate a 2D coordinate space\n",
    "n = 100\n",
    "m = 100\n",
    "\n",
    "x, y = np.meshgrid(np.linspace(0, L, n, endpoint=False), np.linspace(0, L, m, endpoint=False))#notice here that we use endpoint=False to avoid having the last point\n",
    "\n",
    "# We define the distance from the center of the sphere\n",
    "r = np.sqrt(x**2 + y**2)\n",
    "\n",
    "#Here we define p0 as the reference pressure\n",
    "p0 = (1/np.pi) * (6*F*(E_star**2)/(R**2))**(1/3) #this is the reference pressure\n",
    "\n",
    "## We define the analytical displacement field\n",
    "\n",
    "Analytical_displacement = np.pi*p0*(2*a**2-r**2)/(4*E_star*a) #this is the analytical displacement field"
   ]
  },
  {
   "cell_type": "markdown",
   "metadata": {},
   "source": [
    "The total deformation $d$ is related to the maximum contact pressure by\n",
    "\n",
    "$$\n",
    "d=\\left(\\frac{9 F^2}{16 E^{* 2} R}\\right)^{\\frac{1}{3}}\n",
    "$$\n",
    "\n",
    "We can compare our (x,y)=(0,0) displacement with this value"
   ]
  },
  {
   "cell_type": "code",
   "execution_count": null,
   "metadata": {},
   "outputs": [],
   "source": [
    "d_total_deformation = a**2 / R\n",
    "\n",
    "#d_total_deformation\n",
    "\n",
    "#d_total_deformation2 = (9 * F**2 / (16 * E_star**2 * R))**(1/3)\n",
    "\n",
    "#d_total_deformation2"
   ]
  },
  {
   "cell_type": "markdown",
   "metadata": {},
   "source": [
    "## Q1: Here actually  we just have the total deformation $d$, how can we get the analytical deformation distribution\n",
    "\n",
    "Here we mesh the domain, and give the coordinate of the center of contact zone as (0,0),then $r$ can be given as $ \\sqrt{\\left(x-x_0\\right)^2+\\left(y-y_0\\right)^2} $."
   ]
  },
  {
   "cell_type": "markdown",
   "metadata": {},
   "source": [
    "The distribution of normal pressure in the contact area as a function of distance from the center of the circle is \n",
    "\n",
    "$$\n",
    "p(r)=p_0\\left(1-\\frac{r^2}{a^2}\\right)^{\\frac{1}{2}}\n",
    "$$\n",
    "\n",
    "where $p_0$ is the maximum contact pressure given by\n",
    "\n",
    "$$\n",
    "p_0=\\frac{3 F}{2 \\pi a^2}=\\frac{1}{\\pi}\\left(\\frac{6 F E^{* 2}}{R^2}\\right)^{\\frac{1}{3}}\n",
    "$$\n"
   ]
  },
  {
   "cell_type": "code",
   "execution_count": null,
   "metadata": {},
   "outputs": [
    {
     "ename": "TypeError",
     "evalue": "pressure_distribution() missing 1 required positional argument: 'p0'",
     "output_type": "error",
     "traceback": [
      "\u001b[0;31m---------------------------------------------------------------------------\u001b[0m",
      "\u001b[0;31mTypeError\u001b[0m                                 Traceback (most recent call last)",
      "Cell \u001b[0;32mIn[16], line 32\u001b[0m\n\u001b[1;32m     29\u001b[0m y0 \u001b[38;5;241m=\u001b[39m \u001b[38;5;241m0\u001b[39m\n\u001b[1;32m     31\u001b[0m \u001b[38;5;66;03m#We calculate test pressure on the grid\u001b[39;00m\n\u001b[0;32m---> 32\u001b[0m test_pressure \u001b[38;5;241m=\u001b[39m pressure_distribution(x, y, x0, y0, p0)\n\u001b[1;32m     33\u001b[0m \u001b[38;5;66;03m#We generate the pressure distribution in Fourier space\u001b[39;00m\n\u001b[1;32m     34\u001b[0m pressure_fourier \u001b[38;5;241m=\u001b[39m np\u001b[38;5;241m.\u001b[39mfft\u001b[38;5;241m.\u001b[39mfft2(test_pressure, norm\u001b[38;5;241m=\u001b[39m\u001b[38;5;124m'\u001b[39m\u001b[38;5;124mortho\u001b[39m\u001b[38;5;124m'\u001b[39m)\n",
      "File \u001b[0;32m~/anaconda3/lib/python3.11/site-packages/numpy/lib/function_base.py:2329\u001b[0m, in \u001b[0;36mvectorize.__call__\u001b[0;34m(self, *args, **kwargs)\u001b[0m\n\u001b[1;32m   2326\u001b[0m     vargs \u001b[38;5;241m=\u001b[39m [args[_i] \u001b[38;5;28;01mfor\u001b[39;00m _i \u001b[38;5;129;01min\u001b[39;00m inds]\n\u001b[1;32m   2327\u001b[0m     vargs\u001b[38;5;241m.\u001b[39mextend([kwargs[_n] \u001b[38;5;28;01mfor\u001b[39;00m _n \u001b[38;5;129;01min\u001b[39;00m names])\n\u001b[0;32m-> 2329\u001b[0m \u001b[38;5;28;01mreturn\u001b[39;00m \u001b[38;5;28mself\u001b[39m\u001b[38;5;241m.\u001b[39m_vectorize_call(func\u001b[38;5;241m=\u001b[39mfunc, args\u001b[38;5;241m=\u001b[39mvargs)\n",
      "File \u001b[0;32m~/anaconda3/lib/python3.11/site-packages/numpy/lib/function_base.py:2407\u001b[0m, in \u001b[0;36mvectorize._vectorize_call\u001b[0;34m(self, func, args)\u001b[0m\n\u001b[1;32m   2405\u001b[0m     res \u001b[38;5;241m=\u001b[39m func()\n\u001b[1;32m   2406\u001b[0m \u001b[38;5;28;01melse\u001b[39;00m:\n\u001b[0;32m-> 2407\u001b[0m     ufunc, otypes \u001b[38;5;241m=\u001b[39m \u001b[38;5;28mself\u001b[39m\u001b[38;5;241m.\u001b[39m_get_ufunc_and_otypes(func\u001b[38;5;241m=\u001b[39mfunc, args\u001b[38;5;241m=\u001b[39margs)\n\u001b[1;32m   2409\u001b[0m     \u001b[38;5;66;03m# Convert args to object arrays first\u001b[39;00m\n\u001b[1;32m   2410\u001b[0m     inputs \u001b[38;5;241m=\u001b[39m [asanyarray(a, dtype\u001b[38;5;241m=\u001b[39m\u001b[38;5;28mobject\u001b[39m) \u001b[38;5;28;01mfor\u001b[39;00m a \u001b[38;5;129;01min\u001b[39;00m args]\n",
      "File \u001b[0;32m~/anaconda3/lib/python3.11/site-packages/numpy/lib/function_base.py:2367\u001b[0m, in \u001b[0;36mvectorize._get_ufunc_and_otypes\u001b[0;34m(self, func, args)\u001b[0m\n\u001b[1;32m   2363\u001b[0m     \u001b[38;5;28;01mraise\u001b[39;00m \u001b[38;5;167;01mValueError\u001b[39;00m(\u001b[38;5;124m'\u001b[39m\u001b[38;5;124mcannot call `vectorize` on size 0 inputs \u001b[39m\u001b[38;5;124m'\u001b[39m\n\u001b[1;32m   2364\u001b[0m                      \u001b[38;5;124m'\u001b[39m\u001b[38;5;124munless `otypes` is set\u001b[39m\u001b[38;5;124m'\u001b[39m)\n\u001b[1;32m   2366\u001b[0m inputs \u001b[38;5;241m=\u001b[39m [arg\u001b[38;5;241m.\u001b[39mflat[\u001b[38;5;241m0\u001b[39m] \u001b[38;5;28;01mfor\u001b[39;00m arg \u001b[38;5;129;01min\u001b[39;00m args]\n\u001b[0;32m-> 2367\u001b[0m outputs \u001b[38;5;241m=\u001b[39m func(\u001b[38;5;241m*\u001b[39minputs)\n\u001b[1;32m   2369\u001b[0m \u001b[38;5;66;03m# Performance note: profiling indicates that -- for simple\u001b[39;00m\n\u001b[1;32m   2370\u001b[0m \u001b[38;5;66;03m# functions at least -- this wrapping can almost double the\u001b[39;00m\n\u001b[1;32m   2371\u001b[0m \u001b[38;5;66;03m# execution time.\u001b[39;00m\n\u001b[1;32m   2372\u001b[0m \u001b[38;5;66;03m# Hence we make it optional.\u001b[39;00m\n\u001b[1;32m   2373\u001b[0m \u001b[38;5;28;01mif\u001b[39;00m \u001b[38;5;28mself\u001b[39m\u001b[38;5;241m.\u001b[39mcache:\n",
      "\u001b[0;31mTypeError\u001b[0m: pressure_distribution() missing 1 required positional argument: 'p0'"
     ]
    }
   ],
   "source": [
    "\n",
    "\n",
    "\n",
    "'''\n",
    "#Here we define the pressure distribution\n",
    "def pressure_distribution(x, y, x0, y0, p0):\n",
    "    r = np.sqrt((x-x0)**2 + (y-y0)**2)\n",
    "    p = p0 * (1 - (r/a)**2)**0.5\n",
    "    p[r > a] = 0\n",
    "'''\n",
    "def pressure_distribution(x, y, x0, y0, a, p0):\n",
    "    r2 = (x-x0)**2 + (y-y0)**2\n",
    "    if r2 <= a**2:        \n",
    "        return p0*np.sqrt(1-r2/a**2)\n",
    "    else:\n",
    "        return 0\n",
    "pressure_distribution = np.vectorize(pressure_distribution)#try to vectorize the function\n",
    "# Any benefit of vectorizing the function?\n",
    "\n",
    "\n",
    "\n",
    "x0 = 0\n",
    "y0 = 0\n",
    "\n",
    "#We calculate test pressure on the grid\n",
    "test_pressure = pressure_distribution(x, y, x0, y0, p0)\n",
    "#We generate the pressure distribution in Fourier space\n",
    "pressure_fourier = np.fft.fft2(test_pressure, norm='ortho')\n",
    "# Visualization of the Fourier-transformed pressure\n",
    "fig, ax = plt.subplots()\n",
    "extent = [x.min(), x.max(), y.min(), y.max()]\n",
    "im = ax.imshow(np.log(np.abs(pressure_fourier)), extent=extent, origin='lower')#not so clear with abs here # That means we take the norm of the complex number\n",
    "plt.colorbar(im, ax=ax)\n",
    "plt.title('Log of Absolute Value of Fourier-transformed Pressure')\n",
    "plt.xlabel('x')\n",
    "plt.ylabel('y')\n",
    "plt.show()\n",
    "\n",
    "\n",
    "'''#Try this figure\n",
    "pressure_img = plt.imshow(P/p0, extent=[x_min + dx/2, x_max, y_min + dx/2, y_max], \n",
    "                            origin='lower', interpolation='bicubic', cmap=plt.cm.inferno, vmax = 1)\n",
    "fig.colorbar(pressure_img, ax=ax[0], label='Pressure', orientation=\"horizontal\")\n",
    "plt.set_title('Pressure Distribution')\n",
    "plt.set_xlabel('x')\n",
    "plt.set_ylabel('y')\n",
    "'''"
   ]
  },
  {
   "cell_type": "markdown",
   "metadata": {},
   "source": [
    "## Note, $p(r>a)$ = 0 "
   ]
  },
  {
   "cell_type": "markdown",
   "metadata": {},
   "source": [
    "We give the displacement by convolution integral:\n",
    "\n",
    "$$\n",
    "u(x, y)=\\iint \\frac{p\\left(x^{\\prime}, y^{\\prime}\\right)}{\\sqrt{\\left(x-x^{\\prime}\\right)+\\left(y-y^{\\prime}\\right)^2}} \\cdot \\frac{1}{\\pi E^*} d x^{\\prime} d y^{\\prime}\n",
    "$$\n",
    "\n",
    "We take advantage of the property of convolution product:\n",
    "\n",
    "$$\n",
    "\\mathcal{F}(u)=\\mathcal{F}(f) \\cdot \\mathcal{F}(p)\n",
    "$$\n",
    "\n",
    "We define our Kernel function in fourrier domain:\n",
    "\n",
    "$$\n",
    "\\mathcal{F}(f)=\\frac{2}{E^* \\sqrt{q_x^2+q_y^2}}\n",
    "$$"
   ]
  },
  {
   "cell_type": "code",
   "execution_count": null,
   "metadata": {},
   "outputs": [],
   "source": [
    "#we define the frequency with q_x and q_y\n",
    "q_x = 2 * np.pi * np.fft.fftfreq(n, d=L/n)\n",
    "q_y = 2 * np.pi * np.fft.fftfreq(m, d=L/m)\n",
    "QX, QY = np.meshgrid(q_x, q_y)\n",
    "\n",
    "kernel_fourier = np.zeros_like(QX)  # Initialize the kernel array\n",
    "#non_zero_indices = (QX**2 + QY**2) != 0  # Avoid division by zero\n",
    "kernel_fourier = 2 / (E_star * np.sqrt(QX**2 + QY**2))\n",
    "kernel_fourier[0, 0] = 0  # Set the zero frequency component to zero"
   ]
  },
  {
   "cell_type": "markdown",
   "metadata": {},
   "source": [
    "We define our "
   ]
  },
  {
   "cell_type": "code",
   "execution_count": null,
   "metadata": {},
   "outputs": [],
   "source": [
    "#Calculate the displacement field in fourrier space\n",
    "displacement_fourrier = pressure_fourier * kernel_fourier\n",
    "\n",
    "#We calculate the displacement field in real space\n",
    "displacement_real = np.fft.ifft2(displacement_fourrier, norm='ortho')\n",
    "\n",
    "\n",
    "# Since displacement_analytical is a large array, we won't print it directly to avoid clutter.\n",
    "# Instead, let's visualize the real part of the displacement in real space for comparison.\n",
    "plt.figure()\n",
    "plt.imshow(np.real(displacement_real), extent=extent, origin='lower')\n",
    "plt.colorbar()\n",
    "plt.title('Real Part of Displacement Field in Real Space')\n",
    "plt.xlabel('x')\n",
    "plt.ylabel('y')\n",
    "plt.show()\n"
   ]
  },
  {
   "cell_type": "markdown",
   "metadata": {},
   "source": [
    "We want to compute the displacement for different loading correponds to small contact zone and large contact zone.\n",
    "\n",
    "![Alt Text](/Users/lizichen/Master-internship-repo-at-Institut-dAlembert/Week2/Hertz_contact_animated.gif)"
   ]
  },
  {
   "cell_type": "markdown",
   "metadata": {},
   "source": []
  },
  {
   "cell_type": "code",
   "execution_count": null,
   "metadata": {},
   "outputs": [],
   "source": []
  },
  {
   "cell_type": "code",
   "execution_count": null,
   "metadata": {},
   "outputs": [],
   "source": []
  },
  {
   "cell_type": "markdown",
   "metadata": {},
   "source": [
    "##### Reference:\n",
    "\n",
    "[1] https://en.wikipedia.org/wiki/Contact_mechanics\n",
    "\n",
    "[2] Johnson, K. L. Contact Mechanics. Cambridge [Cambridgeshire]; New York: Cambridge University Press, 1985."
   ]
  },
  {
   "cell_type": "markdown",
   "metadata": {},
   "source": []
  }
 ],
 "metadata": {
  "kernelspec": {
   "display_name": "Python 3",
   "language": "python",
   "name": "python3"
  },
  "language_info": {
   "codemirror_mode": {
    "name": "ipython",
    "version": 3
   },
   "file_extension": ".py",
   "mimetype": "text/x-python",
   "name": "python",
   "nbconvert_exporter": "python",
   "pygments_lexer": "ipython3",
   "version": "3.11.5"
  }
 },
 "nbformat": 4,
 "nbformat_minor": 2
}
