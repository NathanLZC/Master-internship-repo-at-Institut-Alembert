{
 "cells": [
  {
   "cell_type": "markdown",
   "metadata": {},
   "source": [
    "## Boussinesq solution\n",
    "\n",
    "The Boussinesq solution relates a concentrated normal force $N$ applied at a point on the surface of an isotropic elastic half-space to the resulting displacements and stresses in the half-space. The half-space is characterized by its Young's modulus $E$ and Poisson's ratio $\\nu$. The displacement at any point in the half-space due to this point load can be calculated using Boussinesq's equations, which are derived from the theory of elasticity.\n"
   ]
  },
  {
   "cell_type": "markdown",
   "metadata": {},
   "source": [
    "\n",
    "- **Boussinesq Solution**: Applies to point or distributed loads on an elastic half-space and is used to calculate displacements and stresses due to these loads.\n",
    "- **Hertz Contact Theory**: Applies to the contact between two curved surfaces (without friction) and predicts the shape and size of the contact area, the pressure distribution within it, and the overall deformation of the bodies involved.\n",
    "\n"
   ]
  },
  {
   "cell_type": "markdown",
   "metadata": {},
   "source": [
    "![Alt Text](/Users/lizichen/Master-internship-repo-at-Institut-dAlembert/Week2/The-Boussinesq-problem-The-plane-z-0-is-the-boundary-of-a-semi-infinite-elastic-body.png)"
   ]
  },
  {
   "cell_type": "markdown",
   "metadata": {},
   "source": []
  },
  {
   "cell_type": "markdown",
   "metadata": {},
   "source": []
  }
 ],
 "metadata": {
  "language_info": {
   "name": "python"
  }
 },
 "nbformat": 4,
 "nbformat_minor": 2
}
