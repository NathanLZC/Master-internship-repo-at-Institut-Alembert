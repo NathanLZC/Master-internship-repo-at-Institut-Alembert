{
 "cells": [
  {
   "cell_type": "markdown",
   "metadata": {},
   "source": [
    "### How can we choose a proper relaxation time list in our PMMA contact problem?\n",
    "\n",
    "Our viscoelastic solver is based on linear viscoelastic model, with widely-used generalized Maxwell model. The parameters, i.e. relaxation times and elastic moduli of generalized Maxwell model are determined from either a relaxation or a Dynamical Mechanical Analysis(DMA) experiments. In Jalocha(2015)[1], they propose two techniques to identify an optimal series of relaxation times. In the case of the relaxation experiment relaxation times will be optimized from the numerical integration of the measured relaxation spectrum. In the case of the DMA experiments we show that mathematical results obtained by Krein and Nudelmann can be used to determine the complete series of relaxation times."
   ]
  },
  {
   "cell_type": "markdown",
   "metadata": {},
   "source": [
    "The main constitutive unknown is the relaxation spectrum $H(\\tau)$ (Findley et al., 1976) which is related to the relaxation modulus $E(t)$ by:\n",
    "\n",
    "$$\n",
    "E(t)=E_0+\\int_{-\\infty}^{\\infty} H(\\tau) e^{-\\frac{t}{\\tau}} d \\ln (\\tau)\n",
    "$$\n"
   ]
  },
  {
   "cell_type": "markdown",
   "metadata": {},
   "source": [
    "For practical reasons it is convenient to use a model, where the continuous spectrum of relaxation $H(\\tau)$ is replaced with a finite spectrum $\\hat{H}(\\tau)$:\n",
    "\n",
    "$$\n",
    "\\hat{H}(\\tau)=\\sum_{i=1}^n E_i \\delta\\left(1-\\frac{\\tau}{\\tau_i}\\right)\n",
    "$$"
   ]
  },
  {
   "cell_type": "markdown",
   "metadata": {},
   "source": [
    "In the discrete case of Prony series, the relaxation modulus $E(t)$ is represented as:\n",
    "\n",
    "$$\n",
    "E(t)=E_0+\\sum_{i=1}^n E_i e^{-\\frac{t}{\\tau_i}}\n",
    "$$\n",
    "\n",
    "In the frequency domain, the dynamical modulus $E^*(\\omega)$ becomes:\n",
    "\n",
    "$$\n",
    "E^{\\prime}(\\omega)=E_0+\\sum_{i=1}^n \\frac{E_i \\omega^2 \\tau_i^2}{1+\\omega^2 \\tau_i^2} \\quad E^{\\prime \\prime}(\\omega)=\\sum_{i=1}^n \\frac{E_i \\omega \\tau_i}{1+\\omega^2 \\tau_i^2}\n",
    "$$"
   ]
  },
  {
   "cell_type": "markdown",
   "metadata": {},
   "source": [
    "#### DMA experiment\n",
    "\n",
    "For a given frequency $\\omega$, the complex dynamical modulus is defined as:\n",
    "\n",
    "$$\n",
    "E^*(\\omega)=\\frac{\\sigma^*}{\\varepsilon^*}=E^{\\prime}(\\omega)+i E^{\\prime \\prime}(\\omega)\n",
    "$$\n",
    "\n"
   ]
  },
  {
   "cell_type": "markdown",
   "metadata": {},
   "source": [
    "##### *HW method*\n",
    "\n",
    "In Jalocha(2015)[1], they first reviewed *HW* method proposed by *Honerkamp (1989)* and *Honerkamp and Weese (1990)*, where they first choose arbitrary Maxwell branches and solve the dynamical modulus $E^{\\prime}(\\omega)$ and $E^{\\prime \\prime}(\\omega)$ equation, $\\mathbf{E}^{\\prime}=\\mathbf{E}_{\\mathbf{0}}+\\mathbf{A E}$ and $\\mathbf{E}^{\\prime \\prime}=\\mathbf{B E}$, in the frequency domain, where the matrix $\\mathbf{A}$ and $\\mathbf{B}$ are defined as:\n",
    "\n",
    "$$\n",
    "\\mathbf{A}=\\left(a_{i j}\\right) \\quad a_{j i}=\\frac{\\omega_j^2 \\tau_i^2}{1+\\omega_j^2 \\tau_i^2}\n",
    "$$\n",
    "\n",
    "$$\n",
    "\\mathbf{B}=\\left(b_{i j}\\right) \\quad b_{j i}=\\frac{\\omega_j \\tau_i}{1+\\omega_j^2 \\tau_i^2}\n",
    "$$\n",
    "\n"
   ]
  },
  {
   "cell_type": "markdown",
   "metadata": {},
   "source": [
    "##### *Proposed procedure: the KN + HW method* in Jalocha(2015)[1]\n",
    "\n",
    "The method proposed permits to replace the arbitrary choice of the relaxation times with an exact computation of the series of relaxation times. This novelty eliminates the first step of the *HW method*, where the relaxation times are generally imposed as a linear series on the logarithmic scale.(More detailed mathmatical deduce is in Appendix)\n",
    "\n",
    "- Step 1: Build the two complex matrices $\\mathbf{M}^1$ and $\\mathbf{M}^2$ defined by their components:\n",
    "\n",
    "$$\n",
    "M_{k l}^1=i \\frac{\\overline{E_k^*}-E_l^*}{\\omega_k+\\omega_l} \\quad M_{k l}^2=\\frac{\\frac{\\overline{E_k^*}}{\\omega_k}+\\frac{E_l^*}{\\omega_l}}{\\omega_k+\\omega_l}\n",
    "$$\n",
    "\n",
    "where $E_k^*=E_k^{\\prime}+i E_k^{\\prime \\prime}$ with $k, l=1, m$ and $\\overline{E_k^*}$ the conjugate complex number of $E_k^*$. To explain more about parameter $m$, if the measurement is repeated for $m$ different frequencies $\\omega_i, i=1, m$, the preceding procedure will provide data set $\\left(\\omega_j, E_j^{\\prime}\\left(\\omega_j\\right), E_j^{\\prime \\prime}\\left(\\omega_j\\right)\\right)$ for $1 \\leqslant j \\leqslant m$.\n"
   ]
  },
  {
   "cell_type": "code",
   "execution_count": 1,
   "metadata": {},
   "outputs": [
    {
     "ename": "ValueError",
     "evalue": "operands could not be broadcast together with shapes (4,) (31,) ",
     "output_type": "error",
     "traceback": [
      "\u001b[0;31m---------------------------------------------------------------------------\u001b[0m",
      "\u001b[0;31mValueError\u001b[0m                                Traceback (most recent call last)",
      "Cell \u001b[0;32mIn[1], line 7\u001b[0m\n\u001b[1;32m      5\u001b[0m E_moduli \u001b[38;5;241m=\u001b[39m np\u001b[38;5;241m.\u001b[39marray([\u001b[38;5;241m400\u001b[39m, \u001b[38;5;241m300\u001b[39m, \u001b[38;5;241m150\u001b[39m, \u001b[38;5;241m8\u001b[39m])\n\u001b[1;32m      6\u001b[0m tau \u001b[38;5;241m=\u001b[39m np\u001b[38;5;241m.\u001b[39marray([\u001b[38;5;241m0.05\u001b[39m, \u001b[38;5;241m0.2\u001b[39m, \u001b[38;5;241m2\u001b[39m, \u001b[38;5;241m10\u001b[39m])\n\u001b[0;32m----> 7\u001b[0m E_prime \u001b[38;5;241m=\u001b[39m np\u001b[38;5;241m.\u001b[39msum(\u001b[43mE_moduli\u001b[49m\u001b[43m \u001b[49m\u001b[38;5;241;43m*\u001b[39;49m\u001b[43m \u001b[49m\u001b[43momega\u001b[49m\u001b[38;5;241;43m*\u001b[39;49m\u001b[38;5;241;43m*\u001b[39;49m\u001b[38;5;241;43m2\u001b[39;49m \u001b[38;5;241m*\u001b[39m tau\u001b[38;5;241m*\u001b[39m\u001b[38;5;241m*\u001b[39m\u001b[38;5;241m2\u001b[39m \u001b[38;5;241m/\u001b[39m (\u001b[38;5;241m1\u001b[39m \u001b[38;5;241m+\u001b[39m omega\u001b[38;5;241m*\u001b[39m\u001b[38;5;241m*\u001b[39m\u001b[38;5;241m2\u001b[39m \u001b[38;5;241m*\u001b[39m tau\u001b[38;5;241m*\u001b[39m\u001b[38;5;241m*\u001b[39m\u001b[38;5;241m2\u001b[39m))\n\u001b[1;32m      8\u001b[0m E_double_prime \u001b[38;5;241m=\u001b[39m np\u001b[38;5;241m.\u001b[39msum(E_moduli \u001b[38;5;241m*\u001b[39m omega \u001b[38;5;241m*\u001b[39m tau \u001b[38;5;241m/\u001b[39m (\u001b[38;5;241m1\u001b[39m \u001b[38;5;241m+\u001b[39m omega\u001b[38;5;241m*\u001b[39m\u001b[38;5;241m*\u001b[39m\u001b[38;5;241m2\u001b[39m \u001b[38;5;241m*\u001b[39m tau\u001b[38;5;241m*\u001b[39m\u001b[38;5;241m*\u001b[39m\u001b[38;5;241m2\u001b[39m))\n\u001b[1;32m     10\u001b[0m \u001b[38;5;124;03m'''\u001b[39;00m\n\u001b[1;32m     11\u001b[0m \u001b[38;5;124;03mE_prime = np.array([10, 20, 30, 40, 50])  \u001b[39;00m\n\u001b[1;32m     12\u001b[0m \u001b[38;5;124;03mE_double_prime = np.array([5, 15, 25, 35, 45])\u001b[39;00m\n\u001b[1;32m     13\u001b[0m \u001b[38;5;124;03m'''\u001b[39;00m\n",
      "\u001b[0;31mValueError\u001b[0m: operands could not be broadcast together with shapes (4,) (31,) "
     ]
    }
   ],
   "source": [
    "import numpy as np\n",
    "\n",
    "omega = np.logspace(-3, 3, 31) \n",
    "\n",
    "E_moduli = np.array([400, 300, 150, 8])\n",
    "tau = np.array([0.05, 0.2, 2, 10])\n",
    "E_prime = np.sum(E_moduli * omega**2 * tau**2 / (1 + omega**2 * tau**2))\n",
    "E_double_prime = np.sum(E_moduli * omega * tau / (1 + omega**2 * tau**2))\n",
    "\n",
    "'''\n",
    "E_prime = np.array([10, 20, 30, 40, 50])  \n",
    "E_double_prime = np.array([5, 15, 25, 35, 45])\n",
    "'''\n",
    "  \n",
    "\n",
    "\n",
    "\n",
    "# Rest of the code"
   ]
  },
  {
   "cell_type": "code",
   "execution_count": 2,
   "metadata": {},
   "outputs": [
    {
     "ename": "NameError",
     "evalue": "name 'E_prime' is not defined",
     "output_type": "error",
     "traceback": [
      "\u001b[0;31m---------------------------------------------------------------------------\u001b[0m",
      "\u001b[0;31mNameError\u001b[0m                                 Traceback (most recent call last)",
      "Cell \u001b[0;32mIn[2], line 15\u001b[0m\n\u001b[1;32m     10\u001b[0m             M2[k, l] \u001b[38;5;241m=\u001b[39m (np\u001b[38;5;241m.\u001b[39mconjugate(E_star[k]) \u001b[38;5;241m/\u001b[39m omega[k] \u001b[38;5;241m+\u001b[39m E_star[l] \u001b[38;5;241m/\u001b[39m omega[l]) \u001b[38;5;241m/\u001b[39m (omega[k] \u001b[38;5;241m+\u001b[39m omega[l])\n\u001b[1;32m     12\u001b[0m     \u001b[38;5;28;01mreturn\u001b[39;00m M1, M2\n\u001b[0;32m---> 15\u001b[0m M1, M2 \u001b[38;5;241m=\u001b[39m build_matrices(\u001b[43mE_prime\u001b[49m, E_double_prime, omega)\n\u001b[1;32m     17\u001b[0m \u001b[38;5;28mprint\u001b[39m(\u001b[38;5;124m\"\u001b[39m\u001b[38;5;124mM1 matrix:\u001b[39m\u001b[38;5;130;01m\\n\u001b[39;00m\u001b[38;5;124m\"\u001b[39m, M1)\n\u001b[1;32m     18\u001b[0m \u001b[38;5;28mprint\u001b[39m(\u001b[38;5;124m\"\u001b[39m\u001b[38;5;124mM2 matrix:\u001b[39m\u001b[38;5;130;01m\\n\u001b[39;00m\u001b[38;5;124m\"\u001b[39m, M2)\n",
      "\u001b[0;31mNameError\u001b[0m: name 'E_prime' is not defined"
     ]
    }
   ],
   "source": [
    "\n",
    "\n",
    "def build_matrices(E_prime, E_double_prime, omega):\n",
    "    m = len(omega)\n",
    "    E_star = E_prime + 1j * E_double_prime \n",
    "    M1 = np.zeros((m, m), dtype=complex)\n",
    "    M2 = np.zeros((m, m), dtype=complex)\n",
    "\n",
    "    for k in range(m):\n",
    "        for l in range(m):\n",
    "            M1[k, l] = 1j * (np.conjugate(E_star[k]) - E_star[l]) / (omega[k] + omega[l])\n",
    "            M2[k, l] = (np.conjugate(E_star[k]) / omega[k] + E_star[l] / omega[l]) / (omega[k] + omega[l])\n",
    "\n",
    "    return M1, M2\n",
    "\n",
    "\n",
    "M1, M2 = build_matrices(E_prime, E_double_prime, omega)\n",
    "\n",
    "print(\"M1 matrix:\\n\", M1)\n",
    "print(\"M2 matrix:\\n\", M2)\n",
    "\n"
   ]
  },
  {
   "cell_type": "markdown",
   "metadata": {},
   "source": [
    "\n",
    "- Step 2: Check the positive definition of matrices $\\mathbf{M}^1\\left(E^*, \\omega\\right)$ and $\\mathbf{M}^2\\left(E^*, \\omega\\right)$.\n"
   ]
  },
  {
   "cell_type": "code",
   "execution_count": null,
   "metadata": {},
   "outputs": [],
   "source": [
    "def is_positive_definite(matrix):\n",
    "    return np.all(np.linalg.eigvals(matrix) > 0)\n",
    "\n",
    "is_M1_positive_definite = is_positive_definite(M1)\n",
    "is_M2_positive_definite = is_positive_definite(M2)\n",
    "\n",
    "print(f\"M1 Positive Definite: {is_M1_positive_definite}\")\n",
    "print(f\"M2 Positive Definite: {is_M2_positive_definite}\")\n"
   ]
  },
  {
   "cell_type": "code",
   "execution_count": null,
   "metadata": {},
   "outputs": [],
   "source": []
  },
  {
   "cell_type": "markdown",
   "metadata": {},
   "source": [
    "\n",
    "- Step 3: Compute the $\\mathbf{v}$ and $\\mathbf{w}$ the eigenvectors spanning the kernel of $\\mathbf{M}^1$ $\\mathbf{M}^2$, respectively and the two complex-valued functions $f_1$ and $f_2$ :\n",
    "  \n",
    "$$\n",
    "f_1(s)=\\sum_{j=1}^m \\frac{v_j}{s+i \\omega_j} \\quad f_2(s)=\\sum_{j=1}^m \\frac{w_j}{s+i \\omega_j}\n",
    "$$\n"
   ]
  },
  {
   "cell_type": "code",
   "execution_count": null,
   "metadata": {},
   "outputs": [],
   "source": [
    "def compute_eigenvectors(matrix):\n",
    "    eigvals, eigvecs = np.linalg.eig(matrix)\n",
    "    kernel_indices = np.where(np.isclose(eigvals, 0))[0]\n",
    "    return eigvecs[:, kernel_indices]\n",
    "\n",
    "v = compute_eigenvectors(M1)\n",
    "w = compute_eigenvectors(M2)\n"
   ]
  },
  {
   "cell_type": "markdown",
   "metadata": {},
   "source": [
    "\n",
    "- Step 4: Find numerically the common real positive zeros $s_i$ of $f_1$ and $f_2$.\n",
    "\n",
    "The number of solutions will define the number of elements in the generalized Maxwell model and the values of the characteristic times are:\n",
    "\n",
    "$$\n",
    "\\tau_i=\\frac{1}{S_i}\n",
    "$$\n"
   ]
  },
  {
   "cell_type": "code",
   "execution_count": 3,
   "metadata": {},
   "outputs": [
    {
     "ename": "ModuleNotFoundError",
     "evalue": "No module named 'scipy'",
     "output_type": "error",
     "traceback": [
      "\u001b[0;31m---------------------------------------------------------------------------\u001b[0m",
      "\u001b[0;31mModuleNotFoundError\u001b[0m                       Traceback (most recent call last)",
      "Cell \u001b[0;32mIn[3], line 1\u001b[0m\n\u001b[0;32m----> 1\u001b[0m \u001b[38;5;28;01mfrom\u001b[39;00m \u001b[38;5;21;01mscipy\u001b[39;00m\u001b[38;5;21;01m.\u001b[39;00m\u001b[38;5;21;01moptimize\u001b[39;00m \u001b[38;5;28;01mimport\u001b[39;00m fsolve\n\u001b[1;32m      3\u001b[0m \u001b[38;5;28;01mdef\u001b[39;00m \u001b[38;5;21mf\u001b[39m(s, omega, v_or_w):\n\u001b[1;32m      4\u001b[0m     result \u001b[38;5;241m=\u001b[39m \u001b[38;5;241m0\u001b[39m\n",
      "\u001b[0;31mModuleNotFoundError\u001b[0m: No module named 'scipy'"
     ]
    }
   ],
   "source": [
    "from scipy.optimize import fsolve\n",
    "\n",
    "def f(s, omega, v_or_w):\n",
    "    result = 0\n",
    "    for j in range(len(omega)):\n",
    "        result += v_or_w[j] / (s + 1j * omega[j])\n",
    "    return result\n",
    "\n",
    "def find_common_zeros(f1, f2, s_initial_guesses):\n",
    "    common_zeros = []\n",
    "    for s0 in s_initial_guesses:\n",
    "        zero = fsolve(lambda s: np.abs(f1(s) - f2(s)), s0)\n",
    "        if zero > 0 and np.isclose(f1(zero), f2(zero), atol=1e-6):\n",
    "            common_zeros.append(zero)\n",
    "    return np.unique(common_zeros)\n",
    "\n",
    "\n",
    "s_initial_guesses = 1/tau\n",
    "f1 = lambda s: f(s, omega, v)\n",
    "f2 = lambda s: f(s, omega, w)\n",
    "common_zeros = find_common_zeros(f1, f2, s_initial_guesses)\n",
    "tau = 1 / np.array(common_zeros)\n",
    "print(f\"Characteristic Times (tau): {tau}\")\n"
   ]
  },
  {
   "cell_type": "markdown",
   "metadata": {},
   "source": [
    "\n",
    "- Step 5: Compute the values of the moduli, by using the HW inverse identification described before."
   ]
  },
  {
   "cell_type": "markdown",
   "metadata": {},
   "source": [
    "$\\mathbf{E}=\\mathbf{A}^{+}\\left(\\mathbf{E}^{\\prime}-\\mathbf{E}_0\\right)$ or $\\mathbf{E}=\\mathbf{B}^{+} \\mathbf{E}^{\\prime \\prime}$"
   ]
  },
  {
   "cell_type": "code",
   "execution_count": null,
   "metadata": {},
   "outputs": [],
   "source": [
    "from numpy.linalg import pinv\n",
    "\n",
    "def compute_moduli(E_prime, E_0, tau, omega):\n",
    "    A = np.zeros((len(omega), len(tau)))\n",
    "    for i in range(len(omega)):\n",
    "        for j in range(len(tau)):\n",
    "            A[i, j] = omega[i]**2 * tau[j]**2 / (1 + omega[i]**2 * tau[j]**2)\n",
    "    \n",
    "    E_prime_shifted = E_prime - E_0\n",
    "    E_moduli = np.dot(pinv(A), E_prime_shifted)\n",
    "    return E_moduli\n",
    "\n",
    "####Q: What about E_0\n",
    "E_0 = np.min(E_prime)  \n",
    "E_moduli = compute_moduli(E_prime, E_0, tau, omega)\n",
    "print(f\"Moduli (E): {E_moduli}\")\n"
   ]
  },
  {
   "cell_type": "markdown",
   "metadata": {},
   "source": []
  },
  {
   "cell_type": "markdown",
   "metadata": {},
   "source": []
  },
  {
   "cell_type": "code",
   "execution_count": null,
   "metadata": {},
   "outputs": [],
   "source": []
  },
  {
   "cell_type": "code",
   "execution_count": null,
   "metadata": {},
   "outputs": [],
   "source": []
  },
  {
   "cell_type": "markdown",
   "metadata": {},
   "source": [
    "#### Application to artificial data\n",
    "\n",
    "As stated in the presentation of the $\\mathrm{KN}+\\mathrm{HW}$ method, the key point of the identification algorithm is the positive definition of the two matrices $\\mathbf{M}^1$ and $\\mathbf{M}^2$ and the necessary correction of the data.\n",
    "\n"
   ]
  },
  {
   "cell_type": "markdown",
   "metadata": {},
   "source": [
    "**Table 1**\n",
    "Generalized Maxwell model used to generate artificial data.\n",
    "\n",
    "| $\\tau_i(\\mathrm{s})$ | 0.05 | 0.2 | 2   | 10  |\n",
    "|-----------------------|------|-----|-----|-----|\n",
    "| $E_i(\\mathrm{Pa})$   | 400  | 300 | 150 | 8   |\n"
   ]
  },
  {
   "cell_type": "markdown",
   "metadata": {},
   "source": []
  },
  {
   "cell_type": "code",
   "execution_count": null,
   "metadata": {},
   "outputs": [
    {
     "ename": "ValueError",
     "evalue": "x and y must have same first dimension, but have shapes (100,) and (5,)",
     "output_type": "error",
     "traceback": [
      "\u001b[0;31m---------------------------------------------------------------------------\u001b[0m",
      "\u001b[0;31mValueError\u001b[0m                                Traceback (most recent call last)",
      "Cell \u001b[0;32mIn[7], line 14\u001b[0m\n\u001b[1;32m      6\u001b[0m \u001b[38;5;124;03m''' \u001b[39;00m\n\u001b[1;32m      7\u001b[0m \u001b[38;5;124;03mE_prime = np.log10(omega) + 1  \u001b[39;00m\n\u001b[1;32m      8\u001b[0m \u001b[38;5;124;03mE_double_prime = np.log10(omega) + 2 \u001b[39;00m\n\u001b[1;32m      9\u001b[0m \u001b[38;5;124;03m'''\u001b[39;00m\n\u001b[1;32m     11\u001b[0m plt\u001b[38;5;241m.\u001b[39mfigure(figsize\u001b[38;5;241m=\u001b[39m(\u001b[38;5;241m8\u001b[39m, \u001b[38;5;241m6\u001b[39m))\n\u001b[0;32m---> 14\u001b[0m \u001b[43mplt\u001b[49m\u001b[38;5;241;43m.\u001b[39;49m\u001b[43mplot\u001b[49m\u001b[43m(\u001b[49m\u001b[43momega\u001b[49m\u001b[43m,\u001b[49m\u001b[43m \u001b[49m\u001b[43mE_prime\u001b[49m\u001b[43m,\u001b[49m\u001b[43m \u001b[49m\u001b[38;5;124;43m'\u001b[39;49m\u001b[38;5;124;43mbo-\u001b[39;49m\u001b[38;5;124;43m'\u001b[39;49m\u001b[43m,\u001b[49m\u001b[43m \u001b[49m\u001b[43mlabel\u001b[49m\u001b[38;5;241;43m=\u001b[39;49m\u001b[38;5;124;43mr\u001b[39;49m\u001b[38;5;124;43m\"\u001b[39;49m\u001b[38;5;124;43m$E\u001b[39;49m\u001b[38;5;124;43m'\u001b[39;49m\u001b[38;5;124;43m$ (Simulated behavior)\u001b[39;49m\u001b[38;5;124;43m\"\u001b[39;49m\u001b[43m)\u001b[49m\n\u001b[1;32m     15\u001b[0m plt\u001b[38;5;241m.\u001b[39mscatter(omega, E_prime, color\u001b[38;5;241m=\u001b[39m\u001b[38;5;124m'\u001b[39m\u001b[38;5;124mblue\u001b[39m\u001b[38;5;124m'\u001b[39m, s\u001b[38;5;241m=\u001b[39m\u001b[38;5;241m10\u001b[39m)\n\u001b[1;32m     17\u001b[0m plt\u001b[38;5;241m.\u001b[39mplot(omega, E_double_prime, \u001b[38;5;124m'\u001b[39m\u001b[38;5;124mro-\u001b[39m\u001b[38;5;124m'\u001b[39m, label\u001b[38;5;241m=\u001b[39m\u001b[38;5;124mr\u001b[39m\u001b[38;5;124m\"\u001b[39m\u001b[38;5;124m$E\u001b[39m\u001b[38;5;124m'\u001b[39m\u001b[38;5;124m'\u001b[39m\u001b[38;5;124m$ (Simulated behavior)\u001b[39m\u001b[38;5;124m\"\u001b[39m)\n",
      "File \u001b[0;32m~/tamaas_venv/lib/python3.10/site-packages/matplotlib/pyplot.py:3708\u001b[0m, in \u001b[0;36mplot\u001b[0;34m(scalex, scaley, data, *args, **kwargs)\u001b[0m\n\u001b[1;32m   3700\u001b[0m \u001b[38;5;129m@_copy_docstring_and_deprecators\u001b[39m(Axes\u001b[38;5;241m.\u001b[39mplot)\n\u001b[1;32m   3701\u001b[0m \u001b[38;5;28;01mdef\u001b[39;00m \u001b[38;5;21mplot\u001b[39m(\n\u001b[1;32m   3702\u001b[0m     \u001b[38;5;241m*\u001b[39margs: \u001b[38;5;28mfloat\u001b[39m \u001b[38;5;241m|\u001b[39m ArrayLike \u001b[38;5;241m|\u001b[39m \u001b[38;5;28mstr\u001b[39m,\n\u001b[0;32m   (...)\u001b[0m\n\u001b[1;32m   3706\u001b[0m     \u001b[38;5;241m*\u001b[39m\u001b[38;5;241m*\u001b[39mkwargs,\n\u001b[1;32m   3707\u001b[0m ) \u001b[38;5;241m-\u001b[39m\u001b[38;5;241m>\u001b[39m \u001b[38;5;28mlist\u001b[39m[Line2D]:\n\u001b[0;32m-> 3708\u001b[0m     \u001b[38;5;28;01mreturn\u001b[39;00m \u001b[43mgca\u001b[49m\u001b[43m(\u001b[49m\u001b[43m)\u001b[49m\u001b[38;5;241;43m.\u001b[39;49m\u001b[43mplot\u001b[49m\u001b[43m(\u001b[49m\n\u001b[1;32m   3709\u001b[0m \u001b[43m        \u001b[49m\u001b[38;5;241;43m*\u001b[39;49m\u001b[43margs\u001b[49m\u001b[43m,\u001b[49m\n\u001b[1;32m   3710\u001b[0m \u001b[43m        \u001b[49m\u001b[43mscalex\u001b[49m\u001b[38;5;241;43m=\u001b[39;49m\u001b[43mscalex\u001b[49m\u001b[43m,\u001b[49m\n\u001b[1;32m   3711\u001b[0m \u001b[43m        \u001b[49m\u001b[43mscaley\u001b[49m\u001b[38;5;241;43m=\u001b[39;49m\u001b[43mscaley\u001b[49m\u001b[43m,\u001b[49m\n\u001b[1;32m   3712\u001b[0m \u001b[43m        \u001b[49m\u001b[38;5;241;43m*\u001b[39;49m\u001b[38;5;241;43m*\u001b[39;49m\u001b[43m(\u001b[49m\u001b[43m{\u001b[49m\u001b[38;5;124;43m\"\u001b[39;49m\u001b[38;5;124;43mdata\u001b[39;49m\u001b[38;5;124;43m\"\u001b[39;49m\u001b[43m:\u001b[49m\u001b[43m \u001b[49m\u001b[43mdata\u001b[49m\u001b[43m}\u001b[49m\u001b[43m \u001b[49m\u001b[38;5;28;43;01mif\u001b[39;49;00m\u001b[43m \u001b[49m\u001b[43mdata\u001b[49m\u001b[43m \u001b[49m\u001b[38;5;129;43;01mis\u001b[39;49;00m\u001b[43m \u001b[49m\u001b[38;5;129;43;01mnot\u001b[39;49;00m\u001b[43m \u001b[49m\u001b[38;5;28;43;01mNone\u001b[39;49;00m\u001b[43m \u001b[49m\u001b[38;5;28;43;01melse\u001b[39;49;00m\u001b[43m \u001b[49m\u001b[43m{\u001b[49m\u001b[43m}\u001b[49m\u001b[43m)\u001b[49m\u001b[43m,\u001b[49m\n\u001b[1;32m   3713\u001b[0m \u001b[43m        \u001b[49m\u001b[38;5;241;43m*\u001b[39;49m\u001b[38;5;241;43m*\u001b[39;49m\u001b[43mkwargs\u001b[49m\u001b[43m,\u001b[49m\n\u001b[1;32m   3714\u001b[0m \u001b[43m    \u001b[49m\u001b[43m)\u001b[49m\n",
      "File \u001b[0;32m~/tamaas_venv/lib/python3.10/site-packages/matplotlib/axes/_axes.py:1779\u001b[0m, in \u001b[0;36mAxes.plot\u001b[0;34m(self, scalex, scaley, data, *args, **kwargs)\u001b[0m\n\u001b[1;32m   1536\u001b[0m \u001b[38;5;250m\u001b[39m\u001b[38;5;124;03m\"\"\"\u001b[39;00m\n\u001b[1;32m   1537\u001b[0m \u001b[38;5;124;03mPlot y versus x as lines and/or markers.\u001b[39;00m\n\u001b[1;32m   1538\u001b[0m \n\u001b[0;32m   (...)\u001b[0m\n\u001b[1;32m   1776\u001b[0m \u001b[38;5;124;03m(``'green'``) or hex strings (``'#008000'``).\u001b[39;00m\n\u001b[1;32m   1777\u001b[0m \u001b[38;5;124;03m\"\"\"\u001b[39;00m\n\u001b[1;32m   1778\u001b[0m kwargs \u001b[38;5;241m=\u001b[39m cbook\u001b[38;5;241m.\u001b[39mnormalize_kwargs(kwargs, mlines\u001b[38;5;241m.\u001b[39mLine2D)\n\u001b[0;32m-> 1779\u001b[0m lines \u001b[38;5;241m=\u001b[39m [\u001b[38;5;241m*\u001b[39m\u001b[38;5;28mself\u001b[39m\u001b[38;5;241m.\u001b[39m_get_lines(\u001b[38;5;28mself\u001b[39m, \u001b[38;5;241m*\u001b[39margs, data\u001b[38;5;241m=\u001b[39mdata, \u001b[38;5;241m*\u001b[39m\u001b[38;5;241m*\u001b[39mkwargs)]\n\u001b[1;32m   1780\u001b[0m \u001b[38;5;28;01mfor\u001b[39;00m line \u001b[38;5;129;01min\u001b[39;00m lines:\n\u001b[1;32m   1781\u001b[0m     \u001b[38;5;28mself\u001b[39m\u001b[38;5;241m.\u001b[39madd_line(line)\n",
      "File \u001b[0;32m~/tamaas_venv/lib/python3.10/site-packages/matplotlib/axes/_base.py:296\u001b[0m, in \u001b[0;36m_process_plot_var_args.__call__\u001b[0;34m(self, axes, data, *args, **kwargs)\u001b[0m\n\u001b[1;32m    294\u001b[0m     this \u001b[38;5;241m+\u001b[39m\u001b[38;5;241m=\u001b[39m args[\u001b[38;5;241m0\u001b[39m],\n\u001b[1;32m    295\u001b[0m     args \u001b[38;5;241m=\u001b[39m args[\u001b[38;5;241m1\u001b[39m:]\n\u001b[0;32m--> 296\u001b[0m \u001b[38;5;28;01myield from\u001b[39;00m \u001b[38;5;28;43mself\u001b[39;49m\u001b[38;5;241;43m.\u001b[39;49m\u001b[43m_plot_args\u001b[49m\u001b[43m(\u001b[49m\n\u001b[1;32m    297\u001b[0m \u001b[43m    \u001b[49m\u001b[43maxes\u001b[49m\u001b[43m,\u001b[49m\u001b[43m \u001b[49m\u001b[43mthis\u001b[49m\u001b[43m,\u001b[49m\u001b[43m \u001b[49m\u001b[43mkwargs\u001b[49m\u001b[43m,\u001b[49m\u001b[43m \u001b[49m\u001b[43mambiguous_fmt_datakey\u001b[49m\u001b[38;5;241;43m=\u001b[39;49m\u001b[43mambiguous_fmt_datakey\u001b[49m\u001b[43m)\u001b[49m\n",
      "File \u001b[0;32m~/tamaas_venv/lib/python3.10/site-packages/matplotlib/axes/_base.py:486\u001b[0m, in \u001b[0;36m_process_plot_var_args._plot_args\u001b[0;34m(self, axes, tup, kwargs, return_kwargs, ambiguous_fmt_datakey)\u001b[0m\n\u001b[1;32m    483\u001b[0m     axes\u001b[38;5;241m.\u001b[39myaxis\u001b[38;5;241m.\u001b[39mupdate_units(y)\n\u001b[1;32m    485\u001b[0m \u001b[38;5;28;01mif\u001b[39;00m x\u001b[38;5;241m.\u001b[39mshape[\u001b[38;5;241m0\u001b[39m] \u001b[38;5;241m!=\u001b[39m y\u001b[38;5;241m.\u001b[39mshape[\u001b[38;5;241m0\u001b[39m]:\n\u001b[0;32m--> 486\u001b[0m     \u001b[38;5;28;01mraise\u001b[39;00m \u001b[38;5;167;01mValueError\u001b[39;00m(\u001b[38;5;124mf\u001b[39m\u001b[38;5;124m\"\u001b[39m\u001b[38;5;124mx and y must have same first dimension, but \u001b[39m\u001b[38;5;124m\"\u001b[39m\n\u001b[1;32m    487\u001b[0m                      \u001b[38;5;124mf\u001b[39m\u001b[38;5;124m\"\u001b[39m\u001b[38;5;124mhave shapes \u001b[39m\u001b[38;5;132;01m{\u001b[39;00mx\u001b[38;5;241m.\u001b[39mshape\u001b[38;5;132;01m}\u001b[39;00m\u001b[38;5;124m and \u001b[39m\u001b[38;5;132;01m{\u001b[39;00my\u001b[38;5;241m.\u001b[39mshape\u001b[38;5;132;01m}\u001b[39;00m\u001b[38;5;124m\"\u001b[39m)\n\u001b[1;32m    488\u001b[0m \u001b[38;5;28;01mif\u001b[39;00m x\u001b[38;5;241m.\u001b[39mndim \u001b[38;5;241m>\u001b[39m \u001b[38;5;241m2\u001b[39m \u001b[38;5;129;01mor\u001b[39;00m y\u001b[38;5;241m.\u001b[39mndim \u001b[38;5;241m>\u001b[39m \u001b[38;5;241m2\u001b[39m:\n\u001b[1;32m    489\u001b[0m     \u001b[38;5;28;01mraise\u001b[39;00m \u001b[38;5;167;01mValueError\u001b[39;00m(\u001b[38;5;124mf\u001b[39m\u001b[38;5;124m\"\u001b[39m\u001b[38;5;124mx and y can be no greater than 2D, but have \u001b[39m\u001b[38;5;124m\"\u001b[39m\n\u001b[1;32m    490\u001b[0m                      \u001b[38;5;124mf\u001b[39m\u001b[38;5;124m\"\u001b[39m\u001b[38;5;124mshapes \u001b[39m\u001b[38;5;132;01m{\u001b[39;00mx\u001b[38;5;241m.\u001b[39mshape\u001b[38;5;132;01m}\u001b[39;00m\u001b[38;5;124m and \u001b[39m\u001b[38;5;132;01m{\u001b[39;00my\u001b[38;5;241m.\u001b[39mshape\u001b[38;5;132;01m}\u001b[39;00m\u001b[38;5;124m\"\u001b[39m)\n",
      "\u001b[0;31mValueError\u001b[0m: x and y must have same first dimension, but have shapes (100,) and (5,)"
     ]
    },
    {
     "data": {
      "image/png": "[encoded data removed]",
      "text/plain": [
       "<Figure size 800x600 with 1 Axes>"
      ]
     },
     "metadata": {},
     "output_type": "display_data"
    }
   ],
   "source": [
    "import matplotlib.pyplot as plt\n",
    "import numpy as np\n",
    "\n",
    "\n",
    "omega = np.logspace(-3, 3, 100) \n",
    "''' \n",
    "E_prime = np.log10(omega) + 1  \n",
    "E_double_prime = np.log10(omega) + 2 \n",
    "'''\n",
    "\n",
    "plt.figure(figsize=(8, 6))\n",
    "\n",
    "\n",
    "plt.plot(omega, E_prime, 'bo-', label=r\"$E'$ (Simulated behavior)\")\n",
    "plt.scatter(omega, E_prime, color='blue', s=10)\n",
    "\n",
    "plt.plot(omega, E_double_prime, 'ro-', label=r\"$E''$ (Simulated behavior)\")\n",
    "plt.scatter(omega, E_double_prime, color='red', s=10)\n",
    "\n",
    "\n",
    "plt.xscale('log')\n",
    "plt.yscale('log')\n",
    "\n",
    "# 添加标签和标题\n",
    "plt.xlabel(r'$\\omega$ (rad/sec)')\n",
    "plt.ylabel(r\"$E'$ and $E''$ (Pa)\")\n",
    "plt.legend()\n",
    "plt.title('Dynamic Modulus vs Frequency')\n",
    "\n",
    "# 显示网格\n",
    "plt.grid(True, which='both', linestyle='--', linewidth=0.5)\n",
    "\n",
    "# 显示图形\n",
    "plt.show()\n"
   ]
  },
  {
   "cell_type": "markdown",
   "metadata": {},
   "source": [
    "#### Reference \n",
    "\n",
    "[1] Jalocha, D., A. Constantinescu, and R. Neviere. ‘Revisiting the Identification of Generalized Maxwell Models from Experimental Results’. International Journal of Solids and Structures 67–68 (August 2015): 169–81. https://doi.org/10.1016/j.ijsolstr.2015.04.018.\n",
    "\n",
    "[2]\n"
   ]
  },
  {
   "cell_type": "markdown",
   "metadata": {},
   "source": [
    "#### Appendix\n",
    "\n",
    "*KN + HW* method\n",
    "\n",
    "The Nevanlinna Pick interpolation problem consists in finding a complex function $F$ : $\\mathbb{C} \\longrightarrow \\mathbb{C}$ interpolating the data pairs $\\left(z_k, c_k\\right)_{k=1, m}$, \n",
    "\n",
    "Moreover, a function $F(z)$ will be denoted as a $S$-function if:\n",
    "\n",
    "$$\n",
    "F(z)=\\gamma+\\int_0^{\\infty} \\frac{d \\sigma(t)}{t-z}\n",
    "$$\n",
    "\n",
    "The viscoelastic identification problem can be transformed in the structure defined by the Pick-Nevalinna interpolation problem in the class of S-function. Actually the complex modulus of the viscoelastic problem is the conformal transform of an S-function:\n",
    "\n",
    "$$\n",
    "E^*(\\omega)=E_0+\\int_0^{\\infty} H(\\tau) \\frac{i \\omega \\tau}{1+i \\omega \\tau} d \\tau\n",
    "$$\n"
   ]
  },
  {
   "cell_type": "markdown",
   "metadata": {},
   "source": []
  }
 ],
 "metadata": {
  "kernelspec": {
   "display_name": "tamaas_venv",
   "language": "python",
   "name": "python3"
  },
  "language_info": {
   "codemirror_mode": {
    "name": "ipython",
    "version": 3
   },
   "file_extension": ".py",
   "mimetype": "text/x-python",
   "name": "python",
   "nbconvert_exporter": "python",
   "pygments_lexer": "ipython3",
   "version": "3.8.10"
  }
 },
 "nbformat": 4,
 "nbformat_minor": 2
}
