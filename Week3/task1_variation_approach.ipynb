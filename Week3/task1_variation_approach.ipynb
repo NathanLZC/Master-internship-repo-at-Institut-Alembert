{
 "cells": [
  {
   "cell_type": "markdown",
   "metadata": {},
   "source": [
    "# Minimum Complementary Energy\n",
    "\n",
    "Over the past two weeks, we have explored the displacement resulting from distributed pressure and the Hertz contact solution. Now, we shift our focus to real contact problems, emphasizing **Variational Principles** and the **Minimum Complementary Energy** approach."
   ]
  },
  {
   "cell_type": "markdown",
   "metadata": {},
   "source": [
    "![Contact model discussed in first step](figures/Problem_mapping.png)"
   ]
  },
  {
   "cell_type": "markdown",
   "metadata": {},
   "source": [
    "Here we simplify our model as the contact between a rigid rough surface and an elastic flat surface[4].\n",
    "\n",
    "![rigid rough surface elastic contact](figures/rigid_rough_surface_elastic_contact.jpg)\n"
   ]
  },
  {
   "cell_type": "markdown",
   "metadata": {},
   "source": [
    "We want to know pressure distribution $P(x,y)$, and we define our gap function as:\n",
    "\n",
    "$$\n",
    "g(x, y)=u_z(x, y)-h(x, y)\n",
    "$$\n",
    "\n",
    "where $u_z(x, y)$ is the normal displacement, the separation of two surfaces $h(x,y)$ can sometimes be $h(r)=-\\frac{r^2}{2 R}$, like Rey(2017)[5].\n",
    "\n",
    "As the first chapiter of Lucas(2020)[1], the potential energy can be derived from elastic energy relationship $\\frac{1}{2} \\int_v \\varepsilon: \\mathbb{C}: \\varepsilon d v$ to:\n",
    "\n",
    "$$\n",
    "E_p\\left(u_z, p\\right)=\\frac{1}{2} \\int_s u_z \\cdot p d s\n",
    "$$\n",
    "\n",
    "If we minimize this potential energy with respect to $u_z$, then we call it **Primal minimization problem**, we will end up with a displacement solution.\n",
    "\n",
    "$$\n",
    "\\min _{g\\left[u_z\\right] \\geqslant 0} E_p\\left(u_z, p\\left[u_z\\right]\\right)\n",
    "$$\n",
    "\n",
    "Here we focus on complementary energy minimization, called **Dual minimization problem**, where complementary energy is defined as:\n",
    "\n",
    "$$\n",
    "E_c\\left(u_z, p\\right)=\\frac{1}{2} \\int_s u_z \\cdot p d s-\\int_s p h d s\n",
    "$$\n",
    "\n",
    "Then the minimization could be:\n",
    "\n",
    "$$\n",
    "\\min _{p \\geqslant 0} E_c\\left(u_z[p], p\\right)\n",
    "$$\n",
    "\n",
    "It is obvious that we will end up with a pressure solution in this procedure.\n",
    "\n"
   ]
  },
  {
   "cell_type": "markdown",
   "metadata": {},
   "source": [
    "## Q1: Legendre transform for dual optimization?"
   ]
  },
  {
   "cell_type": "markdown",
   "metadata": {},
   "source": [
    "From what we discuss above, we have two constraints, \n",
    "\n",
    "$$\n",
    "\\frac{1}{S} \\int_s p d s=\\bar{p}\n",
    "$$\n",
    "\n",
    "And\n",
    "\n",
    "$$\n",
    "p \\geq 0\n",
    "$$\n",
    "\n",
    "To minimize the complementary energy, we consider:\n",
    "\n",
    "$$\n",
    "\\lim _{\\varepsilon \\rightarrow 0} \\frac{E_c(p+\\varepsilon v)-E_c(p)}{\\varepsilon}\n",
    "$$\n",
    "\n",
    "Here we can derive a gap function by:\n",
    "\n",
    "$$\n",
    "\\frac{\\partial E_c}{\\partial p}=u_z[p]-h=g\n",
    "$$\n",
    "\n"
   ]
  },
  {
   "cell_type": "markdown",
   "metadata": {},
   "source": [
    "We choose the same background as a start point to verify this energy minimization, and define $ \\bar{p}=\\frac{W}{S} $"
   ]
  },
  {
   "cell_type": "markdown",
   "metadata": {},
   "source": []
  },
  {
   "cell_type": "code",
   "execution_count": null,
   "metadata": {},
   "outputs": [],
   "source": []
  },
  {
   "cell_type": "markdown",
   "metadata": {},
   "source": [
    "### *$u_z$* is our unknown in this case, but we know the relationship between *$u_z$* and pressure *$P$*, we will then treat *$u_z$* as *$u_z(P)$*. The Hertz solution is derived from elastic theory, here we want to derive from energy theory, finally we can compare with Hertz solution."
   ]
  },
  {
   "cell_type": "markdown",
   "metadata": {},
   "source": []
  },
  {
   "cell_type": "markdown",
   "metadata": {},
   "source": [
    "#  Complementary energy minimization for Normal contact\n",
    "\n",
    "We follow the steps of Lucas(2020)[1], and finally we will have two alrgorithms to implement, Steepest descent[6] and Constrained conjugate gradient[7]. First we give the notation as reference:\n",
    "\n",
    "Let the open $\\mathcal{B} \\subset \\mathbb{R}^3$ be a deformable elastic solid of boundary $\\partial \\mathcal{B}$ with outward normal $\\boldsymbol{n}$. Let $u$ be the displacement vector field of $\\mathcal{B}$.\n",
    "\n",
    "We have the following strain-stress relationship in the context of continuum mechanics and elasticity theory:\n",
    "\n",
    "$$\n",
    "\\boldsymbol{\\varepsilon}[\\boldsymbol{u}]:=\\frac{1}{2}\\left(\\boldsymbol{\\nabla} \\boldsymbol{u}+\\boldsymbol{\\nabla} \\boldsymbol{u}^T\\right)\n",
    "$$\n",
    "$$\n",
    "\\sigma[u]:=C: \\varepsilon[u]\n",
    "$$\n",
    "\n",
    "We define the traction vector of the displacement field $\\boldsymbol{u}$ as:\n",
    "\n",
    "$$\n",
    "T[u]:=\\left.\\sigma[u]\\right|_{\\partial \\mathcal{B}} \\cdot \\boldsymbol{n}\n",
    "$$\n",
    "\n",
    "$\\boldsymbol{b}$ is given as the volumetric force density, then with given boundary condition, we can express the principle of minimum potential energy:\n",
    "\n",
    "$$\n",
    "\\inf _{\\boldsymbol{u} \\in \\mathrm{KA}(\\mathcal{B})}\\left\\{I(\\boldsymbol{u})=\\frac{1}{2} \\int_{\\mathcal{B}} \\boldsymbol{\\sigma}[\\boldsymbol{u}]: \\boldsymbol{\\varepsilon}[\\boldsymbol{u}] \\mathrm{d} V-\\int_{\\mathcal{B}} \\boldsymbol{b} \\cdot \\boldsymbol{u} \\mathrm{d} V-\\int_{\\partial \\mathcal{B}} T[\\boldsymbol{u}] \\cdot \\boldsymbol{u} \\mathrm{d} S\\right\\}\n",
    "$$\n",
    "\n",
    "which involves finding $u \\in \\mathrm{KA}(\\mathcal{B})$, i.e. a kinematically admissible displacement field, that minimizes the total potential energy of the system.\n",
    "\n",
    "\n",
    "\n",
    "\n"
   ]
  },
  {
   "cell_type": "markdown",
   "metadata": {},
   "source": [
    "As we mentioned before, we want to minimize complementary energy for a non-friction, non-adhesion contact between the boundary $\\partial \\mathcal{B}$ and a surface $\\mathcal{S}$, we can introduce the gap function as:\n",
    "\n",
    "$$\n",
    "g[\\boldsymbol{u}]:=\\left.\\boldsymbol{u} \\cdot \\boldsymbol{e}_3\\right|_{\\partial \\mathcal{B}}-h\n",
    "$$\n",
    "\n",
    "The boundary conditions on $\\partial \\mathscr{B}$ are hence expressed with the Hertz-Signorini-Moreau conditions:\n",
    "\n",
    "$$\n",
    "\\begin{aligned}\n",
    "g[\\boldsymbol{u}] & \\geq 0 \\\\\n",
    "p[\\boldsymbol{u}]:=\\boldsymbol{T}[\\boldsymbol{u}] \\cdot \\boldsymbol{e}_3 & \\geq 0 \\\\\n",
    "g[\\boldsymbol{u}] p[\\boldsymbol{u}] & =0\n",
    "\\end{aligned}\n",
    "$$\n",
    "\n",
    "The contact condition that we want to apply for **Steepest descent** algorithm as stopping criteria is:\n",
    "\n",
    "$$\n",
    "g[\\boldsymbol{u}] p[\\boldsymbol{u}]=0\n",
    "$$\n",
    "\n"
   ]
  },
  {
   "cell_type": "markdown",
   "metadata": {},
   "source": [
    "### Variational form\n",
    "\n",
    "For this contact problem, we have two constraints, \n",
    "\n",
    "$$\n",
    "\\frac{1}{S} \\int_s p d s=\\bar{p}\n",
    "$$\n",
    "\n",
    "And\n",
    "\n",
    "$$\n",
    "p \\geq 0\n",
    "$$\n",
    "\n",
    "To introduce the contact constraints, one needs to define the space of kinematically admissible displacement fields $\\mathrm{KA}(\\mathcal{B})$. The first consideration defines the function space\n",
    "\n",
    "$$\n",
    "\\bar{H}^1\\left(\\mathcal{B}_p ; \\mathbb{R}^3\\right)=\\left\\{\\boldsymbol{u}+\\overline{\\boldsymbol{u}} \\mid \\boldsymbol{u} \\in H^1\\left(\\mathcal{B}_p ; \\mathbb{R}^3\\right), \\overline{\\boldsymbol{u}} \\in \\mathbb{R}^3 \\text { with } \\widehat{\\mathbf{u}}(\\mathbf{0}, \\bullet)=0\\right\\}\n",
    "$$\n",
    "\n",
    "which is a space of $\\mathcal{B}_p$-periodic functions whose fundamental mode (i.e. the horizontal average) is constant with respect to $x_3$. The space of admissible solutions to the contact problem is:\n",
    "\n",
    "$$\n",
    "\\mathrm{KA}\\left(\\mathcal{B}_p\\right):=\\left\\{\\boldsymbol{u} \\in \\bar{H}^1\\left(\\mathcal{B}_p ; \\mathbb{R}^3\\right): g[\\boldsymbol{u}] \\geq 0\\right\\}\n",
    "$$\n",
    "\n",
    "The minimization principle is then written as:\n",
    "\n",
    "$$\n",
    "\\inf _{\\boldsymbol{u} \\in \\operatorname{KA}\\left(\\mathcal{B}_p\\right)}\\left\\{\\frac{1}{2} \\int_{\\mathcal{B}_p} \\boldsymbol{\\sigma}[\\boldsymbol{u}]: \\boldsymbol{\\varepsilon}[\\boldsymbol{u}] \\mathrm{d} V\\right\\}\n",
    "$$\n",
    "\n",
    "which is a quadratic program with unilateral constraints. Kalker(1977)[3] has shown that the above problem can be expressed only in terms of boundary integrals, provided $\\boldsymbol{u}$ additionally satisfies the local equilibrium(strong Euler-Lagrange equation) $\\operatorname{div}(\\sigma[\\boldsymbol{u}])+\\boldsymbol{b}=\\mathbf{0} \\quad \\text { a.e. in } \\mathcal{B}$:\n",
    "\n",
    "$$\n",
    "\\begin{aligned}\n",
    "\\frac{1}{2} \\int_{\\mathcal{B}_p} \\sigma[\\boldsymbol{u}]: \\boldsymbol{\\varepsilon}[\\boldsymbol{u}] \\mathrm{d} V & =\\frac{1}{2} \\int_{\\mathcal{B}_p} \\boldsymbol{\\sigma}[\\boldsymbol{u}]: \\boldsymbol{\\nabla} \\boldsymbol{u} \\mathrm{d} V \\\\\n",
    "& =\\frac{1}{2} \\int_{\\mathcal{B}_p}(\\operatorname{div}(\\sigma[\\boldsymbol{u}] \\cdot \\boldsymbol{u})-\\operatorname{div}(\\sigma[\\boldsymbol{u}]) \\cdot \\boldsymbol{u}) \\mathrm{d} V \\\\\n",
    "& =\\frac{1}{2} \\int_{\\partial \\mathcal{B}_p} \\boldsymbol{u} \\cdot \\boldsymbol{\\sigma}[\\boldsymbol{u}] \\cdot \\boldsymbol{n} \\mathrm{d} V\n",
    "\\end{aligned}\n",
    "$$\n",
    "\n",
    "so that the contact problem is equivalent to\n",
    "\n",
    "$$\n",
    "\\inf _{\\boldsymbol{u} \\in \\operatorname{KA}\\left(\\mathcal{B}_p\\right)}\\left\\{I_u(\\boldsymbol{u})=\\frac{1}{2} \\int_{\\partial \\mathcal{B}_p} \\boldsymbol{T}[\\boldsymbol{u}] \\cdot \\boldsymbol{u} \\mathrm{d} S\\right\\}\n",
    "$$\n",
    "\n",
    "This minimization problem can now be solved by quadratic programming (see Rey(2017)[5]), but optimization techniques are usually applied to the dual of $\\inf _{\\boldsymbol{u} \\in \\operatorname{KA}\\left(\\mathcal{B}_p\\right)}\\left\\{I_u(\\boldsymbol{u})=\\frac{1}{2} \\int_{\\partial \\mathcal{B}_p} \\boldsymbol{T}[\\boldsymbol{u}] \\cdot \\boldsymbol{u} \\mathrm{d} S\\right\\}$, which we derive by associating a Lagrange multiplier $\\lambda$ to the non-penetration constraint $g[\\boldsymbol{u}] \\geq 0$.  The Lagrangian of the problem is:"
   ]
  },
  {
   "cell_type": "markdown",
   "metadata": {},
   "source": [
    "## Question: quadratic programming, dual problem?"
   ]
  },
  {
   "cell_type": "markdown",
   "metadata": {},
   "source": [
    "$$\n",
    "\\mathcal{L}(\\boldsymbol{u}, \\lambda)=\\frac{1}{2} \\int_{\\partial \\mathcal{B}_p} \\boldsymbol{T}[\\boldsymbol{u}] \\cdot \\boldsymbol{u} \\mathrm{d} S-\\int_{\\partial \\mathcal{B}_p} \\lambda\\left(\\boldsymbol{u} \\cdot \\boldsymbol{e}_3-h\\right) \\mathrm{d} S\n",
    "$$\n",
    "\n",
    "The Karush-Kuhn-Tucker optimality conditions imply stationarity of $\\mathcal{L}$ with respect to $\\boldsymbol{u}$ so that we can express $\\lambda$ :\n",
    "\n",
    "$$\n",
    "\\begin{aligned}\n",
    "\\frac{\\partial \\mathcal{L}}{\\partial \\boldsymbol{u}}=\\mathbf{0} & \\Leftrightarrow T[u]-\\lambda \\boldsymbol{e}_3=0 \\\\\n",
    "& \\Leftrightarrow \\lambda=T[\\boldsymbol{u}] \\cdot \\boldsymbol{e}_3 \\\\\n",
    "& \\Leftrightarrow \\boldsymbol{u}=\\mathcal{M}\\left[\\lambda \\boldsymbol{e}_3\\right] \n",
    "\\end{aligned}\n",
    "$$"
   ]
  },
  {
   "cell_type": "markdown",
   "metadata": {},
   "source": [
    "$\\lambda$ can be physically interpreted as the normal tractions acting on the surface. Replacing $\\boldsymbol{u}=\\mathcal{M}\\left[p \\boldsymbol{e}_3\\right]$ in $\\mathcal{L}$ (effectively computing the Legendre transform of $I_u$ ) leads to the quadratic program\n",
    "\n",
    "$$\n",
    "\\inf _{p \\boldsymbol{e}_3 \\in \\mathrm{SA}\\left(\\mathcal{B}_p\\right)}\\left\\{I_p(p)=\\frac{1}{2} \\int_{\\partial \\mathcal{B}_p} p \\boldsymbol{e}_3 \\cdot \\mathcal{M}\\left[p \\boldsymbol{e}_3\\right] \\mathrm{d} S-\\int_{\\partial \\mathcal{B}_p} p h \\mathrm{~d} S\\right\\}\n",
    "$$"
   ]
  },
  {
   "cell_type": "markdown",
   "metadata": {},
   "source": [
    "where the primary unknown $p$ is the normal surface traction and SA is the space of statically admissible tractions, i.e. tractions that satisfy $p \\geq 0$ (for non-adhesive contact) and $\\int_{\\partial \\mathcal{B}} p \\mathrm{~d} S=$ $W$."
   ]
  },
  {
   "cell_type": "markdown",
   "metadata": {},
   "source": [
    "### Just not to be confused, $W$ is normal total load and we define $ \\bar{p}=\\frac{W}{S} $. "
   ]
  },
  {
   "cell_type": "code",
   "execution_count": 1,
   "metadata": {},
   "outputs": [],
   "source": [
    "import numpy as np\n",
    "from scipy.optimize import minimize\n",
    "\n",
    "#define the parameters\n",
    "W = 1e2  # total load\n",
    "R = 1  # radius of demi-sphere\n",
    "L = 2  # domain size\n",
    "S = L**2  # domain area\n",
    "\n",
    "\n",
    "\n",
    "#define material parameters\n",
    "E = 1e3  # Young's modulus\n",
    "nu = 0.3  # Poisson's ratio\n",
    "E_star = E / (1 - nu**2)  # plane strain modulus \n",
    "\n",
    "#We generate a 2D coordinate space\n",
    "n = 100\n",
    "m = 100\n",
    "\n",
    "x, y = np.meshgrid(np.linspace(0, L, n, endpoint=False), np.linspace(0, L, m, endpoint=False))#notice here that we use endpoint=False to avoid having the last point\n",
    "\n",
    "x0 = 1\n",
    "y0 = 1\n"
   ]
  },
  {
   "cell_type": "markdown",
   "metadata": {},
   "source": [
    "## the separation function h depends on the contact model, since we just use a simple semi-sphere/flat surface contact, we keep it as $h(r)=-\\frac{r^2}{2 R}$"
   ]
  },
  {
   "cell_type": "code",
   "execution_count": 2,
   "metadata": {},
   "outputs": [],
   "source": [
    "# Define the separation h          #Since we are using the same model, we can use the same h function\n",
    "h = - (x**2 + y**2)/(2*R)"
   ]
  },
  {
   "cell_type": "markdown",
   "metadata": {},
   "source": [
    "## Minimization with FFT\n",
    "\n",
    "First we use **scipy** library functions, *scipy.optimize.minimize* and *scipy.optimize.LinearConstraint* and FFT method with the nice property for convolution integral. We have the following convolution product:\n",
    "\n",
    "$$\n",
    "\\mathcal{F}(u)= \\mathcal{F}(f) \\bullet \\mathcal{F}(p) \n",
    "$$"
   ]
  },
  {
   "cell_type": "code",
   "execution_count": 3,
   "metadata": {},
   "outputs": [
    {
     "ename": "IndexError",
     "evalue": "cannot do a non-empty take from an empty axes.",
     "output_type": "error",
     "traceback": [
      "\u001b[0;31m---------------------------------------------------------------------------\u001b[0m",
      "\u001b[0;31mIndexError\u001b[0m                                Traceback (most recent call last)",
      "\u001b[0;32m/tmp/ipykernel_72765/1163075201.py\u001b[0m in \u001b[0;36m<module>\u001b[0;34m\u001b[0m\n\u001b[1;32m      8\u001b[0m \u001b[0mp_initial\u001b[0m \u001b[0;34m=\u001b[0m \u001b[0mpressure_discritization\u001b[0m\u001b[0;34m(\u001b[0m\u001b[0mx\u001b[0m\u001b[0;34m,\u001b[0m \u001b[0my\u001b[0m\u001b[0;34m,\u001b[0m \u001b[0mx0\u001b[0m\u001b[0;34m,\u001b[0m \u001b[0my0\u001b[0m\u001b[0;34m)\u001b[0m\u001b[0;31m# initial pressure field\u001b[0m\u001b[0;34m\u001b[0m\u001b[0;34m\u001b[0m\u001b[0m\n\u001b[1;32m      9\u001b[0m \u001b[0;34m\u001b[0m\u001b[0m\n\u001b[0;32m---> 10\u001b[0;31m \u001b[0mp0_fourier\u001b[0m \u001b[0;34m=\u001b[0m \u001b[0mnp\u001b[0m\u001b[0;34m.\u001b[0m\u001b[0mfft\u001b[0m\u001b[0;34m.\u001b[0m\u001b[0mfft2\u001b[0m\u001b[0;34m(\u001b[0m\u001b[0mp_initial\u001b[0m\u001b[0;34m,\u001b[0m \u001b[0mnorm\u001b[0m\u001b[0;34m=\u001b[0m\u001b[0;34m'ortho'\u001b[0m\u001b[0;34m)\u001b[0m  \u001b[0;31m# Fourier transform of the uniform pressure\u001b[0m\u001b[0;34m\u001b[0m\u001b[0;34m\u001b[0m\u001b[0m\n\u001b[0m",
      "\u001b[0;32m<__array_function__ internals>\u001b[0m in \u001b[0;36mfft2\u001b[0;34m(*args, **kwargs)\u001b[0m\n",
      "\u001b[0;32m/usr/lib/python3/dist-packages/numpy/fft/_pocketfft.py\u001b[0m in \u001b[0;36mfft2\u001b[0;34m(a, s, axes, norm)\u001b[0m\n\u001b[1;32m   1012\u001b[0m \u001b[0;34m\u001b[0m\u001b[0m\n\u001b[1;32m   1013\u001b[0m     \"\"\"\n\u001b[0;32m-> 1014\u001b[0;31m     \u001b[0;32mreturn\u001b[0m \u001b[0m_raw_fftnd\u001b[0m\u001b[0;34m(\u001b[0m\u001b[0ma\u001b[0m\u001b[0;34m,\u001b[0m \u001b[0ms\u001b[0m\u001b[0;34m,\u001b[0m \u001b[0maxes\u001b[0m\u001b[0;34m,\u001b[0m \u001b[0mfft\u001b[0m\u001b[0;34m,\u001b[0m \u001b[0mnorm\u001b[0m\u001b[0;34m)\u001b[0m\u001b[0;34m\u001b[0m\u001b[0;34m\u001b[0m\u001b[0m\n\u001b[0m\u001b[1;32m   1015\u001b[0m \u001b[0;34m\u001b[0m\u001b[0m\n\u001b[1;32m   1016\u001b[0m \u001b[0;34m\u001b[0m\u001b[0m\n",
      "\u001b[0;32m/usr/lib/python3/dist-packages/numpy/fft/_pocketfft.py\u001b[0m in \u001b[0;36m_raw_fftnd\u001b[0;34m(a, s, axes, function, norm)\u001b[0m\n\u001b[1;32m    701\u001b[0m \u001b[0;32mdef\u001b[0m \u001b[0m_raw_fftnd\u001b[0m\u001b[0;34m(\u001b[0m\u001b[0ma\u001b[0m\u001b[0;34m,\u001b[0m \u001b[0ms\u001b[0m\u001b[0;34m=\u001b[0m\u001b[0;32mNone\u001b[0m\u001b[0;34m,\u001b[0m \u001b[0maxes\u001b[0m\u001b[0;34m=\u001b[0m\u001b[0;32mNone\u001b[0m\u001b[0;34m,\u001b[0m \u001b[0mfunction\u001b[0m\u001b[0;34m=\u001b[0m\u001b[0mfft\u001b[0m\u001b[0;34m,\u001b[0m \u001b[0mnorm\u001b[0m\u001b[0;34m=\u001b[0m\u001b[0;32mNone\u001b[0m\u001b[0;34m)\u001b[0m\u001b[0;34m:\u001b[0m\u001b[0;34m\u001b[0m\u001b[0;34m\u001b[0m\u001b[0m\n\u001b[1;32m    702\u001b[0m     \u001b[0ma\u001b[0m \u001b[0;34m=\u001b[0m \u001b[0masarray\u001b[0m\u001b[0;34m(\u001b[0m\u001b[0ma\u001b[0m\u001b[0;34m)\u001b[0m\u001b[0;34m\u001b[0m\u001b[0;34m\u001b[0m\u001b[0m\n\u001b[0;32m--> 703\u001b[0;31m     \u001b[0ms\u001b[0m\u001b[0;34m,\u001b[0m \u001b[0maxes\u001b[0m \u001b[0;34m=\u001b[0m \u001b[0m_cook_nd_args\u001b[0m\u001b[0;34m(\u001b[0m\u001b[0ma\u001b[0m\u001b[0;34m,\u001b[0m \u001b[0ms\u001b[0m\u001b[0;34m,\u001b[0m \u001b[0maxes\u001b[0m\u001b[0;34m)\u001b[0m\u001b[0;34m\u001b[0m\u001b[0;34m\u001b[0m\u001b[0m\n\u001b[0m\u001b[1;32m    704\u001b[0m     \u001b[0mitl\u001b[0m \u001b[0;34m=\u001b[0m \u001b[0mlist\u001b[0m\u001b[0;34m(\u001b[0m\u001b[0mrange\u001b[0m\u001b[0;34m(\u001b[0m\u001b[0mlen\u001b[0m\u001b[0;34m(\u001b[0m\u001b[0maxes\u001b[0m\u001b[0;34m)\u001b[0m\u001b[0;34m)\u001b[0m\u001b[0;34m)\u001b[0m\u001b[0;34m\u001b[0m\u001b[0;34m\u001b[0m\u001b[0m\n\u001b[1;32m    705\u001b[0m     \u001b[0mitl\u001b[0m\u001b[0;34m.\u001b[0m\u001b[0mreverse\u001b[0m\u001b[0;34m(\u001b[0m\u001b[0;34m)\u001b[0m\u001b[0;34m\u001b[0m\u001b[0;34m\u001b[0m\u001b[0m\n",
      "\u001b[0;32m/usr/lib/python3/dist-packages/numpy/fft/_pocketfft.py\u001b[0m in \u001b[0;36m_cook_nd_args\u001b[0;34m(a, s, axes, invreal)\u001b[0m\n\u001b[1;32m    686\u001b[0m             \u001b[0ms\u001b[0m \u001b[0;34m=\u001b[0m \u001b[0mlist\u001b[0m\u001b[0;34m(\u001b[0m\u001b[0ma\u001b[0m\u001b[0;34m.\u001b[0m\u001b[0mshape\u001b[0m\u001b[0;34m)\u001b[0m\u001b[0;34m\u001b[0m\u001b[0;34m\u001b[0m\u001b[0m\n\u001b[1;32m    687\u001b[0m         \u001b[0;32melse\u001b[0m\u001b[0;34m:\u001b[0m\u001b[0;34m\u001b[0m\u001b[0;34m\u001b[0m\u001b[0m\n\u001b[0;32m--> 688\u001b[0;31m             \u001b[0ms\u001b[0m \u001b[0;34m=\u001b[0m \u001b[0mtake\u001b[0m\u001b[0;34m(\u001b[0m\u001b[0ma\u001b[0m\u001b[0;34m.\u001b[0m\u001b[0mshape\u001b[0m\u001b[0;34m,\u001b[0m \u001b[0maxes\u001b[0m\u001b[0;34m)\u001b[0m\u001b[0;34m\u001b[0m\u001b[0;34m\u001b[0m\u001b[0m\n\u001b[0m\u001b[1;32m    689\u001b[0m     \u001b[0;32melse\u001b[0m\u001b[0;34m:\u001b[0m\u001b[0;34m\u001b[0m\u001b[0;34m\u001b[0m\u001b[0m\n\u001b[1;32m    690\u001b[0m         \u001b[0mshapeless\u001b[0m \u001b[0;34m=\u001b[0m \u001b[0;36m0\u001b[0m\u001b[0;34m\u001b[0m\u001b[0;34m\u001b[0m\u001b[0m\n",
      "\u001b[0;32m<__array_function__ internals>\u001b[0m in \u001b[0;36mtake\u001b[0;34m(*args, **kwargs)\u001b[0m\n",
      "\u001b[0;32m/usr/lib/python3/dist-packages/numpy/core/fromnumeric.py\u001b[0m in \u001b[0;36mtake\u001b[0;34m(a, indices, axis, out, mode)\u001b[0m\n\u001b[1;32m    188\u001b[0m            [5, 7]])\n\u001b[1;32m    189\u001b[0m     \"\"\"\n\u001b[0;32m--> 190\u001b[0;31m     \u001b[0;32mreturn\u001b[0m \u001b[0m_wrapfunc\u001b[0m\u001b[0;34m(\u001b[0m\u001b[0ma\u001b[0m\u001b[0;34m,\u001b[0m \u001b[0;34m'take'\u001b[0m\u001b[0;34m,\u001b[0m \u001b[0mindices\u001b[0m\u001b[0;34m,\u001b[0m \u001b[0maxis\u001b[0m\u001b[0;34m=\u001b[0m\u001b[0maxis\u001b[0m\u001b[0;34m,\u001b[0m \u001b[0mout\u001b[0m\u001b[0;34m=\u001b[0m\u001b[0mout\u001b[0m\u001b[0;34m,\u001b[0m \u001b[0mmode\u001b[0m\u001b[0;34m=\u001b[0m\u001b[0mmode\u001b[0m\u001b[0;34m)\u001b[0m\u001b[0;34m\u001b[0m\u001b[0;34m\u001b[0m\u001b[0m\n\u001b[0m\u001b[1;32m    191\u001b[0m \u001b[0;34m\u001b[0m\u001b[0m\n\u001b[1;32m    192\u001b[0m \u001b[0;34m\u001b[0m\u001b[0m\n",
      "\u001b[0;32m/usr/lib/python3/dist-packages/numpy/core/fromnumeric.py\u001b[0m in \u001b[0;36m_wrapfunc\u001b[0;34m(obj, method, *args, **kwds)\u001b[0m\n\u001b[1;32m     52\u001b[0m     \u001b[0mbound\u001b[0m \u001b[0;34m=\u001b[0m \u001b[0mgetattr\u001b[0m\u001b[0;34m(\u001b[0m\u001b[0mobj\u001b[0m\u001b[0;34m,\u001b[0m \u001b[0mmethod\u001b[0m\u001b[0;34m,\u001b[0m \u001b[0;32mNone\u001b[0m\u001b[0;34m)\u001b[0m\u001b[0;34m\u001b[0m\u001b[0;34m\u001b[0m\u001b[0m\n\u001b[1;32m     53\u001b[0m     \u001b[0;32mif\u001b[0m \u001b[0mbound\u001b[0m \u001b[0;32mis\u001b[0m \u001b[0;32mNone\u001b[0m\u001b[0;34m:\u001b[0m\u001b[0;34m\u001b[0m\u001b[0;34m\u001b[0m\u001b[0m\n\u001b[0;32m---> 54\u001b[0;31m         \u001b[0;32mreturn\u001b[0m \u001b[0m_wrapit\u001b[0m\u001b[0;34m(\u001b[0m\u001b[0mobj\u001b[0m\u001b[0;34m,\u001b[0m \u001b[0mmethod\u001b[0m\u001b[0;34m,\u001b[0m \u001b[0;34m*\u001b[0m\u001b[0margs\u001b[0m\u001b[0;34m,\u001b[0m \u001b[0;34m**\u001b[0m\u001b[0mkwds\u001b[0m\u001b[0;34m)\u001b[0m\u001b[0;34m\u001b[0m\u001b[0;34m\u001b[0m\u001b[0m\n\u001b[0m\u001b[1;32m     55\u001b[0m \u001b[0;34m\u001b[0m\u001b[0m\n\u001b[1;32m     56\u001b[0m     \u001b[0;32mtry\u001b[0m\u001b[0;34m:\u001b[0m\u001b[0;34m\u001b[0m\u001b[0;34m\u001b[0m\u001b[0m\n",
      "\u001b[0;32m/usr/lib/python3/dist-packages/numpy/core/fromnumeric.py\u001b[0m in \u001b[0;36m_wrapit\u001b[0;34m(obj, method, *args, **kwds)\u001b[0m\n\u001b[1;32m     41\u001b[0m     \u001b[0;32mexcept\u001b[0m \u001b[0mAttributeError\u001b[0m\u001b[0;34m:\u001b[0m\u001b[0;34m\u001b[0m\u001b[0;34m\u001b[0m\u001b[0m\n\u001b[1;32m     42\u001b[0m         \u001b[0mwrap\u001b[0m \u001b[0;34m=\u001b[0m \u001b[0;32mNone\u001b[0m\u001b[0;34m\u001b[0m\u001b[0;34m\u001b[0m\u001b[0m\n\u001b[0;32m---> 43\u001b[0;31m     \u001b[0mresult\u001b[0m \u001b[0;34m=\u001b[0m \u001b[0mgetattr\u001b[0m\u001b[0;34m(\u001b[0m\u001b[0masarray\u001b[0m\u001b[0;34m(\u001b[0m\u001b[0mobj\u001b[0m\u001b[0;34m)\u001b[0m\u001b[0;34m,\u001b[0m \u001b[0mmethod\u001b[0m\u001b[0;34m)\u001b[0m\u001b[0;34m(\u001b[0m\u001b[0;34m*\u001b[0m\u001b[0margs\u001b[0m\u001b[0;34m,\u001b[0m \u001b[0;34m**\u001b[0m\u001b[0mkwds\u001b[0m\u001b[0;34m)\u001b[0m\u001b[0;34m\u001b[0m\u001b[0;34m\u001b[0m\u001b[0m\n\u001b[0m\u001b[1;32m     44\u001b[0m     \u001b[0;32mif\u001b[0m \u001b[0mwrap\u001b[0m\u001b[0;34m:\u001b[0m\u001b[0;34m\u001b[0m\u001b[0;34m\u001b[0m\u001b[0m\n\u001b[1;32m     45\u001b[0m         \u001b[0;32mif\u001b[0m \u001b[0;32mnot\u001b[0m \u001b[0misinstance\u001b[0m\u001b[0;34m(\u001b[0m\u001b[0mresult\u001b[0m\u001b[0;34m,\u001b[0m \u001b[0mmu\u001b[0m\u001b[0;34m.\u001b[0m\u001b[0mndarray\u001b[0m\u001b[0;34m)\u001b[0m\u001b[0;34m:\u001b[0m\u001b[0;34m\u001b[0m\u001b[0;34m\u001b[0m\u001b[0m\n",
      "\u001b[0;31mIndexError\u001b[0m: cannot do a non-empty take from an empty axes."
     ]
    }
   ],
   "source": [
    "\n",
    "p_bar = W / S  \n",
    "\n",
    "# ?????\n",
    "def pressure_discritization(x, y, x0, y0):\n",
    "    return p_bar\n",
    "\n",
    "\n",
    "p_initial = pressure_discritization(x, y, x0, y0)# initial pressure field\n",
    "\n",
    "p0_fourier = np.fft.fft2(p_initial, norm='ortho')  # Fourier transform of the uniform pressure\n"
   ]
  },
  {
   "cell_type": "markdown",
   "metadata": {},
   "source": [
    "We also need to define our Kernel function in fourrier domain:\n",
    "\n",
    "$$\n",
    "\\mathcal{F}(f)=\\frac{2}{E^* \\sqrt{q_x^2+q_y^2}}\n",
    "$$\n"
   ]
  },
  {
   "cell_type": "code",
   "execution_count": null,
   "metadata": {},
   "outputs": [],
   "source": [
    "#we define the frequency with q_x and q_y\n",
    "q_x = 2 * np.pi * np.fft.fftfreq(n, d=L/n)\n",
    "q_y = 2 * np.pi * np.fft.fftfreq(m, d=L/m)\n",
    "QX, QY = np.meshgrid(q_x, q_y)\n",
    "\n",
    "kernel_fourier = np.zeros_like(QX)  # Initialize the kernel array\n",
    "#non_zero_indices = (QX**2 + QY**2) != 0  # Avoid division by zero\n",
    "kernel_fourier = 2 / (E_star * np.sqrt(QX**2 + QY**2))\n",
    "kernel_fourier[0, 0] = 0  # Set the zero frequency component to zero"
   ]
  },
  {
   "cell_type": "markdown",
   "metadata": {},
   "source": [
    "## Possible to have negative value, because we set the *average value $C_0$* to be zero."
   ]
  },
  {
   "cell_type": "code",
   "execution_count": null,
   "metadata": {},
   "outputs": [],
   "source": [
    "#Calculate the displacement field in fourrier space\n",
    "displacement_fourrier = p0_fourier * kernel_fourier\n",
    "\n",
    "#We calculate the displacement field in real space\n",
    "displacement_real = np.fft.ifft2(displacement_fourrier, norm='ortho')\n"
   ]
  },
  {
   "cell_type": "code",
   "execution_count": null,
   "metadata": {},
   "outputs": [
    {
     "ename": "TypeError",
     "evalue": "object of type 'float' has no len()",
     "output_type": "error",
     "traceback": [
      "\u001b[0;31m---------------------------------------------------------------------------\u001b[0m",
      "\u001b[0;31mTypeError\u001b[0m                                 Traceback (most recent call last)",
      "\u001b[0;32m/tmp/ipykernel_5434/3535521170.py\u001b[0m in \u001b[0;36m<module>\u001b[0;34m\u001b[0m\n\u001b[1;32m      8\u001b[0m \u001b[0;34m\u001b[0m\u001b[0m\n\u001b[1;32m      9\u001b[0m  \u001b[0;31m# define the length of the pressure vector\u001b[0m\u001b[0;34m\u001b[0m\u001b[0;34m\u001b[0m\u001b[0m\n\u001b[0;32m---> 10\u001b[0;31m \u001b[0mn\u001b[0m \u001b[0;34m=\u001b[0m \u001b[0mlen\u001b[0m\u001b[0;34m(\u001b[0m\u001b[0mp_bar\u001b[0m\u001b[0;34m)\u001b[0m  \u001b[0;31m# p_bar is initial guess for the pressure\u001b[0m\u001b[0;34m\u001b[0m\u001b[0;34m\u001b[0m\u001b[0m\n\u001b[0m\u001b[1;32m     11\u001b[0m \u001b[0;31m# first non_negative_constraint for the pressure\u001b[0m\u001b[0;34m\u001b[0m\u001b[0;34m\u001b[0m\u001b[0m\n\u001b[1;32m     12\u001b[0m \u001b[0mnon_negative_constraint\u001b[0m \u001b[0;34m=\u001b[0m \u001b[0mminimize\u001b[0m\u001b[0;34m.\u001b[0m\u001b[0mLinearConstraint\u001b[0m\u001b[0;34m(\u001b[0m\u001b[0mnp\u001b[0m\u001b[0;34m.\u001b[0m\u001b[0meye\u001b[0m\u001b[0;34m(\u001b[0m\u001b[0mn\u001b[0m\u001b[0;34m)\u001b[0m\u001b[0;34m,\u001b[0m \u001b[0mnp\u001b[0m\u001b[0;34m.\u001b[0m\u001b[0mzeros\u001b[0m\u001b[0;34m(\u001b[0m\u001b[0mn\u001b[0m\u001b[0;34m)\u001b[0m\u001b[0;34m,\u001b[0m \u001b[0mnp\u001b[0m\u001b[0;34m.\u001b[0m\u001b[0minf\u001b[0m\u001b[0;34m*\u001b[0m\u001b[0mnp\u001b[0m\u001b[0;34m.\u001b[0m\u001b[0mones\u001b[0m\u001b[0;34m(\u001b[0m\u001b[0mn\u001b[0m\u001b[0;34m)\u001b[0m\u001b[0;34m)\u001b[0m\u001b[0;34m\u001b[0m\u001b[0;34m\u001b[0m\u001b[0m\n",
      "\u001b[0;31mTypeError\u001b[0m: object of type 'float' has no len()"
     ]
    }
   ],
   "source": [
    "\n",
    "\n",
    "# define the complementary energy as cost function\n",
    "def cost_function(displacement_real, h, P):\n",
    "    return np.sum(displacement_real*P)/2 - np.sum(h*P)\n",
    "\n",
    "# define the gradient of the cost function as jacobian\n",
    "def gradient(displacement_real, h):\n",
    "    return displacement_real-h\n",
    "\n",
    "jac = gradient(displacement_real, h)\n",
    "\n",
    " # define the length of the pressure vector\n",
    "n = len(p_bar)  # p_bar is initial guess for the pressure\n",
    "# first non_negative_constraint for the pressure\n",
    "non_negative_constraint = minimize.LinearConstraint(np.eye(n), np.zeros(n), np.inf*np.ones(n))\n",
    "\n",
    "# second avarage_constraint for the pressure\n",
    "average_pressure_constraint = minimize.LinearConstraint(np.ones((1, n))/S, [p_bar*S], [p_bar*S])\n",
    "\n",
    "\n",
    "result = minimize(cost_function, p_bar, method='trust-constr', jac=jac, constraints=[non_negative_constraint, average_pressure_constraint])\n",
    "\n",
    "#print(result)\n"
   ]
  },
  {
   "cell_type": "code",
   "execution_count": null,
   "metadata": {},
   "outputs": [],
   "source": [
    "\n"
   ]
  },
  {
   "cell_type": "markdown",
   "metadata": {},
   "source": []
  },
  {
   "cell_type": "code",
   "execution_count": null,
   "metadata": {},
   "outputs": [],
   "source": []
  },
  {
   "cell_type": "code",
   "execution_count": null,
   "metadata": {},
   "outputs": [],
   "source": []
  },
  {
   "cell_type": "markdown",
   "metadata": {},
   "source": [
    "There is one more notation that needs to be clarified, $\\mathcal{M}$ is a boundary integral operator defined in terms of fundamental solutions. Consequently, the integral operator $\\mathcal{M}$ can be expressed as a convolution with respect to the horizontal coordinates. \n",
    "\n",
    "The gradient computation of the functional $I_p$ is straightforward with the use of $\\mathcal{M}$:\n",
    "\n",
    "$$\n",
    "\\nabla I_p(p)=\\mathcal{M}\\left[p \\boldsymbol{e}_3\\right] \\cdot \\boldsymbol{e}_3-h=u_3-h=g\n",
    "$$\n"
   ]
  },
  {
   "cell_type": "markdown",
   "metadata": {},
   "source": [
    "## Steepest descent algorithm\n",
    "\n",
    "The approach proposed by Stanley and Kato(1997)[6] consists in taking steps in the $-\\nabla I_p=-g$ direction then shifting and truncating the normal traction so that both the unilateral and equilibrium constraints are satisfied. Besides, its convergence rate is sub-optimal.\n",
    "\n"
   ]
  },
  {
   "cell_type": "markdown",
   "metadata": {},
   "source": [
    "### Algorithm 1: Stanley and Kato (1997) steepest descent algorithm.\n",
    "\n",
    "**Inputs:** normal total load  $W$, surface profile $\\mathbf{H}$, tolerance  $\\varepsilon$, maximum number of iterations  $N_{\\text{max}}$.\n",
    "\n",
    "1. Initialize $ P $ with the average constant load initial guess:\n",
    "   $$ P \\leftarrow \\frac{W}{|\\partial \\mathbf{B}P|} $$\n",
    "2. Set $ h_{\\text{norm}} $ to the norm of  $\\mathbf{H}$ :\n",
    "   $$ h_{\\text{norm}} \\leftarrow \\|\\mathbf{H}\\| $$\n",
    "3. Set iteration counter $ k $ to zero:\n",
    "   $$ k \\leftarrow 0 $$\n",
    "\n",
    "**Repeat until** $ e < \\varepsilon $ **or** $ k > N_{\\text{max}} $:\n",
    "\n",
    "4. Calculate the gradient $ G $:\n",
    "   $$ G \\leftarrow M[\\mathbf{P}e_3] \\cdot e_3 - \\mathbf{H} $$\n",
    "5. Update $ P $ by subtracting $ G $:\n",
    "   $$ P \\leftarrow P - G $$\n",
    "6. Find $ \\alpha_0 $ that solves the following equation (where $ (\\bullet)_+ $ is the ramp function):\n",
    "   $$ \\text{Find } \\alpha_0 \\text{ solution of } \\Sigma (P + \\alpha_0)_+ - W = 0 $$\n",
    "7. Update $ P $ with $ \\alpha_0 $:\n",
    "   $$ P \\leftarrow (P + \\alpha_0)_+ $$\n",
    "8. Calculate the error on complementarity $ e $:\n",
    "   $$ e \\leftarrow |P \\cdot (G - \\min(G))|/(Wh_{\\text{norm}}) $$\n",
    "9. Increment the iteration counter $ k $:\n",
    "   $$ k \\leftarrow k + 1 $$\n",
    "\n",
    "**After exiting the loop**:\n",
    "\n",
    "10. Ensure a positive gap by updating \\( G \\):\n",
    "    $$ G \\leftarrow G - \\min(G) $$\n"
   ]
  },
  {
   "cell_type": "code",
   "execution_count": null,
   "metadata": {},
   "outputs": [],
   "source": [
    "h_norm = np.abs(h(x, y, R)) #norm of the h function\n",
    "\n",
    "alpha_0 = 1e-2  # learning rate\n",
    "tol = 1e-6  # tolerance for convergence\n",
    "iter_max = 1000  # maximum number of iterations\n",
    "\n",
    "# Initialize P with the average constant load initial guess\n",
    "P = np.full((n, m), p_bar)\n",
    "\n",
    "\n",
    "P = p_bar #Initial guess for the pressure\n",
    "\n",
    "for k in range(0, iter_max): \n",
    "    if np.abs(error) < tol:\n",
    "\n",
    "        #gradient(gap)\n",
    "        G = \n",
    "        P = P - G\n",
    "\n",
    "        '''\n",
    "        # define the length of the pressure vector\n",
    "        n = len(p_bar)  # p_bar is initial guess for the pressure\n",
    "        # first non_negative_constraint for the pressure\n",
    "        non_negative_constraint = minimize.LinearConstraint(np.eye(n), np.zeros(n), np.inf*np.ones(n))\n",
    "\n",
    "        # second avarage_constraint for the pressure\n",
    "        average_pressure_constraint = minimize.LinearConstraint(np.ones((1, n))/S, [p_bar*S], [p_bar*S])\n",
    "        '''\n",
    "\n",
    "\n",
    "        p = \n",
    "\n",
    "        error =\n",
    "\n",
    "\n",
    "\n",
    "        k += 1\n",
    "        if np.abs(error) < tol:\n",
    "            p_bar = p\n",
    "        else:\n",
    "            print('Convergence failed')\n",
    "\n",
    "    G = G - min(0, G)  # project the gradient onto the non-negative orthant\n",
    "            \n",
    "    else:\n",
    "        print('Convergence failed')\n",
    "        break\n",
    "\n",
    "\n"
   ]
  },
  {
   "cell_type": "markdown",
   "metadata": {},
   "source": []
  },
  {
   "cell_type": "markdown",
   "metadata": {},
   "source": []
  },
  {
   "cell_type": "code",
   "execution_count": null,
   "metadata": {},
   "outputs": [],
   "source": []
  },
  {
   "cell_type": "markdown",
   "metadata": {},
   "source": []
  },
  {
   "cell_type": "markdown",
   "metadata": {},
   "source": [
    "we give our analytical normal displacement solution by Hertz\n",
    "\n",
    "$$\n",
    "\\bar{u}_z=\\frac{1-\\nu^2}{E} \\frac{\\pi p_0}{4 a}\\left(2 a^2-r^2\\right), \\quad r \\leqslant a\n",
    "$$\n"
   ]
  },
  {
   "cell_type": "code",
   "execution_count": null,
   "metadata": {},
   "outputs": [],
   "source": []
  },
  {
   "cell_type": "markdown",
   "metadata": {},
   "source": [
    "## Comparasion with other online solver"
   ]
  },
  {
   "cell_type": "markdown",
   "metadata": {},
   "source": [
    "## Reference:\n",
    "\n",
    "[1] Frérot, Lucas Henri Galilée. ‘Bridging Scales in Wear Modeling with Volume Integral Methods for Elastic-Plastic Contact’, n.d.\n",
    "\n",
    "[2] Yastrebov, Vladislav A. Numerical Methods in Contact Mechanics. Numerical Methods in Engineering Series. Hoboken, NJ: Wiley, 2013.\n",
    "\n",
    "[3] Kalker, J. J. ‘Variational Principles of Contact Elastostatics’. IMA Journal of Applied Mathematics 20, no. 2 (1977): 199–219. https://doi.org/10.1093/imamat/20.2.199.\n",
    "\n",
    "[4] Vladislav A. Yastrebov, Contact mechanics and elements of tribology, Lecture 4.b, Contact and transport at small scales, Open Course Contact Mechanics and Elements of Tribology, January 23, 2024, https://cmet.yastrebov.fr/index.html\n",
    "\n",
    "[5] Rey, Valentine, Guillaume Anciaux, and Jean-François Molinari. ‘Normal Adhesive Contact on Rough Surfaces: Efficient Algorithm for FFT-Based BEM Resolution’. Computational Mechanics 60, no. 1 (July 2017): 69–81. https://doi.org/10.1007/s00466-017-1392-5.\n",
    "\n",
    "[6] stanly 1997\n",
    "\n",
    "[7] Polonsky and Keer (1999b) \n",
    "\n",
    "[8] https://gitlab.com/tamaas/tamaas/-/blob/master/examples/scipy_penalty.py?ref_type=heads\n",
    "\n",
    "[9] https://www.pecms.cn/"
   ]
  },
  {
   "cell_type": "markdown",
   "metadata": {},
   "source": []
  },
  {
   "cell_type": "markdown",
   "metadata": {},
   "source": []
  },
  {
   "cell_type": "markdown",
   "metadata": {},
   "source": []
  }
 ],
 "metadata": {
  "kernelspec": {
   "display_name": "Python 3",
   "language": "python",
   "name": "python3"
  },
  "language_info": {
   "codemirror_mode": {
    "name": "ipython",
    "version": 3
   },
   "file_extension": ".py",
   "mimetype": "text/x-python",
   "name": "python",
   "nbconvert_exporter": "python",
   "pygments_lexer": "ipython3",
   "version": "3.10.6"
  }
 },
 "nbformat": 4,
 "nbformat_minor": 2
}
