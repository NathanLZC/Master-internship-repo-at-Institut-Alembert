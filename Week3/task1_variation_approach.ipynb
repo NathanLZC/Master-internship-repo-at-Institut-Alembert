{
 "cells": [
  {
   "cell_type": "markdown",
   "metadata": {},
   "source": [
    "# Minimum Complementary Energy\n",
    "\n",
    "Over the past two weeks, we have explored the displacement resulting from distributed pressure and the Hertz contact solution. Now, we shift our focus to real contact problems, emphasizing **Variational Principles** and the **Minimum Complementary Energy** approach."
   ]
  },
  {
   "cell_type": "markdown",
   "metadata": {},
   "source": [
    "![Contact model discussed in first step](figures/Problem_mapping.png)"
   ]
  },
  {
   "cell_type": "markdown",
   "metadata": {},
   "source": [
    "Here we simplify our model as the contact between a rigid rough surface and an elastic flat surface[4].\n",
    "\n",
    "![rigid rough surface elastic contact](figures/rigid_rough_surface_elastic_contact.jpg)\n"
   ]
  },
  {
   "cell_type": "markdown",
   "metadata": {},
   "source": [
    "We want to know pressure distribution $P(x,y)$, and we define our gap function as:\n",
    "\n",
    "$$\n",
    "g(x, y)=u_z(x, y)-h(x, y)\n",
    "$$\n",
    "\n",
    "where $u_z(x, y)$ is the normal displacement, the separation of two surfaces $h(x,y)$ can sometimes be $h(r)=-\\frac{r^2}{2 R}$, like Rey(2017)[5].\n",
    "\n",
    "As the first chapiter of Lucas(2020)[1], the potential energy can be derived from elastic energy relationship $\\frac{1}{2} \\int_v \\varepsilon: \\mathbb{C}: \\varepsilon d v$ to:\n",
    "\n",
    "$$\n",
    "E_p\\left(u_z, p\\right)=\\frac{1}{2} \\int_s u_z \\cdot p d s\n",
    "$$\n",
    "\n",
    "If we minimize this potential energy with respect to $u_z$, then we call it **Primal minimization problem**, we will end up with a displacement solution.\n",
    "\n",
    "$$\n",
    "\\min _{g\\left[u_z\\right] \\geqslant 0} E_p\\left(u_z, p\\left[u_z\\right]\\right)\n",
    "$$\n",
    "\n",
    "Here we focus on complementary energy minimization, called **Dual minimization problem**, where complementary energy is defined as:\n",
    "\n",
    "$$\n",
    "E_c\\left(u_z, p\\right)=\\frac{1}{2} \\int_s u_z \\cdot p d s-\\int_s p h d s\n",
    "$$\n",
    "\n",
    "Then the minimization could be:\n",
    "\n",
    "$$\n",
    "\\min _{p \\geqslant 0} E_c\\left(u_z[p], p\\right)\n",
    "$$\n",
    "\n",
    "It is obvious that we will end up with a pressure solution in this procedure.\n",
    "\n"
   ]
  },
  {
   "cell_type": "markdown",
   "metadata": {},
   "source": [
    "## Q1: Legendre transform for dual optimization?"
   ]
  },
  {
   "cell_type": "markdown",
   "metadata": {},
   "source": [
    "From what we discuss above, we have two constraints, \n",
    "\n",
    "$$\n",
    "\\frac{1}{S} \\int_s p d s=\\bar{p}\n",
    "$$\n",
    "\n",
    "And\n",
    "\n",
    "$$\n",
    "p \\geq 0\n",
    "$$\n",
    "\n",
    "To minimize the complementary energy, we consider:\n",
    "\n",
    "$$\n",
    "\\lim _{\\varepsilon \\rightarrow 0} \\frac{E_c(p+\\varepsilon v)-E_c(p)}{\\varepsilon}\n",
    "$$\n",
    "\n",
    "Here we can derive a gap function by:\n",
    "\n",
    "$$\n",
    "\\frac{\\partial E_c}{\\partial p}=u_z[p]-h=g\n",
    "$$\n",
    "\n"
   ]
  },
  {
   "cell_type": "markdown",
   "metadata": {},
   "source": [
    "We choose the same background as a start point to verify this energy minimization, and define $ \\bar{p}=\\frac{F}{S} $"
   ]
  },
  {
   "cell_type": "code",
   "execution_count": 1,
   "metadata": {},
   "outputs": [],
   "source": [
    "import numpy as np\n",
    "from scipy.optimize import minimize\n",
    "\n",
    "#define the parameters\n",
    "F = 1e2  # total force\n",
    "R = 1  # radius of demi-sphere\n",
    "L = 2  # domain size\n",
    "S = L**2  # domain area\n",
    "p_bar = F / S  # average pressure\n",
    "\n",
    "\n",
    "#define material parameters\n",
    "E = 1e3  # Young's modulus\n",
    "nu = 0.3  # Poisson's ratio\n",
    "E_star = E / (1 - nu**2)  # plane strain modulus \n"
   ]
  },
  {
   "cell_type": "code",
   "execution_count": 2,
   "metadata": {},
   "outputs": [],
   "source": [
    "#We generate a 2D coordinate space\n",
    "n = 100\n",
    "m = 100\n",
    "\n",
    "x, y = np.meshgrid(np.linspace(0, L, n, endpoint=False), np.linspace(0, L, m, endpoint=False))#notice here that we use endpoint=False to avoid having the last point\n",
    "\n",
    "x0 = 1\n",
    "y0 = 1\n"
   ]
  },
  {
   "cell_type": "markdown",
   "metadata": {},
   "source": [
    "## the separation function h depends on the contact model, since we just use a simple semi-sphere/flat surface contact, we keep it as $h(r)=-\\frac{r^2}{2 R}$"
   ]
  },
  {
   "cell_type": "code",
   "execution_count": 3,
   "metadata": {},
   "outputs": [],
   "source": [
    "# Define the separation h          #Since we are using the same model, we can use the same h function\n",
    "def h(x, y, R):\n",
    "    r = np.sqrt(x**2 + y**2)\n",
    "    return -r**2 / (2 * R)"
   ]
  },
  {
   "cell_type": "markdown",
   "metadata": {},
   "source": [
    "### u_z is our unknown in this case, the Hertz solution is derived from elastic theory, here we want to derive from energy theory, finally we can compare with Hertz solution."
   ]
  },
  {
   "cell_type": "markdown",
   "metadata": {},
   "source": []
  },
  {
   "cell_type": "markdown",
   "metadata": {},
   "source": [
    "#  Complementary energy minimization for Normal contact\n",
    "\n",
    "We follow the steps of Lucas(2020)[1], and finally we will have two alrgorithms to implement, Steepest descent[6] and Constrained conjugate gradient[7]. First we give the notation as reference:\n",
    "\n",
    "Let the open $\\mathcal{B} \\subset \\mathbb{R}^3$ be a deformable elastic solid of boundary $\\partial \\mathcal{B}$ with outward normal $\\boldsymbol{n}$."
   ]
  },
  {
   "cell_type": "markdown",
   "metadata": {},
   "source": []
  },
  {
   "cell_type": "markdown",
   "metadata": {},
   "source": []
  },
  {
   "cell_type": "code",
   "execution_count": 4,
   "metadata": {},
   "outputs": [],
   "source": [
    "\n",
    "\n",
    "\n",
    "\n",
    "# Define the complementary energy function\n",
    "def E_c(p, x, y, R=1):\n",
    "    # Calculate the gap\n",
    "    gap = u_z - h(x, y, R)\n",
    "    return 0.5 * np.sum(u_z * p) - np.sum(p * gap)"
   ]
  },
  {
   "cell_type": "markdown",
   "metadata": {},
   "source": []
  },
  {
   "cell_type": "markdown",
   "metadata": {},
   "source": []
  },
  {
   "cell_type": "code",
   "execution_count": null,
   "metadata": {},
   "outputs": [],
   "source": []
  },
  {
   "cell_type": "markdown",
   "metadata": {},
   "source": []
  },
  {
   "cell_type": "markdown",
   "metadata": {},
   "source": [
    "we give our analytical normal displacement solution by Hertz\n",
    "\n",
    "$$\n",
    "\\bar{u}_z=\\frac{1-\\nu^2}{E} \\frac{\\pi p_0}{4 a}\\left(2 a^2-r^2\\right), \\quad r \\leqslant a\n",
    "$$\n"
   ]
  },
  {
   "cell_type": "code",
   "execution_count": null,
   "metadata": {},
   "outputs": [],
   "source": []
  },
  {
   "cell_type": "markdown",
   "metadata": {},
   "source": [
    "## Reference:\n",
    "\n",
    "[1] Frérot, Lucas Henri Galilée. ‘Bridging Scales in Wear Modeling with Volume Integral Methods for Elastic-Plastic Contact’, n.d.\n",
    "\n",
    "[2] Yastrebov, Vladislav A. Numerical Methods in Contact Mechanics. Numerical Methods in Engineering Series. Hoboken, NJ: Wiley, 2013.\n",
    "\n",
    "[3] Kalker, J. J. ‘Variational Principles of Contact Elastostatics’. IMA Journal of Applied Mathematics 20, no. 2 (1977): 199–219. https://doi.org/10.1093/imamat/20.2.199.\n",
    "\n",
    "[4] Vladislav A. Yastrebov, Contact mechanics and elements of tribology, Lecture 4.b, Contact and transport at small scales, Open Course Contact Mechanics and Elements of Tribology, January 23, 2024, https://cmet.yastrebov.fr/index.html\n",
    "\n",
    "[5] Rey, Valentine, Guillaume Anciaux, and Jean-François Molinari. ‘Normal Adhesive Contact on Rough Surfaces: Efficient Algorithm for FFT-Based BEM Resolution’. Computational Mechanics 60, no. 1 (July 2017): 69–81. https://doi.org/10.1007/s00466-017-1392-5.\n",
    "\n",
    "[6] stanly 1997\n",
    "\n",
    "[7] Polonsky and Keer (1999b) \n"
   ]
  },
  {
   "cell_type": "markdown",
   "metadata": {},
   "source": []
  },
  {
   "cell_type": "markdown",
   "metadata": {},
   "source": []
  },
  {
   "cell_type": "markdown",
   "metadata": {},
   "source": []
  }
 ],
 "metadata": {
  "kernelspec": {
   "display_name": "Python 3",
   "language": "python",
   "name": "python3"
  },
  "language_info": {
   "codemirror_mode": {
    "name": "ipython",
    "version": 3
   },
   "file_extension": ".py",
   "mimetype": "text/x-python",
   "name": "python",
   "nbconvert_exporter": "python",
   "pygments_lexer": "ipython3",
   "version": "3.10.6"
  }
 },
 "nbformat": 4,
 "nbformat_minor": 2
}
