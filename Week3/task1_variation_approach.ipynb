{
 "cells": [
  {
   "cell_type": "markdown",
   "metadata": {},
   "source": [
    "# Minimum Complementary Energy\n",
    "\n",
    "Over the past two weeks, we have explored the displacement resulting from distributed pressure and the Hertz contact solution. Now, we shift our focus to real contact problems, emphasizing **Variational Principles** and the **Minimum Complementary Energy** approach."
   ]
  },
  {
   "cell_type": "markdown",
   "metadata": {},
   "source": [
    "![Contact model discussed in first step](figures/Problem_mapping.png)"
   ]
  },
  {
   "cell_type": "markdown",
   "metadata": {},
   "source": [
    "Here we simplify our model as the contact between a rigid rough surface and an elastic flat surface[4].\n",
    "\n",
    "![rigid rough surface elastic contact](figures/rigid_rough_surface_elastic_contact.jpg)\n"
   ]
  },
  {
   "cell_type": "markdown",
   "metadata": {},
   "source": [
    "We want to know pressure distribution $P(x,y)$, and we define our gap function as:\n",
    "\n",
    "$$\n",
    "g(x, y)=u_z(x, y)-h(x, y)\n",
    "$$\n",
    "\n",
    "where $u_z(x, y)$ is the normal displacement, the separation of two surfaces $h(x,y)$ can sometimes be $h(r)=-\\frac{r^2}{2 R}$, like Rey(2017)[5].\n",
    "\n",
    "As the first chapiter of Lucas(2020)[1], the potential energy can be derived from elastic energy relationship $\\frac{1}{2} \\int_v \\varepsilon: \\mathbb{C}: \\varepsilon d v$ to:\n",
    "\n",
    "$$\n",
    "E_p\\left(u_z, p\\right)=\\frac{1}{2} \\int_s u_z \\cdot p d s\n",
    "$$\n",
    "\n",
    "If we minimize this potential energy with respect to $u_z$, then we call it **Primal minimization problem**, we will end up with a displacement solution.\n",
    "\n",
    "$$\n",
    "\\min _{g\\left[u_z\\right] \\geqslant 0} E_p\\left(u_z, p\\left[u_z\\right]\\right)\n",
    "$$\n",
    "\n",
    "Here we focus on complementary energy minimization, called **Dual minimization problem**, where complementary energy is defined as:\n",
    "\n",
    "$$\n",
    "E_c\\left(u_z, p\\right)=\\frac{1}{2} \\int_s u_z \\cdot p d s-\\int_s p h d s\n",
    "$$\n",
    "\n",
    "Then the minimization could be:\n",
    "\n",
    "$$\n",
    "\\min _{p \\geqslant 0} E_c\\left(u_z[p], p\\right)\n",
    "$$\n",
    "\n",
    "It is obvious that we will end up with a pressure solution in this procedure.\n",
    "\n"
   ]
  },
  {
   "cell_type": "markdown",
   "metadata": {},
   "source": [
    "## Q1: Legendre transform for dual optimization?"
   ]
  },
  {
   "cell_type": "markdown",
   "metadata": {},
   "source": [
    "From what we discuss above, we have two constraints, \n",
    "\n",
    "$$\n",
    "\\frac{1}{S} \\int_s p d s=\\bar{p}\n",
    "$$\n",
    "\n",
    "And\n",
    "\n",
    "$$\n",
    "p \\geq 0\n",
    "$$\n",
    "\n",
    "To minimize the complementary energy, we consider:\n",
    "\n",
    "$$\n",
    "\\lim _{\\varepsilon \\rightarrow 0} \\frac{E_c(p+\\varepsilon v)-E_c(p)}{\\varepsilon}\n",
    "$$\n",
    "\n",
    "Here we can derive a gap function by:\n",
    "\n",
    "$$\n",
    "\\frac{\\partial E_c}{\\partial p}=u_z[p]-h=g\n",
    "$$\n",
    "\n"
   ]
  },
  {
   "cell_type": "code",
   "execution_count": 2,
   "metadata": {},
   "outputs": [
    {
     "ename": "NameError",
     "evalue": "name 'p' is not defined",
     "output_type": "error",
     "traceback": [
      "\u001b[0;31m---------------------------------------------------------------------------\u001b[0m",
      "\u001b[0;31mNameError\u001b[0m                                 Traceback (most recent call last)",
      "\u001b[0;32m/tmp/ipykernel_728459/488687177.py\u001b[0m in \u001b[0;36m<module>\u001b[0;34m\u001b[0m\n\u001b[1;32m     24\u001b[0m \u001b[0;34m\u001b[0m\u001b[0m\n\u001b[1;32m     25\u001b[0m \u001b[0;31m# 压力非负约束，通过边界条件实现\u001b[0m\u001b[0;34m\u001b[0m\u001b[0;34m\u001b[0m\u001b[0m\n\u001b[0;32m---> 26\u001b[0;31m \u001b[0mbounds\u001b[0m \u001b[0;34m=\u001b[0m \u001b[0;34m[\u001b[0m\u001b[0;34m(\u001b[0m\u001b[0;36m0\u001b[0m\u001b[0;34m,\u001b[0m \u001b[0;32mNone\u001b[0m\u001b[0;34m)\u001b[0m \u001b[0;32mfor\u001b[0m \u001b[0m_\u001b[0m \u001b[0;32min\u001b[0m \u001b[0mrange\u001b[0m\u001b[0;34m(\u001b[0m\u001b[0mlen\u001b[0m\u001b[0;34m(\u001b[0m\u001b[0mp\u001b[0m\u001b[0;34m)\u001b[0m\u001b[0;34m)\u001b[0m\u001b[0;34m]\u001b[0m\u001b[0;34m\u001b[0m\u001b[0;34m\u001b[0m\u001b[0m\n\u001b[0m\u001b[1;32m     27\u001b[0m \u001b[0;34m\u001b[0m\u001b[0m\n\u001b[1;32m     28\u001b[0m \u001b[0;31m# 初始压力分布假设\u001b[0m\u001b[0;34m\u001b[0m\u001b[0;34m\u001b[0m\u001b[0m\n",
      "\u001b[0;31mNameError\u001b[0m: name 'p' is not defined"
     ]
    }
   ],
   "source": [
    "import numpy as np\n",
    "from scipy.optimize import minimize\n",
    "\n",
    "#define the parameters\n",
    "F = 1e2  # total force\n",
    "R = 1  # radius of demi-sphere\n",
    "L = 2  # domain size\n",
    "S = L**2  # domain area\n",
    "p_bar = F / S  # average pressure\n",
    "\n",
    "\n",
    "#define material parameters\n",
    "\n"
   ]
  },
  {
   "cell_type": "code",
   "execution_count": null,
   "metadata": {},
   "outputs": [],
   "source": [
    "\n",
    "# define the gap function\n",
    "def g(x, y, R):\n",
    "    return -(x**2 + y**2) / (2 * R)\n",
    "\n",
    "# define the complementary energy\n",
    "def complementary_energy(p, x, y):\n",
    "    u_z = g(x, y)  # 假设垂直位移等于gap函数\n",
    "    return np.sum(p * (u_z / 2 + g(x, y)))\n",
    "\n",
    "# define the constraints\n",
    "# 平均压力约束??\n",
    "def constraint_mean_pressure(p):\n",
    "    return np.sum(p) / S - p_bar\n",
    "\n",
    "# pressure bounds\n",
    "bounds = [(0, None) for _ in range(len(p))]\n",
    "\n",
    "# 初始压力分布假设??\n",
    "p_initial = np.full((S,), p_bar)\n",
    "\n",
    "# 定义优化问题??\n",
    "def objective(p):\n",
    "    x, y = np.meshgrid(np.linspace(-L/2, L/2, int(np.sqrt(len(p)))), np.linspace(-L/2, L/2, int(np.sqrt(len(p)))))\n",
    "    x = x.flatten()\n",
    "    y = y.flatten()\n",
    "    return complementary_energy(p, x, y)\n",
    "\n",
    "# 添加约束\n",
    "constraints = [{'type': 'eq', 'fun': constraint_mean_pressure}]\n",
    "\n",
    "# 进行优化\n",
    "result = minimize(objective, p_initial, method='SLSQP', bounds=bounds, constraints=constraints)\n",
    "\n",
    "if result.success:\n",
    "    optimized_p = result.x\n",
    "    print(\"Optimization successful.\")\n",
    "else:\n",
    "    print(\"Optimization failed.\")\n"
   ]
  },
  {
   "cell_type": "markdown",
   "metadata": {},
   "source": []
  },
  {
   "cell_type": "code",
   "execution_count": 1,
   "metadata": {},
   "outputs": [
    {
     "name": "stdout",
     "output_type": "stream",
     "text": [
      "DOLFINx version: 0.7.3\n"
     ]
    }
   ],
   "source": []
  },
  {
   "cell_type": "markdown",
   "metadata": {},
   "source": [
    "## Reference:\n",
    "\n",
    "[1] Frérot, Lucas Henri Galilée. ‘Bridging Scales in Wear Modeling with Volume Integral Methods for Elastic-Plastic Contact’, n.d.\n",
    "\n",
    "[2] Yastrebov, Vladislav A. Numerical Methods in Contact Mechanics. Numerical Methods in Engineering Series. Hoboken, NJ: Wiley, 2013.\n",
    "\n",
    "[3] Kalker, J. J. ‘Variational Principles of Contact Elastostatics’. IMA Journal of Applied Mathematics 20, no. 2 (1977): 199–219. https://doi.org/10.1093/imamat/20.2.199.\n",
    "\n",
    "[4] Vladislav A. Yastrebov, Contact mechanics and elements of tribology, Lecture 4.b, Contact and transport at small scales, Open Course Contact Mechanics and Elements of Tribology, January 23, 2024, https://cmet.yastrebov.fr/index.html\n",
    "\n",
    "[5] Rey, Valentine, Guillaume Anciaux, and Jean-François Molinari. ‘Normal Adhesive Contact on Rough Surfaces: Efficient Algorithm for FFT-Based BEM Resolution’. Computational Mechanics 60, no. 1 (July 2017): 69–81. https://doi.org/10.1007/s00466-017-1392-5.\n",
    "\n"
   ]
  },
  {
   "cell_type": "markdown",
   "metadata": {},
   "source": []
  },
  {
   "cell_type": "markdown",
   "metadata": {},
   "source": []
  },
  {
   "cell_type": "markdown",
   "metadata": {},
   "source": []
  }
 ],
 "metadata": {
  "kernelspec": {
   "display_name": "Python 3",
   "language": "python",
   "name": "python3"
  },
  "language_info": {
   "codemirror_mode": {
    "name": "ipython",
    "version": 3
   },
   "file_extension": ".py",
   "mimetype": "text/x-python",
   "name": "python",
   "nbconvert_exporter": "python",
   "pygments_lexer": "ipython3",
   "version": "3.10.6"
  }
 },
 "nbformat": 4,
 "nbformat_minor": 2
}
