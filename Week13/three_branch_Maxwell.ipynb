{
 "cells": [
  {
   "cell_type": "markdown",
   "metadata": {},
   "source": [
    "Now we plan to move to three Maxwell branches, we expect to see 4-stage slope evaluation for long-time simulation. Besides, we also add several points to enchance our results:\n",
    "\n",
    "[1] Add percentage of contact area in transition process\n",
    "\n",
    "[2] Add auxiliary line to compare with slopes: $\\frac{1}{\\tau_1}$ and $\\frac{1}{\\tau_2}$\n",
    "\n",
    "[3] Add log plot to visualize slopes: $\\frac{1}{\\tau_1}$ and $\\frac{1}{\\tau_2}$\n",
    "\n",
    "[4] Add sanity check for pressue of elastic branch and Maxwell branches(optional) "
   ]
  },
  {
   "cell_type": "code",
   "execution_count": 1,
   "metadata": {},
   "outputs": [
    {
     "name": "stderr",
     "output_type": "stream",
     "text": [
      "/var/folders/8h/9pns8j3d2sl62pk5rmmfs01h0000gn/T/ipykernel_37404/729577250.py:45: RuntimeWarning: divide by zero encountered in divide\n",
      "  kernel_fourier = 2 / (E_star * np.sqrt(QX**2 + QY**2))\n"
     ]
    }
   ],
   "source": [
    "import numpy as np\n",
    "import matplotlib.pyplot as plt\n",
    "from matplotlib.animation import FuncAnimation\n",
    "#define input parameters\n",
    "##time\n",
    "t0 = 0\n",
    "t1 = 5\n",
    "time_steps = 300\n",
    "dt = (t1 - t0)/time_steps\n",
    "##load(constant)\n",
    "W = 1e0  # Total load\n",
    "\n",
    "#domain size\n",
    "R = 1  # Radius of demi-sphere\n",
    "L = 2  # Domain size\n",
    "Radius = 0.5\n",
    "S = L**2  # Domain area\n",
    "\n",
    "# Generate a 2D coordinate space\n",
    "n = 300\n",
    "m = 300\n",
    "\n",
    "x, y = np.meshgrid(np.linspace(0, L, n, endpoint=False), np.linspace(0, L, m, endpoint=False))\n",
    "\n",
    "x0 = 1\n",
    "y0 = 1\n",
    "\n",
    "E = 3  # Young's modulus\n",
    "nu = 0.5\n",
    "E_star = E / (1 - nu**2)  # Plane strain modulus\n",
    "\n"
   ]
  },
  {
   "cell_type": "markdown",
   "metadata": {},
   "source": [
    "##### First just apply for demi-sphere and compare with Hertz"
   ]
  },
  {
   "cell_type": "code",
   "execution_count": null,
   "metadata": {},
   "outputs": [],
   "source": [
    "# We define the distance from the center of the sphere\n",
    "r = np.sqrt((x-x0)**2 + (y-y0)**2)\n",
    "\n",
    "# Define the kernel in the Fourier domain\n",
    "q_x = 2 * np.pi * np.fft.fftfreq(n, d=L/n)\n",
    "q_y = 2 * np.pi * np.fft.fftfreq(m, d=L/m)\n",
    "QX, QY = np.meshgrid(q_x, q_y)\n",
    "\n",
    "kernel_fourier = np.zeros_like(QX)\n",
    "kernel_fourier = 2 / (E_star * np.sqrt(QX**2 + QY**2))\n",
    "kernel_fourier[0, 0] = 0  # Avoid division by zero at the zero frequency\n",
    "\n",
    "h_profile = -(r**2)/(2*Radius)\n",
    "\n",
    "def apply_integration_operator(Origin, kernel_fourier, h_profile):\n",
    "    # Compute the Fourier transform of the input image\n",
    "    Origin2fourier = np.fft.fft2(Origin, norm='ortho')\n",
    "\n",
    "    Middle_fourier = Origin2fourier * kernel_fourier\n",
    "\n",
    "    Middle = np.fft.ifft2(Middle_fourier, norm='ortho').real\n",
    "\n",
    "    Gradient = Middle - h_profile\n",
    "\n",
    "    return Gradient, Origin2fourier#true gradient\n",
    "\n",
    "##define our elastic solver with constrained conjuagte gradient method\n",
    "def contact_solver(n, m, W, S, h_profile, tol=1e-6, iter_max=200):\n",
    "    \n",
    "\n",
    "    # Initial pressure distribution\n",
    "    P = np.full((n, m), W / S)  # Initial guess for the pressure\n",
    "\n",
    "    #initialize the search direction\n",
    "    T = np.zeros((n, m))\n",
    "\n",
    "    #set the norm of surface(to normalze the error)\n",
    "    h_rms = np.std(h_profile)\n",
    "\n",
    "    #initialize G_norm and G_old\n",
    "    G_norm = 0\n",
    "    G_old = 1\n",
    "\n",
    "    #initialize delta\n",
    "    delta = 0\n",
    "\n",
    "    # Initialize variables for the iteration\n",
    "    k = 0  # Iteration counter\n",
    "    error = np.inf  # Initialize error\n",
    "    h_rms = np.std(h_profile)\n",
    "\n",
    "    while np.abs(error) > tol and k < iter_max:\n",
    "        S = P > 0\n",
    "\n",
    "        G, P_fourier = apply_integration_operator(P, kernel_fourier, h_profile)\n",
    "\n",
    "        G -= G[S].mean()\n",
    "\n",
    "        G_norm = np.linalg.norm(G[S])**2\n",
    "\n",
    "        # Calculate the search direction\n",
    "        T[S] = G[S] + delta * G_norm / G_old * T[S]\n",
    "        T[~S] = 0  ## out of contact area, dont need to update\n",
    "\n",
    "        # Update G_old\n",
    "        G_old = G_norm\n",
    "\n",
    "        # Set R\n",
    "        R, T_fourier  = apply_integration_operator(T, kernel_fourier, h_profile)\n",
    "        R += h_profile\n",
    "        R -= R[S].mean()\n",
    "\n",
    "        # Calculate the step size tau\n",
    "        tau = np.vdot(G[S], T[S]) / np.vdot(R[S], T[S])\n",
    "\n",
    "        # Update P\n",
    "        P -= tau * T        \n",
    "        P *= P > 0\n",
    "\n",
    "        # identify the inadmissible points\n",
    "        R = (P == 0) & (G < 0)\n",
    "\n",
    "        if R.sum() == 0:\n",
    "            delta = 1\n",
    "        else:\n",
    "            delta = 0#change the contact point set and need to do conjugate gradient again\n",
    "\n",
    "        # Enforce the applied force constraint\n",
    "        P = W * P / np.mean(P) / L**2  \n",
    "\n",
    "        # Calculate the error for convergence checking\n",
    "        error = np.vdot(P, (G - np.min(G))) / (P.sum()*h_rms) \n",
    "        print(delta, error, k, np.mean(P), np.mean(P>0), tau)\n",
    "        \n",
    "        k += 1  # Increment the iteration counter\n",
    "\n",
    "    # Ensure a positive gap by updating G\n",
    "    G = G - np.min(G)\n",
    "\n",
    "    displacement_fourier = P_fourier * kernel_fourier\n",
    "    displacement = np.fft.ifft2(displacement_fourier, norm='ortho').real\n",
    "\n",
    "    return displacement, P\n"
   ]
  },
  {
   "cell_type": "markdown",
   "metadata": {},
   "source": [
    "##### In this case, we apply three Maxwell branches:"
   ]
  },
  {
   "cell_type": "code",
   "execution_count": 3,
   "metadata": {},
   "outputs": [
    {
     "name": "stdout",
     "output_type": "stream",
     "text": [
      "G_inf: 2.75  G: [2.75, 2.75, 2.75]\n"
     ]
    }
   ],
   "source": [
    "G_inf = 2.75\n",
    "G = [2.75, 2.75, 2.75]\n",
    "\n",
    "print('G_inf:', G_inf, ' G: ' + str(G))"
   ]
  },
  {
   "cell_type": "markdown",
   "metadata": {},
   "source": [
    "##### And we apply three different relaxation time(time-scale) property: "
   ]
  },
  {
   "cell_type": "code",
   "execution_count": null,
   "metadata": {},
   "outputs": [],
   "source": [
    "tau = [0.01, 1, 2]"
   ]
  },
  {
   "cell_type": "markdown",
   "metadata": {},
   "source": []
  },
  {
   "cell_type": "markdown",
   "metadata": {},
   "source": []
  },
  {
   "cell_type": "code",
   "execution_count": null,
   "metadata": {},
   "outputs": [],
   "source": []
  },
  {
   "cell_type": "markdown",
   "metadata": {},
   "source": [
    "#### Sanity Check for pressure\n",
    "\n"
   ]
  },
  {
   "cell_type": "code",
   "execution_count": null,
   "metadata": {},
   "outputs": [],
   "source": []
  }
 ],
 "metadata": {
  "kernelspec": {
   "display_name": "base",
   "language": "python",
   "name": "python3"
  },
  "language_info": {
   "codemirror_mode": {
    "name": "ipython",
    "version": 3
   },
   "file_extension": ".py",
   "mimetype": "text/x-python",
   "name": "python",
   "nbconvert_exporter": "python",
   "pygments_lexer": "ipython3",
   "version": "3.11.5"
  }
 },
 "nbformat": 4,
 "nbformat_minor": 2
}
